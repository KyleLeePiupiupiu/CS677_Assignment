{
 "cells": [
  {
   "cell_type": "markdown",
   "id": "5d63d17c",
   "metadata": {},
   "source": [
    "# Question1"
   ]
  },
  {
   "cell_type": "code",
   "execution_count": 129,
   "id": "ba3f40c0",
   "metadata": {},
   "outputs": [],
   "source": [
    "import pandas as pd\n",
    "import numpy as np"
   ]
  },
  {
   "cell_type": "code",
   "execution_count": 131,
   "id": "2c45ed3c",
   "metadata": {},
   "outputs": [],
   "source": [
    "goo = pd.read_csv('./GOOGL.csv')\n",
    "spy = pd.read_csv('./spy.csv')\n",
    "goo = goo[['Year','Month', 'Weekday', 'Return']]"
   ]
  },
  {
   "cell_type": "code",
   "execution_count": 45,
   "id": "389f725b",
   "metadata": {},
   "outputs": [],
   "source": [
    "def cutYear(data):\n",
    "    temp = []\n",
    "    for i in range(5):\n",
    "        y = 2016 + i\n",
    "        temp.append(data[data.Year == y])\n",
    "    return temp\n",
    "\n",
    "def cutWeek(data):\n",
    "    m = data[data.Weekday == 'Monday']\n",
    "    t = data[data.Weekday == 'Tuesday']\n",
    "    w = data[data.Weekday == 'Wednesday']\n",
    "    r = data[data.Weekday == 'Thursday']\n",
    "    f = data[data.Weekday == 'Friday']\n",
    "    p(m.Return)\n",
    "    p(t.Return)\n",
    "    p(w.Return)\n",
    "    p(r.Return)\n",
    "    p(f.Return)\n",
    "    print()\n",
    "    \n",
    "def p(data):\n",
    "    print(len(data), data.mean(), data.std())\n",
    "    "
   ]
  },
  {
   "cell_type": "code",
   "execution_count": 46,
   "id": "fcab47c0",
   "metadata": {},
   "outputs": [
    {
     "name": "stdout",
     "output_type": "stream",
     "text": [
      "46 0.0020855947946290783 0.010968171943711197\n",
      "52 0.0030508060751721026 0.011266670713954575\n",
      "52 -0.0004489097791144195 0.01144497608325162\n",
      "51 -0.0016689709967276434 0.012202311467683621\n",
      "51 -0.0016392133844572486 0.015983059746639775\n",
      "\n",
      "46 0.0010595883770229565 0.010171842194564313\n",
      "51 0.0007439070222165712 0.009293581187409404\n",
      "52 0.0028134565875158964 0.008797960412621134\n",
      "51 -0.0006978581678004588 0.008437371985301511\n",
      "51 0.001941222722104924 0.011260675301702501\n",
      "\n",
      "48 -0.002065475640971892 0.017713527651136228\n",
      "51 0.00029844369467028567 0.017918146986321243\n",
      "50 0.002910175832367716 0.019195069558458115\n",
      "51 0.0019139378201311898 0.01670645928306768\n",
      "51 -0.0025021175955607417 0.017292845495859768\n",
      "\n",
      "48 -0.0008219874587580977 0.015467951289060543\n",
      "52 -0.00036873508482969007 0.016231640923672346\n",
      "51 0.0009556137075216898 0.012631691543403682\n",
      "50 0.0029164045008909945 0.009990650285561595\n",
      "51 0.0027514437814780664 0.018869436152136106\n",
      "\n",
      "48 0.0018933683558411789 0.028976239473425765\n",
      "52 0.003277625806375973 0.021543490061167066\n",
      "52 0.0027682522768429116 0.024859357322231792\n",
      "51 -0.0006798174015972868 0.023269507898336025\n",
      "49 -0.000748209193602092 0.023005860264693423\n",
      "\n"
     ]
    }
   ],
   "source": [
    "# R\n",
    "temp = cutYear(goo)\n",
    "for year in temp:\n",
    "    cutWeek(year)\n",
    "    "
   ]
  },
  {
   "cell_type": "code",
   "execution_count": 47,
   "id": "cec224e4",
   "metadata": {},
   "outputs": [
    {
     "name": "stdout",
     "output_type": "stream",
     "text": [
      "26 0.009549538648702205 0.006705658719536839\n",
      "34 0.00896405068985693 0.008630819710436855\n",
      "26 0.007384082531123511 0.005378426045970087\n",
      "19 0.009709179768210237 0.009097722495437709\n",
      "25 0.009525667357851642 0.008390893901291238\n",
      "\n",
      "24 0.008541405136514755 0.006292891129427042\n",
      "29 0.0065222209989879345 0.00525697432846002\n",
      "36 0.006989610767602826 0.005747429131815994\n",
      "25 0.005606634480883726 0.005050777685668917\n",
      "28 0.008585019482684643 0.009599557127822076\n",
      "\n",
      "26 0.010652272240858492 0.006593207082030043\n",
      "25 0.013511930321259158 0.009339214367306\n",
      "29 0.013848388589592371 0.014387460982729824\n",
      "29 0.012623215728982118 0.009849845541794473\n",
      "18 0.015144376639836048 0.010705828007406683\n",
      "\n",
      "23 0.01054222843760417 0.007081237203331764\n",
      "27 0.010263666915087177 0.007520870671057226\n",
      "28 0.009000712807101291 0.009554974418935325\n",
      "32 0.008242804080804689 0.007049759068285901\n",
      "24 0.015439105153359759 0.019999619442813903\n",
      "\n",
      "29 0.01750043849755525 0.016952604028419617\n",
      "30 0.01682389638770582 0.01629316045418811\n",
      "31 0.01643919508072188 0.01922791551639263\n",
      "28 0.013724444871886416 0.010851753042375725\n",
      "26 0.014510656373363632 0.017796063235587085\n",
      "\n"
     ]
    }
   ],
   "source": [
    "# R+\n",
    "temp = cutYear(goo[goo.Return >= 0])\n",
    "for year in temp:\n",
    "    cutWeek(year)"
   ]
  },
  {
   "cell_type": "code",
   "execution_count": 48,
   "id": "80ec0e87",
   "metadata": {},
   "outputs": [
    {
     "name": "stdout",
     "output_type": "stream",
     "text": [
      "20 -0.007617532215665986 0.007100422370684007\n",
      "18 -0.00811865597478813 0.005846784518721833\n",
      "26 -0.00828190208935235 0.010519837874948876\n",
      "32 -0.008424748013409509 0.00810158398273936\n",
      "26 -0.012374675636677334 0.014100030621793703\n",
      "\n",
      "22 -0.007102393542422641 0.006676607915654222\n",
      "22 -0.006872961401709316 0.007868215834830043\n",
      "16 -0.0065828903176796925 0.007075524312941991\n",
      "26 -0.006759870329996791 0.0063185451130571765\n",
      "23 -0.006146877682079083 0.007108028539064383\n",
      "\n",
      "22 -0.01709554131949871 0.014614497516284693\n",
      "26 -0.012406831907819015 0.014693899304017639\n",
      "21 -0.012194975118085377 0.014136731220861615\n",
      "22 -0.012202837605172297 0.012962473778806287\n",
      "33 -0.012127478087595346 0.011647326906877307\n",
      "\n",
      "25 -0.011277066083411384 0.0135997488667782\n",
      "25 -0.011851729244739904 0.015298896352109185\n",
      "23 -0.008838419978923045 0.008241953473301783\n",
      "18 -0.006552750307844458 0.006980410669592091\n",
      "27 -0.008526477437972326 0.007086060064794844\n",
      "\n",
      "19 -0.021927949228880292 0.027456861754744665\n",
      "22 -0.015194561349982911 0.01187184374386961\n",
      "21 -0.017412663290787955 0.01743501722019338\n",
      "23 -0.018215441038881793 0.022372864427293377\n",
      "23 -0.0179973615736503 0.014445071631270151\n",
      "\n"
     ]
    }
   ],
   "source": [
    "# R-\n",
    "temp = cutYear(goo[goo.Return < 0])\n",
    "for year in temp:\n",
    "    cutWeek(year)"
   ]
  },
  {
   "cell_type": "markdown",
   "id": "c96b3deb",
   "metadata": {},
   "source": [
    "# Question3"
   ]
  },
  {
   "cell_type": "code",
   "execution_count": 49,
   "id": "f6c70945",
   "metadata": {},
   "outputs": [
    {
     "name": "stdout",
     "output_type": "stream",
     "text": [
      "236 0.000410855416056486 0.018000615028393185\n",
      "258 0.0014072252712813403 0.0158450539796232\n",
      "257 0.0017943604791233474 0.016374587266055295\n",
      "254 0.00034666172834191175 0.015101232359653136\n",
      "253 -3.37712995442192e-05 0.01763098898973942\n",
      "\n",
      "236 0.0005085962731286974 0.013942719249956206\n",
      "258 0.0012149357929578093 0.011486887082365152\n",
      "257 0.0009062991000837473 0.011136959300122876\n",
      "254 -2.1399086239835314e-05 0.011699445403099239\n",
      "253 0.0005557913031338394 0.01113281347510457\n",
      "\n"
     ]
    }
   ],
   "source": [
    "cutWeek(goo)\n",
    "cutWeek(spy)"
   ]
  },
  {
   "cell_type": "code",
   "execution_count": 50,
   "id": "40399b61",
   "metadata": {},
   "outputs": [
    {
     "name": "stdout",
     "output_type": "stream",
     "text": [
      "0.05405405405405406\n",
      "0.046104928457869634\n"
     ]
    }
   ],
   "source": [
    "# normal distribution\n",
    "## GOO\n",
    "mu = goo.Return.mean()\n",
    "sig = goo.Return.std()\n",
    "interval = (mu - 2 * sig, mu + 2 * sig)\n",
    "totalDay = len(goo)\n",
    "upOutDay = len(goo[goo.Return > interval[1]])\n",
    "downOutDay = len(goo[goo.Return < interval[0]])\n",
    "print((upOutDay + downOutDay) / totalDay)\n",
    "\n",
    "## SPY\n",
    "mu = spy.Return.mean()\n",
    "sig = spy.Return.std()\n",
    "interval = (mu - 2 * sig, mu + 2 * sig)\n",
    "totalDay = len(spy)\n",
    "upOutDay = len(spy[spy.Return > interval[1]])\n",
    "downOutDay = len(spy[spy.Return < interval[0]])\n",
    "print((upOutDay + downOutDay) / totalDay)\n"
   ]
  },
  {
   "cell_type": "markdown",
   "id": "825e95af",
   "metadata": {},
   "source": [
    "# Question4"
   ]
  },
  {
   "cell_type": "code",
   "execution_count": 51,
   "id": "1f365a1a",
   "metadata": {},
   "outputs": [
    {
     "name": "stdout",
     "output_type": "stream",
     "text": [
      "172704.8264224978\n",
      "11985.075398187086\n"
     ]
    }
   ],
   "source": [
    "# GOO\n",
    "d = goo\n",
    "d = d[d.Return >= 0]\n",
    "r = d.Return\n",
    "totalFund = 100\n",
    "for rr in r:\n",
    "    totalFund = totalFund * (1 + rr)\n",
    "print(totalFund)\n",
    "\n",
    "# SPY\n",
    "d = spy\n",
    "d = d[d.Return >= 0]\n",
    "r = d.Return\n",
    "totalFund = 100\n",
    "for rr in r:\n",
    "    totalFund = totalFund * (1 + rr)\n",
    "print(totalFund)"
   ]
  },
  {
   "cell_type": "code",
   "execution_count": 52,
   "id": "91d58638",
   "metadata": {},
   "outputs": [
    {
     "name": "stdout",
     "output_type": "stream",
     "text": [
      "69\n",
      "113\n"
     ]
    }
   ],
   "source": [
    "# BU id, mine is 94\n",
    "## GOO\n",
    "d = goo\n",
    "d = d[d.Return >= 0]\n",
    "r = d.Return\n",
    "totalFund = 100\n",
    "day = 0\n",
    "for rr in r:\n",
    "    totalFund = totalFund * (1 + rr)\n",
    "    if totalFund >= 194:\n",
    "        break\n",
    "    day = day + 1\n",
    "print(day)\n",
    "\n",
    "## SPY\n",
    "d = spy\n",
    "d = d[d.Return >= 0]\n",
    "r = d.Return\n",
    "totalFund = 100\n",
    "day = 0\n",
    "for rr in r:\n",
    "    totalFund = totalFund * (1 + rr)\n",
    "    if totalFund >= 194:\n",
    "        break\n",
    "    day = day + 1\n",
    "print(day)\n"
   ]
  },
  {
   "cell_type": "markdown",
   "id": "a2ed1ca9",
   "metadata": {},
   "source": [
    "# Question5"
   ]
  },
  {
   "cell_type": "code",
   "execution_count": 53,
   "id": "9707a727",
   "metadata": {},
   "outputs": [
    {
     "name": "stdout",
     "output_type": "stream",
     "text": [
      "228.6224052483995\n",
      "203.81488628149808\n"
     ]
    }
   ],
   "source": [
    "# BH\n",
    "## GOO\n",
    "d = goo\n",
    "r = d.Return\n",
    "totalFund = 100\n",
    "for rr in r:\n",
    "    totalFund = totalFund * (1 + rr)\n",
    "print(totalFund)\n",
    "\n",
    "## SPY\n",
    "d = spy\n",
    "r = d.Return\n",
    "totalFund = 100\n",
    "for rr in r:\n",
    "    totalFund = totalFund * (1 + rr)\n",
    "print(totalFund)"
   ]
  },
  {
   "cell_type": "code",
   "execution_count": 73,
   "id": "6e783561",
   "metadata": {},
   "outputs": [
    {
     "name": "stdout",
     "output_type": "stream",
     "text": [
      "163.53781664428936\n",
      "143.4395491315635\n"
     ]
    }
   ],
   "source": [
    "# Summer Vacation\n",
    "## GOO\n",
    "d = goo\n",
    "d = d[(d.Month != 6) & (d.Month != 7) & (d.Month != 8)]\n",
    "r = d.Return\n",
    "totalFund = 100\n",
    "for rr in r:\n",
    "    totalFund = totalFund * (1 + rr)\n",
    "print(totalFund)\n",
    "\n",
    "\n",
    "## SPY\n",
    "d = spy\n",
    "d = d[(d.Month != 6) & (d.Month != 7) & (d.Month != 8)]\n",
    "r = d.Return\n",
    "totalFund = 100\n",
    "for rr in r:\n",
    "    totalFund = totalFund * (1 + rr)\n",
    "print(totalFund)\n"
   ]
  },
  {
   "cell_type": "code",
   "execution_count": 76,
   "id": "d53dfea3",
   "metadata": {},
   "outputs": [
    {
     "name": "stdout",
     "output_type": "stream",
     "text": [
      "170.33801366995579\n",
      "269.75438436436156\n",
      "251.54745591104273\n",
      "194.84706730170495\n",
      "190.79455702357154\n",
      "260.01313538553313\n",
      "155.77141273379027\n",
      "211.04386280882227\n",
      "243.71336707300628\n",
      "208.31691263012112\n",
      "207.92405423123208\n",
      "230.02890950637024\n",
      "\n",
      "170.33801366995579\n",
      "269.75438436436156\n",
      "251.54745591104273\n",
      "194.84706730170495\n",
      "190.79455702357154\n",
      "260.01313538553313\n",
      "155.77141273379027\n",
      "211.04386280882227\n",
      "243.71336707300628\n",
      "208.31691263012112\n",
      "207.92405423123208\n",
      "230.02890950637024\n"
     ]
    }
   ],
   "source": [
    "# Vacation on each month\n",
    "## GOO\n",
    "for month in range(12):\n",
    "    month = month + 1\n",
    "    d = goo\n",
    "    d = d[d.Month != month]\n",
    "    r = d.Return\n",
    "    totalFund = 100\n",
    "    for rr in r:\n",
    "        totalFund = totalFund * (1 + rr)\n",
    "    print(totalFund)\n",
    "\n",
    "print()\n",
    "## SPY\n",
    "for month in range(12):\n",
    "    month = month + 1\n",
    "    d = goo\n",
    "    d = d[d.Month != month]\n",
    "    r = d.Return\n",
    "    totalFund = 100\n",
    "    for rr in r:\n",
    "        totalFund = totalFund * (1 + rr)\n",
    "    print(totalFund)\n",
    "\n",
    "\n"
   ]
  },
  {
   "cell_type": "markdown",
   "id": "7214a0c4",
   "metadata": {},
   "source": [
    "# Quesiton6"
   ]
  },
  {
   "cell_type": "code",
   "execution_count": 105,
   "id": "3efd189e",
   "metadata": {},
   "outputs": [],
   "source": [
    "import random\n",
    "random.seed(1)\n",
    "def oracle(data, p):\n",
    "    orableLable = []\n",
    "    for i in range(len(data)):\n",
    "        r = random.uniform(0,1)\n",
    "        if p >= r:\n",
    "            orableLable.append(1)\n",
    "        else:\n",
    "            orableLable.append(0)\n",
    "    \n",
    "    return orableLable\n",
    "\n"
   ]
  },
  {
   "cell_type": "code",
   "execution_count": 108,
   "id": "8faa5aae",
   "metadata": {},
   "outputs": [
    {
     "name": "stdout",
     "output_type": "stream",
     "text": [
      "p = 0, return = 0.13237754264557008\n",
      "p = 0.1, return = 0.5374490398371754\n",
      "p = 0.2, return = 1.8251119901068449\n",
      "p = 0.3, return = 8.001334789841101\n",
      "p = 0.4, return = 22.80938680478679\n",
      "p = 0.5, return = 97.07045830665287\n",
      "p = 0.6, return = 800.3803876837064\n",
      "p = 0.7, return = 2509.556241609829\n",
      "p = 0.8, return = 9344.839358811654\n",
      "p = 0.9, return = 29835.95455166942\n",
      "p = 1, return = 172704.82642249842\n",
      "\n",
      "p = 0, return = 1.700572416192957\n",
      "p = 0.1, return = 3.9628107468283797\n",
      "p = 0.2, return = 10.390009066218244\n",
      "p = 0.3, return = 27.527745073084393\n",
      "p = 0.4, return = 52.574410050607845\n",
      "p = 0.5, return = 143.04739625819474\n",
      "p = 0.6, return = 364.79060954962847\n",
      "p = 0.7, return = 910.3442980975918\n",
      "p = 0.8, return = 2202.64810747146\n",
      "p = 0.9, return = 4684.925001390636\n",
      "p = 1, return = 11985.075398187117\n"
     ]
    }
   ],
   "source": [
    "pList = [0,0.1,0.2,0.3,0.4,0.5,0.6,0.7,0.8,0.9,1]\n",
    "\n",
    "# GOO\n",
    "d = goo\n",
    "for p in pList:\n",
    "    oLabel = oracle(d, p)\n",
    "    totalR = 1\n",
    "    fund = 100\n",
    "    for (r, o) in zip(d.Return, oLabel):\n",
    "        if (r >= 0) & (o == 1):\n",
    "            totalR = totalR * (1 + r)\n",
    "        elif (r >= 0) & (o == 0):\n",
    "            continue\n",
    "        elif (r <= 0) & (o == 1):\n",
    "            continue\n",
    "        elif (r <= 0) & (o == 0):\n",
    "            totalR = totalR * (1 + r)\n",
    "       \n",
    "    print('p = {}, return = {}'.format(p, fund * totalR))\n",
    "print()\n",
    "# SPY\n",
    "d = spy\n",
    "for p in pList:\n",
    "    oLabel = oracle(d, p)\n",
    "    totalR = 1\n",
    "    fund = 100\n",
    "    for (r, o) in zip(d.Return, oLabel):\n",
    "        if (r >= 0) & (o == 1):\n",
    "            totalR = totalR * (1 + r)\n",
    "        elif (r >= 0) & (o == 0):\n",
    "            continue\n",
    "        elif (r <= 0) & (o == 1):\n",
    "            continue\n",
    "        elif (r <= 0) & (o == 0):\n",
    "            totalR = totalR * (1 + r)\n",
    "       \n",
    "    print('p = {}, return = {}'.format(p, fund * totalR))"
   ]
  },
  {
   "cell_type": "markdown",
   "id": "96e8880a",
   "metadata": {},
   "source": [
    "# Quesiton7"
   ]
  },
  {
   "cell_type": "code",
   "execution_count": 119,
   "id": "9f4c3418",
   "metadata": {},
   "outputs": [
    {
     "name": "stdout",
     "output_type": "stream",
     "text": [
      "86829.42753769163\n",
      "6849.917999303676\n"
     ]
    }
   ],
   "source": [
    "# best 10\n",
    "## GOO\n",
    "d = goo\n",
    "d = d[d.Return >= 0].Return\n",
    "t = d.nlargest(10).index\n",
    "d = d.drop(index=t)\n",
    "totalR = 1\n",
    "for r in d:\n",
    "    totalR = totalR * (1 + r)\n",
    "print(100 * totalR)\n",
    "\n",
    "## SPY\n",
    "d = spy\n",
    "d = d[d.Return >= 0].Return\n",
    "t = d.nlargest(10).index\n",
    "d = d.drop(index=t)\n",
    "totalR = 1\n",
    "for r in d:\n",
    "    totalR = totalR * (1 + r)\n",
    "print(100 * totalR)"
   ]
  },
  {
   "cell_type": "code",
   "execution_count": 122,
   "id": "4712c54c",
   "metadata": {},
   "outputs": [
    {
     "name": "stdout",
     "output_type": "stream",
     "text": [
      "86397.200118413\n",
      "6333.20721815803\n"
     ]
    }
   ],
   "source": [
    "# Worst 10\n",
    "## GOO\n",
    "d = goo\n",
    "t = d.Return.nsmallest(10)\n",
    "d = d[d.Return >= 0].Return\n",
    "totalR = 1\n",
    "for r in d:\n",
    "    totalR = totalR * (1 + r)\n",
    "for r in t:\n",
    "    totalR = totalR * (1 + r)\n",
    "print(100 * totalR)\n",
    "\n",
    "## SPY\n",
    "d = spy\n",
    "t = d.Return.nsmallest(10)\n",
    "d = d[d.Return >= 0].Return\n",
    "totalR = 1\n",
    "for r in d:\n",
    "    totalR = totalR * (1 + r)\n",
    "for r in t:\n",
    "    totalR = totalR * (1 + r)\n",
    "print(100 * totalR)"
   ]
  },
  {
   "cell_type": "code",
   "execution_count": 128,
   "id": "61d16117",
   "metadata": {},
   "outputs": [
    {
     "name": "stdout",
     "output_type": "stream",
     "text": [
      "75409.78790529727\n",
      "5648.880590052403\n"
     ]
    }
   ],
   "source": [
    "# best 5 worst 5 \n",
    "## GOO\n",
    "d = goo\n",
    "t = d.Return.nsmallest(5)\n",
    "d = d[d.Return >= 0].Return\n",
    "i = d.nlargest(5).index\n",
    "d = d.drop(index=i)\n",
    "totalR = 1\n",
    "for r in d:\n",
    "    totalR = totalR * (1 + r)\n",
    "for r in t:\n",
    "    totalR = totalR * (1 + r)\n",
    "print(100 * totalR)\n",
    "\n",
    "## SPY\n",
    "d = spy\n",
    "t = d.Return.nsmallest(5)\n",
    "d = d[d.Return >= 0].Return\n",
    "i = d.nlargest(5).index\n",
    "d = d.drop(index=i)\n",
    "totalR = 1\n",
    "for r in d:\n",
    "    totalR = totalR * (1 + r)\n",
    "for r in t:\n",
    "    totalR = totalR * (1 + r)\n",
    "print(100 * totalR)\n"
   ]
  }
 ],
 "metadata": {
  "kernelspec": {
   "display_name": "Python 3",
   "language": "python",
   "name": "python3"
  },
  "language_info": {
   "codemirror_mode": {
    "name": "ipython",
    "version": 3
   },
   "file_extension": ".py",
   "mimetype": "text/x-python",
   "name": "python",
   "nbconvert_exporter": "python",
   "pygments_lexer": "ipython3",
   "version": "3.8.8"
  }
 },
 "nbformat": 4,
 "nbformat_minor": 5
}
