{
 "cells": [
  {
   "cell_type": "code",
   "execution_count": 268,
   "metadata": {},
   "outputs": [],
   "source": [
    "import pandas as pd\n",
    "import numpy as np\n",
    "import sklearn.neighbors\n",
    "from sklearn.model_selection import train_test_split\n",
    "from sklearn.neighbors import KNeighborsClassifier\n",
    "from sklearn.metrics import accuracy_score\n",
    "import matplotlib.pyplot as plt\n",
    "from sklearn.metrics import confusion_matrix\n",
    "from sklearn.preprocessing import StandardScaler, LabelEncoder\n",
    "from sklearn.neighbors import NearestCentroid\n",
    "import math\n",
    "scaler = StandardScaler()\n",
    "\n",
    "def proficCalculator(data, fund):\n",
    "    # Week 0 case\n",
    "    week1Data = data[0]\n",
    "    week1Label = week1Data.Label[0] # week 0 label\n",
    "\n",
    "    if week1Label == 1:\n",
    "        stock = True\n",
    "        buyPrice = week1Data.Close[0] # week 0 first day price\n",
    "        sellPrice = week1Data.Close[len(week1Data)-1] # week 0 last day price\n",
    "    else:\n",
    "        stock = False\n",
    "        buyPrice = week1Data.Close[len(week1Data)-1] # week 0 last day price\n",
    "        sellPrice = week1Data.Close[len(week1Data)-1] # week 0 last day price\n",
    "\n",
    "\n",
    "    for df in data[1:]:\n",
    "        nextWeekColor = df.Label[0]\n",
    "        nextClosePrice = df.Close[len(df)-1]\n",
    "\n",
    "        # stock + green = no action\n",
    "        if (stock == True) and (nextWeekColor == 1):\n",
    "            stock == True # Keep holding the stock\n",
    "            buyPrice = buyPrice # Buy point stay\n",
    "            sellPrice = nextClosePrice # Sell point move forward\n",
    "\n",
    "        # stock + red = sell\n",
    "        elif (stock == True) and (nextWeekColor == 0):\n",
    "            r = 1 + (sellPrice - buyPrice) / sellPrice\n",
    "            fund = fund * r\n",
    "            buyPrice = nextClosePrice\n",
    "            sellPrice = nextClosePrice\n",
    "            stock = False\n",
    "            \n",
    "        # money + green = buy stock\n",
    "        elif (stock == False) and (nextWeekColor == 1):\n",
    "            buyPrice = buyPrice\n",
    "            sellPrice = nextClosePrice\n",
    "            stock = True\n",
    "        # money + red = no action\n",
    "        elif (stock == False) and (nextWeekColor == 0):\n",
    "            buyPrice = nextClosePrice\n",
    "            sellPrice = nextClosePrice\n",
    "            stock = False\n",
    "\n",
    "    # Last withdraw\n",
    "    r = 1 + (sellPrice - buyPrice) / sellPrice\n",
    "    fund = fund * r\n",
    "    return fund\n",
    "    \n",
    "def labelMapping(year, week, label):\n",
    "    labelMap = {}\n",
    "    for (y, w, l) in zip(year, week, label):\n",
    "        key = (y, w)\n",
    "        value = l\n",
    "        labelMap[key] = value\n",
    "    return labelMap\n",
    "\n",
    "def cutWeek(weekNumber, data):\n",
    "    weekdata = []\n",
    "    for i in range(weekNumber):\n",
    "         temp = data[data.Week_Number == i]\n",
    "         temp = temp.reset_index(drop=True)\n",
    "         weekdata.append(temp)\n",
    "    return weekdata\n",
    "\n",
    "# minkowski setting\n",
    "def minkowski_p(a,b,p):\n",
    "    return np.linalg.norm(a-b, ord=p)\n",
    "p = 1.5\n",
    "knn_Minkowski_p = KNeighborsClassifier(n_neighbors=3, \n",
    "                                        metric = lambda a,b: minkowski_p(a,b,p)) "
   ]
  },
  {
   "cell_type": "code",
   "execution_count": 269,
   "metadata": {},
   "outputs": [],
   "source": [
    "df = pd.read_csv('./GOOGL_weekly_return_volatility.csv')\n",
    "year1 = df[df.Year == 2019]\n",
    "year2 = df[df.Year == 2020]"
   ]
  },
  {
   "cell_type": "markdown",
   "metadata": {},
   "source": [
    "# Quesiton1 Manhatten"
   ]
  },
  {
   "cell_type": "code",
   "execution_count": 270,
   "metadata": {},
   "outputs": [
    {
     "name": "stdout",
     "output_type": "stream",
     "text": [
      "[0.8636363636363636, 0.8636363636363636, 0.9090909090909091, 0.9545454545454546, 1.0]\n",
      "0.7924528301886793\n",
      "[[21  4]\n",
      " [ 7 21]]\n",
      "TPR = 0.75, TNR = 0.84, k = 11\n",
      "Using Label regular KNN: 229.69001446054642\n"
     ]
    },
    {
     "data": {
      "image/png": "[encoded data removed]",
      "text/plain": [
       "<Figure size 432x288 with 1 Axes>"
      ]
     },
     "metadata": {
      "needs_background": "light"
     },
     "output_type": "display_data"
    }
   ],
   "source": [
    "# Regular KNN\n",
    "kList = [3,5,7,9,11]\n",
    "accuracy = []\n",
    "\n",
    "x = year1[['mean_return', 'volatility']]\n",
    "scaler.fit(x)\n",
    "x = scaler.transform(x)\n",
    "\n",
    "y = year1.label\n",
    "xTrain, xTest, yTrain, yTest = train_test_split(x, y, test_size=0.4, random_state=0)\n",
    "\n",
    "for k in kList:\n",
    "    knn = KNeighborsClassifier(n_neighbors=k)\n",
    "    knn.fit(xTrain, yTrain)\n",
    "    yPredict = knn.predict(xTest)\n",
    "    accuracy.append(accuracy_score(yTest, yPredict))\n",
    "\n",
    "plt.plot(kList, accuracy)\n",
    "print(accuracy)\n",
    "\n",
    "## Optimal k is 11\n",
    "\n",
    "x = year1[['mean_return', 'volatility']]\n",
    "scaler.fit(x)\n",
    "x = scaler.transform(x)\n",
    "y = year1.label\n",
    "xTest = year2[['mean_return', 'volatility']]\n",
    "scaler.fit(xTest)\n",
    "xTest = scaler.transform(xTest)\n",
    "yTest = year2.label\n",
    "\n",
    "knn = KNeighborsClassifier(n_neighbors=11)\n",
    "knn.fit(x, y)\n",
    "yPredict = knn.predict(xTest)\n",
    "\n",
    "accuracy = accuracy_score(yTest, yPredict)\n",
    "print(accuracy)\n",
    "\n",
    "## Confusion Matrix I choose \n",
    "temp = confusion_matrix(yTest, yPredict)\n",
    "print(temp)\n",
    "\n",
    "tn = temp[0][0]\n",
    "fn = temp[1][0]\n",
    "tp = temp[1][1]\n",
    "fp = temp[0][1]\n",
    "\n",
    "tpr = tp / (tp + fn)\n",
    "tnr = tn / (tn + fp)\n",
    "\n",
    "print('TPR = {}, TNR = {}, k = 11'.format(tpr, tnr))\n",
    "\n",
    "\n",
    "\n",
    "## trade with regular KNN\n",
    "dfDetail = pd.read_csv('./GOOGL_weekly_return_volatility_detailed.csv')\n",
    "year2Detail = dfDetail[dfDetail.Year == 2020]\n",
    "year2Detail = year2Detail.reset_index(drop = True)\n",
    "## Add label to detail\n",
    "lMap = labelMapping(year2.Year, year2.Week_Number, yPredict)\n",
    "temp = []\n",
    "for (y, w) in zip(year2Detail.Year, year2Detail.Week_Number):\n",
    "    key = (y, w)\n",
    "    temp.append(lMap[key]) \n",
    "year2Detail['Label'] = temp\n",
    "year2Detail = year2Detail[['Year', 'Week_Number', 'Close', 'Label']]\n",
    "## Cut goo2020\n",
    "goo2020Week = cutWeek(53, year2Detail)\n",
    "## trading base on Manhattan KNN label\n",
    "total = proficCalculator(goo2020Week, 100)\n",
    "print(\"Using Label regular KNN: {}\".format(total))\n",
    "\n",
    "\n"
   ]
  },
  {
   "cell_type": "code",
   "execution_count": 271,
   "metadata": {},
   "outputs": [
    {
     "name": "stdout",
     "output_type": "stream",
     "text": [
      "[0.9090909090909091, 0.9090909090909091, 1.0, 1.0, 1.0]\n",
      "0.8113207547169812\n",
      "[[22  3]\n",
      " [ 7 21]]\n",
      "TPR = 0.75, TNR = 0.88, k = 7\n"
     ]
    },
    {
     "data": {
      "image/png": "[encoded data removed]",
      "text/plain": [
       "<Figure size 432x288 with 1 Axes>"
      ]
     },
     "metadata": {
      "needs_background": "light"
     },
     "output_type": "display_data"
    }
   ],
   "source": [
    "# Manhantten knn\n",
    "kList = [3,5,7,9, 11]\n",
    "accuracy = []\n",
    "\n",
    "x = year1[['mean_return', 'volatility']]\n",
    "scaler.fit(x)\n",
    "x = scaler.transform(x)\n",
    "\n",
    "y = year1.label\n",
    "xTrain, xTest, yTrain, yTest = train_test_split(x, y, test_size=0.4, random_state=0)\n",
    "\n",
    "for k in kList:\n",
    "    knn = KNeighborsClassifier(n_neighbors=k, p = 1)\n",
    "    knn.fit(xTrain, yTrain)\n",
    "    yPredict = knn.predict(xTest)\n",
    "    accuracy.append(accuracy_score(yTest, yPredict))\n",
    "\n",
    "plt.plot(kList, accuracy)\n",
    "print(accuracy)\n",
    "\n",
    "## Optimal k is 7\n",
    "\n",
    "x = year1[['mean_return', 'volatility']]\n",
    "scaler.fit(x)\n",
    "x = scaler.transform(x)\n",
    "y = year1.label\n",
    "xTest = year2[['mean_return', 'volatility']]\n",
    "scaler.fit(xTest)\n",
    "xTest = scaler.transform(xTest)\n",
    "yTest = year2.label\n",
    "\n",
    "knn = KNeighborsClassifier(n_neighbors=7, p = 1)\n",
    "knn.fit(x, y)\n",
    "yPredict = knn.predict(xTest)\n",
    "\n",
    "accuracy = accuracy_score(yTest, yPredict)\n",
    "print(accuracy)\n",
    "\n",
    "## Confusion Matrix I choose \n",
    "temp = confusion_matrix(yTest, yPredict)\n",
    "print(temp)\n",
    "\n",
    "tn = temp[0][0]\n",
    "fn = temp[1][0]\n",
    "tp = temp[1][1]\n",
    "fp = temp[0][1]\n",
    "\n",
    "tpr = tp / (tp + fn)\n",
    "tnr = tn / (tn + fp)\n",
    "\n",
    "print('TPR = {}, TNR = {}, k = 7'.format(tpr, tnr))"
   ]
  },
  {
   "cell_type": "code",
   "execution_count": 272,
   "metadata": {},
   "outputs": [
    {
     "name": "stdout",
     "output_type": "stream",
     "text": [
      "Using Label Manhattan KNN: 233.65539184081408\n",
      "Buy on first day and Sell on last day: 121.17033527942765\n"
     ]
    }
   ],
   "source": [
    "# Strategy check\n",
    "dfDetail = pd.read_csv('./GOOGL_weekly_return_volatility_detailed.csv')\n",
    "year2Detail = dfDetail[dfDetail.Year == 2020]\n",
    "year2Detail = year2Detail.reset_index(drop = True)\n",
    "\n",
    "## Add label to detail\n",
    "lMap = labelMapping(year2.Year, year2.Week_Number, yPredict)\n",
    "temp = []\n",
    "for (y, w) in zip(year2Detail.Year, year2Detail.Week_Number):\n",
    "    key = (y, w)\n",
    "    temp.append(lMap[key]) \n",
    "year2Detail['Label'] = temp\n",
    "year2Detail = year2Detail[['Year', 'Week_Number', 'Close', 'Label']]\n",
    "\n",
    "## Cut goo2020\n",
    "goo2020Week = cutWeek(53, year2Detail)\n",
    "\n",
    "\n",
    "\n",
    "\n",
    "## trading base on Manhattan KNN label\n",
    "total = proficCalculator(goo2020Week, 100)\n",
    "print(\"Using Label Manhattan KNN: {}\".format(total))\n",
    "\n",
    "## trding BH\n",
    "firstWeek = goo2020Week[0]\n",
    "firstClose = firstWeek.Close[0]\n",
    "\n",
    "lastWeek = goo2020Week[-1]\n",
    "lastClose = lastWeek.Close[len(lastWeek)-1]\n",
    "\n",
    "r = 1 + (lastClose - firstClose) / lastClose\n",
    "total = 100 * r\n",
    "print(\"Buy on first day and Sell on last day: {}\".format(total))\n"
   ]
  },
  {
   "cell_type": "markdown",
   "metadata": {},
   "source": [
    "# Question2 Minkowski p = 1.5"
   ]
  },
  {
   "cell_type": "code",
   "execution_count": 273,
   "metadata": {},
   "outputs": [
    {
     "name": "stdout",
     "output_type": "stream",
     "text": [
      "[0.8636363636363636, 0.9090909090909091, 0.9545454545454546, 1.0, 1.0]\n"
     ]
    },
    {
     "data": {
      "image/png": "[encoded data removed]",
      "text/plain": [
       "<Figure size 432x288 with 1 Axes>"
      ]
     },
     "metadata": {
      "needs_background": "light"
     },
     "output_type": "display_data"
    }
   ],
   "source": [
    "# Year1 accuracy\n",
    "kList = [3,5,7,9,11]\n",
    "accuracy = []\n",
    "\n",
    "\n",
    "\n",
    "\n",
    "x = year1[['mean_return', 'volatility']]\n",
    "scaler.fit(x)\n",
    "x = scaler.transform(x)\n",
    "\n",
    "y = year1.label\n",
    "xTrain, xTest, yTrain, yTest = train_test_split(x, y, test_size=0.4, random_state=0)\n",
    "\n",
    "for k in kList:\n",
    "    p = 1.5\n",
    "    knn_Minkowski_p = KNeighborsClassifier(n_neighbors=k, metric = lambda a,b: minkowski_p(a,b,p)) \n",
    "    \n",
    "    knn_Minkowski_p.fit(xTrain, yTrain)\n",
    "    yPredict = knn_Minkowski_p.predict(xTest)\n",
    "    accuracy.append(accuracy_score(yTest, yPredict))\n",
    "\n",
    "plt.plot(kList, accuracy)\n",
    "print(accuracy)"
   ]
  },
  {
   "cell_type": "code",
   "execution_count": 274,
   "metadata": {},
   "outputs": [
    {
     "name": "stdout",
     "output_type": "stream",
     "text": [
      "0.7924528301886793\n",
      "[[21  4]\n",
      " [ 7 21]]\n",
      "TPR = 0.75, TNR = 0.84, k = 9\n"
     ]
    }
   ],
   "source": [
    "# Year 2 prediction k = 9\n",
    "x = year1[['mean_return', 'volatility']]\n",
    "scaler.fit(x)\n",
    "x = scaler.transform(x)\n",
    "y = year1.label\n",
    "xTest = year2[['mean_return', 'volatility']]\n",
    "scaler.fit(xTest)\n",
    "xTest = scaler.transform(xTest)\n",
    "yTest = year2.label\n",
    "\n",
    "knn_Minkowski_p = KNeighborsClassifier(n_neighbors=9, metric = lambda a,b: minkowski_p(a,b,p))\n",
    "knn_Minkowski_p.fit(x, y)\n",
    "yPredict = knn_Minkowski_p.predict(xTest)\n",
    "print(accuracy_score(yTest, yPredict))\n",
    "## Confusion Matrix I choose \n",
    "temp = confusion_matrix(yTest, yPredict)\n",
    "print(temp)\n",
    "\n",
    "tn = temp[0][0]\n",
    "fn = temp[1][0]\n",
    "tp = temp[1][1]\n",
    "fp = temp[0][1]\n",
    "\n",
    "tpr = tp / (tp + fn)\n",
    "tnr = tn / (tn + fp)\n",
    "\n",
    "print('TPR = {}, TNR = {}, k = 9'.format(tpr, tnr))"
   ]
  },
  {
   "cell_type": "code",
   "execution_count": 275,
   "metadata": {},
   "outputs": [
    {
     "name": "stdout",
     "output_type": "stream",
     "text": [
      "Using Label Manhattan KNN: 235.35506721992058\n",
      "Buy on first day and Sell on last day: 121.17033527942765\n"
     ]
    }
   ],
   "source": [
    "# Strategy check\n",
    "dfDetail = pd.read_csv('./GOOGL_weekly_return_volatility_detailed.csv')\n",
    "year2Detail = dfDetail[dfDetail.Year == 2020]\n",
    "year2Detail = year2Detail.reset_index(drop = True)\n",
    "\n",
    "## Add label to detail\n",
    "lMap = labelMapping(year2.Year, year2.Week_Number, yPredict)\n",
    "temp = []\n",
    "for (y, w) in zip(year2Detail.Year, year2Detail.Week_Number):\n",
    "    key = (y, w)\n",
    "    temp.append(lMap[key]) \n",
    "year2Detail['Label'] = temp\n",
    "year2Detail = year2Detail[['Year', 'Week_Number', 'Close', 'Label']]\n",
    "\n",
    "## Cut goo2020\n",
    "goo2020Week = cutWeek(53, year2Detail)\n",
    "\n",
    "\n",
    "## trading base on Manhattan KNN label\n",
    "total = proficCalculator(goo2020Week, 100)\n",
    "print(\"Using Label p = 1.5 KNN: {}\".format(total))\n",
    "\n",
    "## trding BH\n",
    "firstWeek = goo2020Week[0]\n",
    "firstClose = firstWeek.Close[0]\n",
    "\n",
    "lastWeek = goo2020Week[-1]\n",
    "lastClose = lastWeek.Close[len(lastWeek)-1]\n",
    "\n",
    "r = 1 + (lastClose - firstClose) / lastClose\n",
    "total = 100 * r\n",
    "print(\"Buy on first day and Sell on last day: {}\".format(total))\n"
   ]
  },
  {
   "cell_type": "markdown",
   "metadata": {},
   "source": [
    "# Question3 Nearest Centroid"
   ]
  },
  {
   "cell_type": "code",
   "execution_count": 276,
   "metadata": {},
   "outputs": [
    {
     "name": "stdout",
     "output_type": "stream",
     "text": [
      "Green Centroid\n",
      "(0.49741049381481467, 1.177831770814815)\n",
      "Red Centroid\n",
      "(-0.3026615384615384, 1.379016029923077)\n",
      "average and mediam\n",
      "0.7289493662019179 0.5145998971085394\n",
      "average and mediam\n",
      "0.7773815584328501 0.6090608424078319\n"
     ]
    }
   ],
   "source": [
    "year1Green = year1[year1.label == 1]\n",
    "greenCentroid = (year1Green.mean_return.mean(), year1Green.volatility.mean())\n",
    "print(\"Green Centroid\")\n",
    "print(greenCentroid)\n",
    "\n",
    "year1Red = year1[year1.label == 0]\n",
    "redCentroid = (year1Red.mean_return.mean(), year1Red.volatility.mean())\n",
    "print(\"Red Centroid\")\n",
    "print(redCentroid)\n",
    "\n",
    "# average and mediam distance\n",
    "## green\n",
    "greenDistance = []\n",
    "for (m, s) in zip(year1Green.mean_return, year1Green.volatility):\n",
    "    t = (m, s)\n",
    "    greenDistance.append(math.dist(t, greenCentroid))\n",
    "print('average and mediam')\n",
    "print(np.mean(greenDistance), np.median(greenDistance))\n",
    "\n",
    "## red\n",
    "redDistance = []\n",
    "for (m, s) in zip(year1Red.mean_return, year1Red.volatility):\n",
    "    t = (m, s)\n",
    "    redDistance.append(math.dist(t, redCentroid))\n",
    "print('average and mediam')\n",
    "print(np.mean(redDistance), np.median(redDistance))\n",
    "\n"
   ]
  },
  {
   "cell_type": "code",
   "execution_count": 277,
   "metadata": {},
   "outputs": [
    {
     "name": "stdout",
     "output_type": "stream",
     "text": [
      "0.7924528301886793\n",
      "[[19  6]\n",
      " [ 5 23]]\n",
      "TPR = 0.8214285714285714, TNR = 0.76, k = 11\n"
     ]
    }
   ],
   "source": [
    "# KNN Centroid\n",
    "x = year1[['mean_return', 'volatility']]\n",
    "scaler.fit(x)\n",
    "x = scaler.transform(x)\n",
    "y = year1.label\n",
    "\n",
    "xTest = year2[['mean_return', 'volatility']]\n",
    "scaler.fit(xTest)\n",
    "xTest = scaler.transform(xTest)\n",
    "yTest = year2.label\n",
    "\n",
    "clf = NearestCentroid()\n",
    "clf.fit(x, y)\n",
    "yPredict = clf.predict(xTest)\n",
    "print(accuracy_score(yTest, yPredict))\n",
    "\n",
    "## Confusion Matrix I choose \n",
    "temp = confusion_matrix(yTest, yPredict)\n",
    "print(temp)\n",
    "\n",
    "tn = temp[0][0]\n",
    "fn = temp[1][0]\n",
    "tp = temp[1][1]\n",
    "fp = temp[0][1]\n",
    "\n",
    "tpr = tp / (tp + fn)\n",
    "tnr = tn / (tn + fp)\n",
    "\n",
    "print('TPR = {}, TNR = {}'.format(tpr, tnr))"
   ]
  },
  {
   "cell_type": "code",
   "execution_count": 278,
   "metadata": {},
   "outputs": [
    {
     "name": "stdout",
     "output_type": "stream",
     "text": [
      "Using Label Manhattan KNN: 239.64550014107087\n",
      "Buy on first day and Sell on last day: 121.17033527942765\n"
     ]
    }
   ],
   "source": [
    "# Strategy check\n",
    "dfDetail = pd.read_csv('./GOOGL_weekly_return_volatility_detailed.csv')\n",
    "year2Detail = dfDetail[dfDetail.Year == 2020]\n",
    "year2Detail = year2Detail.reset_index(drop = True)\n",
    "\n",
    "## Add label to detail\n",
    "lMap = labelMapping(year2.Year, year2.Week_Number, yPredict)\n",
    "temp = []\n",
    "for (y, w) in zip(year2Detail.Year, year2Detail.Week_Number):\n",
    "    key = (y, w)\n",
    "    temp.append(lMap[key]) \n",
    "year2Detail['Label'] = temp\n",
    "year2Detail = year2Detail[['Year', 'Week_Number', 'Close', 'Label']]\n",
    "\n",
    "## Cut goo2020\n",
    "goo2020Week = cutWeek(53, year2Detail)\n",
    "\n",
    "\n",
    "## trading base on Manhattan KNN label\n",
    "total = proficCalculator(goo2020Week, 100)\n",
    "print(\"Using Label Manhattan KNN: {}\".format(total))\n",
    "\n",
    "## trding BH\n",
    "firstWeek = goo2020Week[0]\n",
    "firstClose = firstWeek.Close[0]\n",
    "\n",
    "lastWeek = goo2020Week[-1]\n",
    "lastClose = lastWeek.Close[len(lastWeek)-1]\n",
    "\n",
    "r = 1 + (lastClose - firstClose) / lastClose\n",
    "total = 100 * r\n",
    "print(\"Buy on first day and Sell on last day: {}\".format(total))\n"
   ]
  },
  {
   "cell_type": "markdown",
   "metadata": {},
   "source": [
    "# Question4 Domain Transformation"
   ]
  },
  {
   "cell_type": "code",
   "execution_count": 279,
   "metadata": {},
   "outputs": [
    {
     "name": "stdout",
     "output_type": "stream",
     "text": [
      "[0.8181818181818182, 0.8181818181818182, 0.8181818181818182, 0.9090909090909091, 0.8636363636363636]\n",
      "0.8113207547169812\n",
      "[[20  5]\n",
      " [ 5 23]]\n",
      "TPR = 0.8214285714285714, TNR = 0.8, k = 9\n"
     ]
    },
    {
     "data": {
      "image/png": "[encoded data removed]",
      "text/plain": [
       "<Figure size 432x288 with 1 Axes>"
      ]
     },
     "metadata": {
      "needs_background": "light"
     },
     "output_type": "display_data"
    }
   ],
   "source": [
    "# data setting\n",
    "yearT1 = year1\n",
    "yearT1 = yearT1.assign(xx = yearT1.mean_return**2)\n",
    "yearT1 = yearT1.assign(xy = yearT1.mean_return * yearT1.volatility * math.sqrt(2))\n",
    "yearT1 = yearT1.assign(yy = yearT1.volatility**2)\n",
    "\n",
    "yearT2 = year2\n",
    "yearT2 = yearT2.assign(xx = yearT2.mean_return**2)\n",
    "yearT2 = yearT2.assign(xy = yearT2.mean_return * yearT2.volatility * math.sqrt(2))\n",
    "yearT2 = yearT2.assign(yy = yearT2.volatility**2)\n",
    "\n",
    "\n",
    "\n",
    "# Regular KNN\n",
    "kList = [3,5,7,9,11]\n",
    "accuracy = []\n",
    "\n",
    "x = yearT1[['xx', 'xy', 'yy']]\n",
    "scaler.fit(x)\n",
    "x = scaler.transform(x)\n",
    "\n",
    "y = yearT1.label\n",
    "xTrain, xTest, yTrain, yTest = train_test_split(x, y, test_size=0.4, random_state=0)\n",
    "\n",
    "for k in kList:\n",
    "    knn = KNeighborsClassifier(n_neighbors=k)\n",
    "    knn.fit(xTrain, yTrain)\n",
    "    yPredict = knn.predict(xTest)\n",
    "    accuracy.append(accuracy_score(yTest, yPredict))\n",
    "\n",
    "plt.plot(kList, accuracy)\n",
    "print(accuracy)\n",
    "\n",
    "\n",
    "## Optimal k is 9\n",
    "\n",
    "x = yearT1[['xx', 'xy', 'yy']]\n",
    "scaler.fit(x)\n",
    "x = scaler.transform(x)\n",
    "y = yearT1.label\n",
    "xTest = yearT2[['xx', 'xy', 'yy']]\n",
    "scaler.fit(xTest)\n",
    "xTest = scaler.transform(xTest)\n",
    "yTest = year2.label\n",
    "\n",
    "knn = KNeighborsClassifier(n_neighbors=9)\n",
    "knn.fit(x, y)\n",
    "yPredict = knn.predict(xTest)\n",
    "\n",
    "accuracy = accuracy_score(yTest, yPredict)\n",
    "print(accuracy)\n",
    "\n",
    "\n",
    "## Confusion Matrix I choose \n",
    "temp = confusion_matrix(yTest, yPredict)\n",
    "print(temp)\n",
    "\n",
    "tn = temp[0][0]\n",
    "fn = temp[1][0]\n",
    "tp = temp[1][1]\n",
    "fp = temp[0][1]\n",
    "\n",
    "tpr = tp / (tp + fn)\n",
    "tnr = tn / (tn + fp)\n",
    "\n",
    "print('TPR = {}, TNR = {}, k = 9'.format(tpr, tnr))\n"
   ]
  },
  {
   "cell_type": "code",
   "execution_count": 280,
   "metadata": {},
   "outputs": [
    {
     "name": "stdout",
     "output_type": "stream",
     "text": [
      "Using Label Manhattan KNN: 238.55325493337438\n",
      "Buy on first day and Sell on last day: 121.17033527942765\n"
     ]
    }
   ],
   "source": [
    "# Strategy check\n",
    "dfDetail = pd.read_csv('./GOOGL_weekly_return_volatility_detailed.csv')\n",
    "year2Detail = dfDetail[dfDetail.Year == 2020]\n",
    "year2Detail = year2Detail.reset_index(drop = True)\n",
    "\n",
    "## Add label to detail\n",
    "lMap = labelMapping(year2.Year, year2.Week_Number, yPredict)\n",
    "temp = []\n",
    "for (y, w) in zip(year2Detail.Year, year2Detail.Week_Number):\n",
    "    key = (y, w)\n",
    "    temp.append(lMap[key]) \n",
    "year2Detail['Label'] = temp\n",
    "year2Detail = year2Detail[['Year', 'Week_Number', 'Close', 'Label']]\n",
    "\n",
    "## Cut goo2020\n",
    "goo2020Week = cutWeek(53, year2Detail)\n",
    "\n",
    "\n",
    "\n",
    "\n",
    "## trading base on Manhattan KNN label\n",
    "total = proficCalculator(goo2020Week, 100)\n",
    "print(\"Using Label Manhattan KNN: {}\".format(total))\n",
    "\n",
    "## trding BH\n",
    "firstWeek = goo2020Week[0]\n",
    "firstClose = firstWeek.Close[0]\n",
    "\n",
    "lastWeek = goo2020Week[-1]\n",
    "lastClose = lastWeek.Close[len(lastWeek)-1]\n",
    "\n",
    "r = 1 + (lastClose - firstClose) / lastClose\n",
    "total = 100 * r\n",
    "print(\"Buy on first day and Sell on last day: {}\".format(total))"
   ]
  },
  {
   "cell_type": "markdown",
   "metadata": {},
   "source": [
    "# Question5 k-predicted Neighbors"
   ]
  },
  {
   "cell_type": "code",
   "execution_count": 281,
   "metadata": {},
   "outputs": [],
   "source": [
    "def distanceList(testPoint, xTrainSet):\n",
    "    temp = []\n",
    "    for (m, s) in zip(xTrainSet.mean_return, xTrainSet.volatility):\n",
    "        temp.append((m, s))\n",
    "\n",
    "    dis = []\n",
    "    for t in temp:\n",
    "        d = math.dist(testPoint, t)\n",
    "        dis.append((t[0], t[1], d))\n",
    "\n",
    "    dis = sorted(dis, reverse=False, key = lambda x:x[2])\n",
    "    return dis\n",
    "\n",
    "def kNeighborPoint(testPoint, xTrainSet, k):\n",
    "    d = distanceList(testPoint, xTrainSet)\n",
    "    temp = []\n",
    "    for i in range(k):\n",
    "        node = d[i]\n",
    "        temp.append((node[0], node[1]))\n",
    "    return temp\n",
    "    \n",
    "\n",
    "def kNeighborPridct(testPoint, xTrainSet, yTrainSet, k):\n",
    "    \n",
    "    neighborPoiont = kNeighborPoint(testPoint, xTrainSet, k)\n",
    "\n",
    "    knn = KNeighborsClassifier(n_neighbors=k)\n",
    "    scaler.fit(xTrainSet)\n",
    "    xTrainSet = scaler.transform(xTrainSet)\n",
    "\n",
    "    knn.fit(xTrainSet, yTrainSet)\n",
    "    yPredict = knn.predict(neighborPoiont)\n",
    "\n",
    "    return yPredict\n",
    "\n",
    "def kpn(xTrain, yTrain, xTest, k):\n",
    "    yPredict = []\n",
    "    for (f1, f2) in zip(xTest.mean_return, xTest.volatility):\n",
    "        kNPoint = kNeighborPridct((f1, f2), xTrain, yTrain, k)\n",
    "        if sum(kNPoint) >= k/2:\n",
    "            yPredict.append(1)\n",
    "        else:\n",
    "            yPredict.append(0)\n",
    "    return yPredict\n",
    "        \n"
   ]
  },
  {
   "cell_type": "code",
   "execution_count": 282,
   "metadata": {},
   "outputs": [
    {
     "name": "stdout",
     "output_type": "stream",
     "text": [
      "[0.7272727272727273, 0.6818181818181818, 0.7272727272727273, 0.7272727272727273, 0.5909090909090909]\n",
      "0.7735849056603774\n",
      "[[22  3]\n",
      " [ 9 19]]\n",
      "TPR = 0.6785714285714286, TNR = 0.88, k = 3\n"
     ]
    },
    {
     "data": {
      "image/png": "[encoded data removed]",
      "text/plain": [
       "<Figure size 432x288 with 1 Axes>"
      ]
     },
     "metadata": {
      "needs_background": "light"
     },
     "output_type": "display_data"
    }
   ],
   "source": [
    "# kpn for year 1\n",
    "kList = [3,5,7,9,11]\n",
    "accuracy = []\n",
    "\n",
    "x = year1[['mean_return', 'volatility']]\n",
    "y = year1.label\n",
    "xTrain, xTest, yTrain, yTest = train_test_split(x, y, test_size=0.4, random_state=0)\n",
    "\n",
    "for k in kList:\n",
    "    \n",
    "    yPredict = kpn(xTrain, yTrain, xTest, k)\n",
    "    accuracy.append(accuracy_score(yTest, yPredict))\n",
    "\n",
    "plt.plot(kList, accuracy)\n",
    "print(accuracy)\n",
    "\n",
    "\n",
    "# choose optimal k is 3\n",
    "x = year1[['mean_return', 'volatility']]\n",
    "y = year1.label\n",
    "xTest = year2[['mean_return', 'volatility']]\n",
    "yTest = year2.label\n",
    "\n",
    "yPredict = kpn(x, y, xTest, 3)\n",
    "\n",
    "accuracy = accuracy_score(yTest, yPredict)\n",
    "print(accuracy)\n",
    "\n",
    "\n",
    "## Confusion Matrix I choose \n",
    "temp = confusion_matrix(yTest, yPredict)\n",
    "print(temp)\n",
    "\n",
    "tn = temp[0][0]\n",
    "fn = temp[1][0]\n",
    "tp = temp[1][1]\n",
    "fp = temp[0][1]\n",
    "\n",
    "tpr = tp / (tp + fn)\n",
    "tnr = tn / (tn + fp)\n",
    "\n",
    "print('TPR = {}, TNR = {}, k = 3'.format(tpr, tnr))"
   ]
  },
  {
   "cell_type": "code",
   "execution_count": 283,
   "metadata": {},
   "outputs": [
    {
     "name": "stdout",
     "output_type": "stream",
     "text": [
      "Using Label Manhattan KNN: 200.15101296856818\n",
      "Buy on first day and Sell on last day: 121.17033527942765\n"
     ]
    }
   ],
   "source": [
    "# Strategy check\n",
    "dfDetail = pd.read_csv('./GOOGL_weekly_return_volatility_detailed.csv')\n",
    "year2Detail = dfDetail[dfDetail.Year == 2020]\n",
    "year2Detail = year2Detail.reset_index(drop = True)\n",
    "\n",
    "## Add label to detail\n",
    "lMap = labelMapping(year2.Year, year2.Week_Number, yPredict)\n",
    "temp = []\n",
    "for (y, w) in zip(year2Detail.Year, year2Detail.Week_Number):\n",
    "    key = (y, w)\n",
    "    temp.append(lMap[key]) \n",
    "year2Detail['Label'] = temp\n",
    "year2Detail = year2Detail[['Year', 'Week_Number', 'Close', 'Label']]\n",
    "\n",
    "## Cut goo2020\n",
    "goo2020Week = cutWeek(53, year2Detail)\n",
    "\n",
    "\n",
    "\n",
    "\n",
    "## trading base on Manhattan KNN label\n",
    "total = proficCalculator(goo2020Week, 100)\n",
    "print(\"Using Label Manhattan KNN: {}\".format(total))\n",
    "\n",
    "## trding BH\n",
    "firstWeek = goo2020Week[0]\n",
    "firstClose = firstWeek.Close[0]\n",
    "\n",
    "lastWeek = goo2020Week[-1]\n",
    "lastClose = lastWeek.Close[len(lastWeek)-1]\n",
    "\n",
    "r = 1 + (lastClose - firstClose) / lastClose\n",
    "total = 100 * r\n",
    "print(\"Buy on first day and Sell on last day: {}\".format(total))"
   ]
  },
  {
   "cell_type": "markdown",
   "metadata": {},
   "source": [
    "# Quesiton6 k-hyperplanes"
   ]
  },
  {
   "cell_type": "code",
   "execution_count": 316,
   "metadata": {},
   "outputs": [],
   "source": [
    "def distanceNode(testNode, xTrainNode):\n",
    "    dis = []\n",
    "    for x in xTrainNode:\n",
    "        d = math.dist(testNode.coordinate, x.coordinate)\n",
    "        dis.append((x, d))\n",
    "    dis = sorted(dis, reverse=False, key = lambda x:x[1])\n",
    "    return dis\n",
    "\n",
    "\n",
    "def kNeighborNode(testNode, xTrainNode, k):\n",
    "    d = distanceNode(testNode, xTrainNode)\n",
    "    knei = []\n",
    "    for i in range(k):\n",
    "        knei.append(d[i][0])\n",
    "    return knei\n",
    "\n",
    "def nodePlane(testNode, neighborNode, xTrainNode):\n",
    "    tnCor = testNode.coordinate\n",
    "    nnCor = neighborNode.coordinate\n",
    "    tnCor1, tnCor2 = tnCor[0], tnCor[1]\n",
    "    nnCor1, nnCor2 = nnCor[0], nnCor[1]\n",
    "    keyVector = np.array([tnCor1 - nnCor1, tnCor2 - nnCor2])\n",
    "    negativeNode = []\n",
    "    \n",
    "    for xNode in xTrainNode:\n",
    "        xnCor = xNode.coordinate\n",
    "        xnCor1 = xnCor[0]\n",
    "        xnCor2 = xnCor[1]\n",
    "        sideVector = np.array([xnCor1 - nnCor1, xnCor2 - nnCor2])\n",
    "        dot = np.dot(keyVector, sideVector)\n",
    "        if dot < 0:\n",
    "            negativeNode.append(xNode.label)\n",
    "\n",
    "    if sum(negativeNode) >= len(negativeNode) / 2:\n",
    "         return 1\n",
    "    else:\n",
    "        return 0 \n",
    "        \n",
    "def kHyperPlane(testNodeSet, trainNodeSet, k):\n",
    "    yPredict = []\n",
    "    for tn in testNodeSet:\n",
    "        kNeighbor = kNeighborNode(tn, trainNodeSet, k)\n",
    "        neiLabel = []\n",
    "        for kn in kNeighbor:\n",
    "            neiLabel.append(nodePlane(tn, kn, trainNodeSet))\n",
    "        \n",
    "        if sum(neiLabel) >= len(neiLabel)/2:\n",
    "            yPredict.append(1)\n",
    "        else:\n",
    "            yPredict.append(0)\n",
    "\n",
    "    return yPredict\n",
    "        \n",
    "class node:\n",
    "    def __init__(self, coordinate, label):\n",
    "        self.coordinate = coordinate\n",
    "        self.label = label"
   ]
  },
  {
   "cell_type": "code",
   "execution_count": 317,
   "metadata": {},
   "outputs": [
    {
     "name": "stdout",
     "output_type": "stream",
     "text": [
      "[0.4090909090909091, 0.4090909090909091, 0.4090909090909091, 0.3181818181818182, 0.18181818181818182]\n"
     ]
    },
    {
     "data": {
      "image/png": "[encoded data removed]",
      "text/plain": [
       "<Figure size 432x288 with 1 Axes>"
      ]
     },
     "metadata": {
      "needs_background": "light"
     },
     "output_type": "display_data"
    }
   ],
   "source": [
    "# kHyperplane for year1\n",
    "kList = [3,5,7,9,11]\n",
    "accuracy = []\n",
    "\n",
    "x = year1[['mean_return', 'volatility']]\n",
    "y = year1.label\n",
    "xTrain, xTest, yTrain, yTest = train_test_split(x, y, test_size=0.4, random_state=0)\n",
    "\n",
    "trainNodeSet = []\n",
    "testNodeSet = []\n",
    "for (f1, f2, l) in zip(xTrain.mean_return, xTrain.volatility, yTrain ):\n",
    "    trainNodeSet.append( node( (f1, f2 ) , l ) )\n",
    "for (f1, f2, l) in zip( xTest.mean_return , xTest.volatility , yTest ):\n",
    "    testNodeSet.append( node( ( f1 , f2 ) , l ) )\n",
    "\n",
    "\n",
    "\n",
    "for k in kList:\n",
    "    yPredict = kHyperPlane(testNodeSet, trainNodeSet, k)\n",
    "    accuracy.append(accuracy_score(yTest, yPredict))\n",
    "plt.plot(kList, accuracy)\n",
    "print(accuracy)\n",
    "\n",
    "\n"
   ]
  },
  {
   "cell_type": "code",
   "execution_count": 330,
   "metadata": {},
   "outputs": [
    {
     "name": "stdout",
     "output_type": "stream",
     "text": [
      "0.41509433962264153\n",
      "[[ 8 17]\n",
      " [14 14]]\n",
      "TPR = 0.5, TNR = 0.32, k = 3\n"
     ]
    }
   ],
   "source": [
    "# kHyperplane for year2 k = 3\n",
    "x = year1[['mean_return', 'volatility']]\n",
    "y = year1.label\n",
    "trainNodeSet = []\n",
    "for (f1, f2, l) in zip(x.mean_return, x.volatility, y ):\n",
    "    trainNodeSet.append( node( (f1, f2 ) , l ) )\n",
    "\n",
    "\n",
    "x = year2[['mean_return', 'volatility']]\n",
    "ytest = year2.label\n",
    "testNodeSet = []\n",
    "for (f1, f2, l) in zip(x.mean_return, x.volatility, ytest ):\n",
    "    testNodeSet.append( node( (f1, f2 ) , l ) )\n",
    "\n",
    "yPredict = kHyperPlane(testNodeSet, trainNodeSet, 3)\n",
    "\n",
    "print(accuracy_score(ytest, yPredict))\n",
    "\n",
    "# confusion matrix\n",
    "a = confusion_matrix(ytest, yPredict)\n",
    "print(a)\n",
    "tn = a[0][0]\n",
    "fn = a[1][0]\n",
    "tp = a[1][1]\n",
    "fp = a[0][1]\n",
    "\n",
    "tpr = tp / (tp + fn)\n",
    "tnr = tn / (tn + fp)\n",
    "\n",
    "print('TPR = {}, TNR = {}, k = 3'.format(tpr, tnr))"
   ]
  },
  {
   "cell_type": "code",
   "execution_count": 332,
   "metadata": {},
   "outputs": [
    {
     "name": "stdout",
     "output_type": "stream",
     "text": [
      "Using Label Manhattan KNN: 59.94200186154975\n",
      "Buy on first day and Sell on last day: 121.17033527942765\n"
     ]
    }
   ],
   "source": [
    "#Strategy check\n",
    "dfDetail = pd.read_csv('./GOOGL_weekly_return_volatility_detailed.csv')\n",
    "year2Detail = dfDetail[dfDetail.Year == 2020]\n",
    "year2Detail = year2Detail.reset_index(drop = True)\n",
    "\n",
    "## Add label to detail\n",
    "lMap = labelMapping(year2.Year, year2.Week_Number, yPredict)\n",
    "temp = []\n",
    "for (y, w) in zip(year2Detail.Year, year2Detail.Week_Number):\n",
    "    key = (y, w)\n",
    "    temp.append(lMap[key]) \n",
    "year2Detail['Label'] = temp\n",
    "year2Detail = year2Detail[['Year', 'Week_Number', 'Close', 'Label']]\n",
    "\n",
    "## Cut goo2020\n",
    "goo2020Week = cutWeek(53, year2Detail)\n",
    "\n",
    "\n",
    "\n",
    "\n",
    "## trading base on Manhattan KNN label\n",
    "total = proficCalculator(goo2020Week, 100)\n",
    "print(\"Using Label Manhattan KNN: {}\".format(total))\n",
    "\n",
    "## trding BH\n",
    "firstWeek = goo2020Week[0]\n",
    "firstClose = firstWeek.Close[0]\n",
    "\n",
    "lastWeek = goo2020Week[-1]\n",
    "lastClose = lastWeek.Close[len(lastWeek)-1]\n",
    "\n",
    "r = 1 + (lastClose - firstClose) / lastClose\n",
    "total = 100 * r\n",
    "print(\"Buy on first day and Sell on last day: {}\".format(total))"
   ]
  },
  {
   "cell_type": "markdown",
   "metadata": {},
   "source": [
    "# Question8 - self define\n",
    "\n"
   ]
  },
  {
   "cell_type": "code",
   "execution_count": 426,
   "metadata": {},
   "outputs": [],
   "source": [
    "def circularBool(f1, f2, r, center):\n",
    "    inCircle = False\n",
    "    x = center[0]\n",
    "    y = center[1]\n",
    "    r = r * 0.5\n",
    "\n",
    "    if (f1-x)*(f1-x) + (f2-y)*(f2-y) <= r*r: # (x-x0)**2 + (y-y0)**2 = r*r\n",
    "        inCircle = True\n",
    "    return inCircle\n",
    "\n",
    "def circleFeature(testPointCordinate, trainSet):\n",
    "\n",
    "\n",
    "    dis = []\n",
    "    for (f1, f2) in zip(trainSet.mean_return, trainSet.volatility):\n",
    "        dis.append( math.dist(testPointCordinate, (f1, f2)))\n",
    "    dis = sorted(dis, reverse=False)\n",
    "    r = np.mean(dis)\n",
    "\n",
    "\n",
    "    temp = []\n",
    "    for (f1, f2, label) in zip(trainSet.mean_return, trainSet.volatility, trainSet.label):\n",
    "        inCircle = circularBool(f1, f2, r, testPointCordinate)\n",
    "        if inCircle:\n",
    "            temp.append(label)\n",
    "    if sum(temp) >= len(temp) / 2:\n",
    "        return 1\n",
    "    else:\n",
    "        return 0\n",
    "    \n",
    "\n",
    "def circleNeighbor(testSetCor, trainSet):\n",
    "    yPredict = []\n",
    "    for (f1, f2) in zip(testSetCor.mean_return, testSetCor.volatility):\n",
    "        yPredict.append(circleFeature((f1, f2), trainSet))\n",
    "    return yPredict\n",
    "\n",
    "\n",
    "\n",
    "\n",
    "\n"
   ]
  },
  {
   "cell_type": "code",
   "execution_count": 429,
   "metadata": {},
   "outputs": [
    {
     "name": "stdout",
     "output_type": "stream",
     "text": [
      "0.7735849056603774\n",
      "[[18  7]\n",
      " [ 5 23]]\n",
      "TPR = 0.8214285714285714, TNR = 0.72, k = 3\n"
     ]
    }
   ],
   "source": [
    "trainData = year1[['mean_return', 'volatility', 'label']]\n",
    "testPoint = year2.loc[:, ['mean_return', 'volatility']]\n",
    "yTest = year2.label\n",
    "\n",
    "yPredict = circleNeighbor(testPoint, trainData)\n",
    "print(accuracy_score(yTest, yPredict))\n",
    "\n",
    "\n",
    "# confusion matrix\n",
    "a = confusion_matrix(ytest, yPredict)\n",
    "print(a)\n",
    "tn = a[0][0]\n",
    "fn = a[1][0]\n",
    "tp = a[1][1]\n",
    "fp = a[0][1]\n",
    "\n",
    "tpr = tp / (tp + fn)\n",
    "tnr = tn / (tn + fp)\n",
    "\n",
    "print('TPR = {}, TNR = {}, k = 3'.format(tpr, tnr))"
   ]
  },
  {
   "cell_type": "code",
   "execution_count": 430,
   "metadata": {},
   "outputs": [
    {
     "name": "stdout",
     "output_type": "stream",
     "text": [
      "Using Label Manhattan KNN: 223.5667766598095\n",
      "Buy on first day and Sell on last day: 121.17033527942765\n"
     ]
    }
   ],
   "source": [
    "#Strategy check\n",
    "dfDetail = pd.read_csv('./GOOGL_weekly_return_volatility_detailed.csv')\n",
    "year2Detail = dfDetail[dfDetail.Year == 2020]\n",
    "year2Detail = year2Detail.reset_index(drop = True)\n",
    "\n",
    "## Add label to detail\n",
    "lMap = labelMapping(year2.Year, year2.Week_Number, yPredict)\n",
    "temp = []\n",
    "for (y, w) in zip(year2Detail.Year, year2Detail.Week_Number):\n",
    "    key = (y, w)\n",
    "    temp.append(lMap[key]) \n",
    "year2Detail['Label'] = temp\n",
    "year2Detail = year2Detail[['Year', 'Week_Number', 'Close', 'Label']]\n",
    "\n",
    "## Cut goo2020\n",
    "goo2020Week = cutWeek(53, year2Detail)\n",
    "\n",
    "\n",
    "\n",
    "\n",
    "## trading base on Manhattan KNN label\n",
    "total = proficCalculator(goo2020Week, 100)\n",
    "print(\"Using Label Manhattan KNN: {}\".format(total))\n",
    "\n",
    "## trding BH\n",
    "firstWeek = goo2020Week[0]\n",
    "firstClose = firstWeek.Close[0]\n",
    "\n",
    "lastWeek = goo2020Week[-1]\n",
    "lastClose = lastWeek.Close[len(lastWeek)-1]\n",
    "\n",
    "r = 1 + (lastClose - firstClose) / lastClose\n",
    "total = 100 * r\n",
    "print(\"Buy on first day and Sell on last day: {}\".format(total))"
   ]
  }
 ],
 "metadata": {
  "interpreter": {
   "hash": "934e9733469ba33743180f4f0a45fb5fa97889cb236cef54782b3750effb92db"
  },
  "kernelspec": {
   "display_name": "Python 3",
   "language": "python",
   "name": "python3"
  },
  "language_info": {
   "codemirror_mode": {
    "name": "ipython",
    "version": 3
   },
   "file_extension": ".py",
   "mimetype": "text/x-python",
   "name": "python",
   "nbconvert_exporter": "python",
   "pygments_lexer": "ipython3",
   "version": "3.8.8"
  }
 },
 "nbformat": 4,
 "nbformat_minor": 2
}
