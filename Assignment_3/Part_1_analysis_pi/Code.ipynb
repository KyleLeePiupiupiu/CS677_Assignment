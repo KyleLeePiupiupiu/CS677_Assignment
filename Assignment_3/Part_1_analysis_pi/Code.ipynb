{
 "cells": [
  {
   "cell_type": "code",
   "execution_count": 1,
   "metadata": {},
   "outputs": [],
   "source": [
    "import mpmath\n",
    "import numpy as np"
   ]
  },
  {
   "cell_type": "code",
   "execution_count": 2,
   "metadata": {},
   "outputs": [
    {
     "name": "stdout",
     "output_type": "stream",
     "text": [
      "piMathe = 3.14159265358979323846264338327950288419716939937510582097494\n",
      "piEgypy = 3.142857142857142793701541449991054832935333251953125\n",
      "piChina = 3.141592920353982520964564173482358455657958984375\n",
      "piIndia = 3.138888888888888839545643349993042647838592529296875\n",
      "piGreec = 3.1418511066398391307075144140981137752532958984375\n",
      "3.142857142857142793701541449991054832935333251953125000000000\n"
     ]
    }
   ],
   "source": [
    "# Initialize the pi for each kind\n",
    "mpmath.mp.dps = 60\n",
    "piMathe = mpmath.pi\n",
    "piEgypt = mpmath.mpf(22/7)\n",
    "piChina = mpmath.mpf(355/113)\n",
    "piIndia = mpmath.mpf(339/108)\n",
    "piGreec = mpmath.mpf(0.5 * ((223/71) + (22/7)))\n",
    "\n",
    "print(\"piMathe = {}\".format(piMathe))\n",
    "print(\"piEgypy = {}\".format(piEgypt))\n",
    "print(\"piChina = {}\".format(piChina))\n",
    "print(\"piIndia = {}\".format(piIndia))\n",
    "print(\"piGreec = {}\".format(piGreec))\n",
    "print('{:.60f}'.format(22/7))"
   ]
  },
  {
   "cell_type": "code",
   "execution_count": 3,
   "metadata": {},
   "outputs": [
    {
     "name": "stdout",
     "output_type": "stream",
     "text": [
      "piMathe 3.14159265358979323846264338327950288419716939937510582097494 61\n",
      "piEgypt 3.142857142857142793701541449991054832935333251953125 53\n",
      "piChina 3.14159292035398252096456417348235845565795898437500 52\n",
      "piIndia 3.138888888888888839545643349993042647838592529296875 53\n",
      "piGreec 3.14185110663983913070751441409811377525329589843750 52\n",
      "\n",
      "piMathe 14159265358979323846264338327950288419716939937510 50\n",
      "piEgypt 14285714285714279370154144999105483293533325195312 50\n",
      "piChina 14159292035398252096456417348235845565795898437500 50\n",
      "piIndia 13888888888888883954564334999304264783859252929687 50\n",
      "piGreec 14185110663983913070751441409811377525329589843750 50\n"
     ]
    }
   ],
   "source": [
    "# Extract the data after the decimal point\n",
    "piMathe = str(piMathe)\n",
    "piEgypt = str(piEgypt)\n",
    "piChina = str(piChina) + '00'\n",
    "piIndia = str(piIndia) \n",
    "piGreec = str(piGreec) + '0'\n",
    "print(\"piMathe {} {}\".format(piMathe, len(piMathe)))\n",
    "print(\"piEgypt {} {}\".format(piEgypt, len(piEgypt)))\n",
    "print(\"piChina {} {}\".format(piChina, len(piChina)))\n",
    "print(\"piIndia {} {}\".format(piIndia, len(piIndia)))\n",
    "print(\"piGreec {} {}\".format(piGreec, len(piGreec)))\n",
    "print()\n",
    "\n",
    "piMathe = piMathe[2:52]\n",
    "piEgypt = piEgypt[2:52]\n",
    "piChina = piChina[2:52]\n",
    "piIndia = piIndia[2:52]\n",
    "piGreec = piGreec[2:52]\n",
    "print(\"piMathe {} {}\".format(piMathe, len(piMathe)))\n",
    "print(\"piEgypt {} {}\".format(piEgypt, len(piEgypt)))\n",
    "print(\"piChina {} {}\".format(piChina, len(piChina)))\n",
    "print(\"piIndia {} {}\".format(piIndia, len(piIndia)))\n",
    "print(\"piGreec {} {}\".format(piGreec, len(piGreec)))\n",
    "\n",
    "\n"
   ]
  },
  {
   "cell_type": "code",
   "execution_count": 4,
   "metadata": {},
   "outputs": [
    {
     "name": "stdout",
     "output_type": "stream",
     "text": [
      "Egype method erroe is 0.8930472275863234%\n",
      "Chian method erroe is 0.0001884025636353578%\n",
      "India method erroe is 1.9095374176243989%\n",
      "Greece method erroe is 0.18253281049075765%\n"
     ]
    }
   ],
   "source": [
    "# Error between different error\n",
    "def error(true, test):\n",
    "    true = int(true)\n",
    "    test = int(test)\n",
    "    temp = abs(true-test) / true\n",
    "    return temp*100\n",
    "\n",
    "t = error(piMathe, piEgypt)\n",
    "print(\"Egype method erroe is {}%\".format(t))\n",
    "\n",
    "t = error(piMathe, piChina)\n",
    "print(\"Chian method erroe is {}%\".format(t))\n",
    "\n",
    "t = error(piMathe, piIndia)\n",
    "print(\"India method erroe is {}%\".format(t))\n",
    "\n",
    "t = error(piMathe, piGreec)\n",
    "print(\"Greece method erroe is {}%\".format(t))\n",
    "\n",
    "\n"
   ]
  },
  {
   "cell_type": "markdown",
   "metadata": {},
   "source": [
    "# Question 1 "
   ]
  },
  {
   "cell_type": "code",
   "execution_count": 5,
   "metadata": {},
   "outputs": [
    {
     "name": "stdout",
     "output_type": "stream",
     "text": [
      "For piEgypt, n = 2\n",
      "For piChina, n = 6\n",
      "For piIndia, n = 1\n",
      "For piGreec, n = 3\n",
      "China method gave the highest precison\n"
     ]
    }
   ],
   "source": [
    "# How many first decimal digits are correct when compaing with piMathe\n",
    "def sameLetter(test, answer):\n",
    "    n = 0\n",
    "    for (t, a) in zip(test, answer):\n",
    "        if t == a:\n",
    "            n = n+1\n",
    "        else:\n",
    "            return n\n",
    "\n",
    "if __name__ == \"__main__\":\n",
    "    n = sameLetter(piEgypt, piMathe)\n",
    "    print('For piEgypt, n = {}'.format(n))\n",
    "    n = sameLetter(piChina, piMathe)\n",
    "    print('For piChina, n = {}'.format(n))\n",
    "    n = sameLetter(piIndia, piMathe)\n",
    "    print('For piIndia, n = {}'.format(n))\n",
    "    n = sameLetter(piGreec, piMathe)\n",
    "    print('For piGreec, n = {}'.format(n))\n",
    "\n",
    "    print('China method gave the highest precison')\n",
    "\n"
   ]
  },
  {
   "cell_type": "code",
   "execution_count": 6,
   "metadata": {},
   "outputs": [
    {
     "name": "stdout",
     "output_type": "stream",
     "text": [
      "Frequency of piMathe = [ 4. 10. 10. 16.  8. 10.  8.  8. 10. 16.], sum = 100.0, max = 16.0, min = 4.0\n",
      "Frequency of piEgype is [ 4. 16. 12. 14. 14. 14.  0.  8.  6. 12.], sum = 100.0, max = 16.0, min = 0.0\n",
      "Frequency of piChina is [ 8.  6. 10. 10. 12. 20.  6.  6. 10. 12.], sum = 100.0, max = 20.0, min = 6.0\n",
      "Frequency of piIndia is [ 2.  2.  8. 12. 10.  8.  6.  4. 34. 14.], sum = 100.0, max = 34.0, min = 2.0\n",
      "Frequency of piGreec is [10. 18.  4. 12. 10. 12.  4. 10. 10. 10.], sum = 100.0, max = 18.0, min = 4.0\n"
     ]
    }
   ],
   "source": [
    "# Compute the frequency\n",
    "def digitFrequency(inputVector):\n",
    "    n = len(inputVector)\n",
    "    ans = [ 0 for i in range(10)]\n",
    "    for d in inputVector:\n",
    "        d = int(d)\n",
    "        ans[d] = ans[d] + 1\n",
    "\n",
    "    ans = np.array(ans, dtype = 'f')\n",
    "    ans = (ans * 100) / len(inputVector)\n",
    "\n",
    "    return ans\n",
    "\n",
    "if __name__ == \"__main__\":\n",
    "    f = digitFrequency(piMathe)\n",
    "    print(\"Frequency of piMathe = {}, sum = {}, max = {}, min = {}\".format(f, sum(f), max(f), min(f)))\n",
    "    f = digitFrequency(piEgypt)\n",
    "    print(\"Frequency of piEgype is {}, sum = {}, max = {}, min = {}\".format(f, sum(f), max(f), min(f)))\n",
    "    f = digitFrequency(piChina)\n",
    "    print(\"Frequency of piChina is {}, sum = {}, max = {}, min = {}\".format(f, sum(f), max(f), min(f)))\n",
    "    f = digitFrequency(piIndia)\n",
    "    print(\"Frequency of piIndia is {}, sum = {}, max = {}, min = {}\".format(f, sum(f), max(f), min(f)))\n",
    "    f = digitFrequency(piGreec)\n",
    "    print(\"Frequency of piGreec is {}, sum = {}, max = {}, min = {}\".format(f, sum(f), max(f), min(f)))\n",
    "\n",
    "\n"
   ]
  },
  {
   "cell_type": "markdown",
   "metadata": {},
   "source": [
    "# Quesiton 2 "
   ]
  },
  {
   "cell_type": "code",
   "execution_count": 7,
   "metadata": {},
   "outputs": [
    {
     "name": "stdout",
     "output_type": "stream",
     "text": [
      "[ 4. 10. 10. 16.  8. 10.  8.  8. 10. 16.]\n",
      "[ 4. 16. 12. 14. 14. 14.  0.  8.  6. 12.]\n",
      "[ 8.  6. 10. 10. 12. 20.  6.  6. 10. 12.]\n",
      "[ 2.  2.  8. 12. 10.  8.  6.  4. 34. 14.]\n",
      "[10. 18.  4. 12. 10. 12.  4. 10. 10. 10.]\n"
     ]
    }
   ],
   "source": [
    "piMathe = digitFrequency(piMathe)\n",
    "piEgypt = digitFrequency(piEgypt)\n",
    "piChina = digitFrequency(piChina)\n",
    "piIndia = digitFrequency(piIndia)\n",
    "piGreec = digitFrequency(piGreec)\n",
    "\n",
    "print(piMathe)\n",
    "print(piEgypt)\n",
    "print(piChina)\n",
    "print(piIndia)\n",
    "print(piGreec)"
   ]
  },
  {
   "cell_type": "code",
   "execution_count": 8,
   "metadata": {},
   "outputs": [
    {
     "name": "stdout",
     "output_type": "stream",
     "text": [
      "piEgypt, max absolute is 8\n",
      "piChina, max absolute is 10\n",
      "piIndia, max absolute is 24\n",
      "piGreec, max absolute is 8\n",
      "\n",
      "piEgypt, median absolute is 4.0\n",
      "piChina, median absolute is 4.0\n",
      "piIndia, median absolute is 2.0\n",
      "piGreec, median absolute is 4.0\n",
      "\n",
      "piEgypt, mean absolute is 3.6\n",
      "piChina, mean absolute is 3.6\n",
      "piIndia, mean absolute is 5.2\n",
      "piGreec, mean absolute is 4.0\n",
      "\n",
      "piEgypt, RMSE is 4.4\n",
      "piChina, RMSE is 4.6\n",
      "piIndia, RMSE is 8.3\n",
      "piGreec, RMSE is 4.6\n",
      "\n"
     ]
    }
   ],
   "source": [
    "import statistics\n",
    "def maxAbs(test, ans):\n",
    "    errorList = []\n",
    "    for (t, a) in zip(test, ans):\n",
    "        t = int(t)\n",
    "        a = int(a)\n",
    "        error = abs(t - a)\n",
    "        errorList.append(error)\n",
    "    return max(errorList)\n",
    "        \n",
    "def medianAbs(test, ans):\n",
    "    errorList = []\n",
    "    for (t, a) in zip(test, ans):\n",
    "        t = int(t)\n",
    "        a = int(a)\n",
    "        error = abs(t - a)\n",
    "        errorList.append(error)\n",
    "    return statistics.median(errorList)\n",
    "def meanAbs(test, ans):\n",
    "    errorList = []\n",
    "    for (t, a) in zip(test, ans):\n",
    "        t = int(t)\n",
    "        a = int(a)\n",
    "        error = abs(t - a)\n",
    "        errorList.append(error)\n",
    "    return sum(errorList) / len(errorList)\n",
    "    \n",
    "def rootSquError(test, ans):\n",
    "    errorList = []\n",
    "    for (t, a) in zip(test, ans):\n",
    "        t = int(t)\n",
    "        a = int(a)\n",
    "        error = abs(t - a)\n",
    "        errorList.append(error * error)\n",
    "    return(sum(errorList) / len(errorList))**0.5\n",
    "\n",
    "if __name__ == \"__main__\":\n",
    "    \n",
    "    # Max Absolute\n",
    "    e = maxAbs(piEgypt, piMathe)\n",
    "    print(\"piEgypt, max absolute is {}\".format(e))\n",
    "    e = maxAbs(piChina, piMathe)\n",
    "    print(\"piChina, max absolute is {}\".format(e))\n",
    "    e = maxAbs(piIndia, piMathe)\n",
    "    print(\"piIndia, max absolute is {}\".format(e))\n",
    "    e = maxAbs(piGreec, piMathe)\n",
    "    print(\"piGreec, max absolute is {}\".format(e))\n",
    "    print()\n",
    "\n",
    "    # Median Absolute\n",
    "    e = medianAbs(piEgypt, piMathe)\n",
    "    print(\"piEgypt, median absolute is {}\".format(e))\n",
    "    e = medianAbs(piChina, piMathe)\n",
    "    print(\"piChina, median absolute is {}\".format(e))\n",
    "    e = medianAbs(piIndia, piMathe)\n",
    "    print(\"piIndia, median absolute is {}\".format(e))\n",
    "    e = medianAbs(piGreec, piMathe)\n",
    "    print(\"piGreec, median absolute is {}\".format(e))\n",
    "    print()\n",
    "\n",
    "    # Mean Absolute\n",
    "    e = meanAbs(piEgypt, piMathe)\n",
    "    print(\"piEgypt, mean absolute is {}\".format(e))\n",
    "    e = meanAbs(piChina, piMathe)\n",
    "    print(\"piChina, mean absolute is {}\".format(e))\n",
    "    e = meanAbs(piIndia, piMathe)\n",
    "    print(\"piIndia, mean absolute is {}\".format(e))\n",
    "    e = meanAbs(piGreec, piMathe)\n",
    "    print(\"piGreec, mean absolute is {}\".format(e))\n",
    "    print()\n",
    "\n",
    "    # RMSE\n",
    "    e = rootSquError(piEgypt, piMathe)\n",
    "    print(\"piEgypt, RMSE is {:.1f}\".format(e))\n",
    "    e = rootSquError(piChina, piMathe)\n",
    "    print(\"piChina, RMSE is {:.1f}\".format(e))\n",
    "    e = rootSquError(piIndia, piMathe)\n",
    "    print(\"piIndia, RMSE is {:.1f}\".format(e))\n",
    "    e = rootSquError(piGreec, piMathe)\n",
    "    print(\"piGreec, RMSE is {:.1f}\".format(e))\n",
    "    print()\n"
   ]
  }
 ],
 "metadata": {
  "interpreter": {
   "hash": "934e9733469ba33743180f4f0a45fb5fa97889cb236cef54782b3750effb92db"
  },
  "kernelspec": {
   "display_name": "Python 3",
   "language": "python",
   "name": "python3"
  },
  "language_info": {
   "codemirror_mode": {
    "name": "ipython",
    "version": 3
   },
   "file_extension": ".py",
   "mimetype": "text/x-python",
   "name": "python",
   "nbconvert_exporter": "python",
   "pygments_lexer": "ipython3",
   "version": "3.8.8"
  }
 },
 "nbformat": 4,
 "nbformat_minor": 2
}
