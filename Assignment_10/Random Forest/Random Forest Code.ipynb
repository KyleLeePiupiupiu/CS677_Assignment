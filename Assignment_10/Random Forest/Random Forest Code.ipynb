{
 "cells": [
  {
   "cell_type": "code",
   "execution_count": 36,
   "metadata": {},
   "outputs": [],
   "source": [
    "import pandas as pd\n",
    "import numpy as np\n",
    "from sklearn.metrics import accuracy_score\n",
    "import matplotlib.pyplot as plt \n",
    "from sklearn.metrics import confusion_matrix\n",
    "from sklearn.ensemble import RandomForestClassifier\n",
    "def cutWeek(weekNumber, data):\n",
    "    weekdata = []\n",
    "    for i in range(weekNumber):\n",
    "         temp = data[data.Week_Number == i]\n",
    "         temp = temp.reset_index(drop=True)\n",
    "         weekdata.append(temp)\n",
    "    return weekdata\n",
    "\n",
    "def labelMapping(year, week, label):\n",
    "    labelMap = {}\n",
    "    for (y, w, l) in zip(year, week, label):\n",
    "        key = (y, w)\n",
    "        value = l\n",
    "        labelMap[key] = value\n",
    "    return labelMap\n",
    "\n",
    "def proficCalculator(data, fund):\n",
    "    # Week 0 case\n",
    "    week1Data = data[0]\n",
    "    week1Label = week1Data.Label[0] # week 0 label\n",
    "\n",
    "    if week1Label == 1:\n",
    "        stock = True\n",
    "        buyPrice = week1Data.Close[0] # week 0 first day price\n",
    "        sellPrice = week1Data.Close[len(week1Data)-1] # week 0 last day price\n",
    "    else:\n",
    "        stock = False\n",
    "        buyPrice = week1Data.Close[len(week1Data)-1] # week 0 last day price\n",
    "        sellPrice = week1Data.Close[len(week1Data)-1] # week 0 last day price\n",
    "\n",
    "\n",
    "    for df in data[1:]:\n",
    "        nextWeekColor = df.Label[0]\n",
    "        nextClosePrice = df.Close[len(df)-1]\n",
    "\n",
    "        # stock + green = no action\n",
    "        if (stock == True) and (nextWeekColor == 1):\n",
    "            stock == True # Keep holding the stock\n",
    "            buyPrice = buyPrice # Buy point stay\n",
    "            sellPrice = nextClosePrice # Sell point move forward\n",
    "\n",
    "        # stock + red = sell\n",
    "        elif (stock == True) and (nextWeekColor == 0):\n",
    "            r = 1 + (sellPrice - buyPrice) / sellPrice\n",
    "            fund = fund * r\n",
    "            buyPrice = nextClosePrice\n",
    "            sellPrice = nextClosePrice\n",
    "            stock = False\n",
    "            \n",
    "        # money + green = buy stock\n",
    "        elif (stock == False) and (nextWeekColor == 1):\n",
    "            buyPrice = buyPrice\n",
    "            sellPrice = nextClosePrice\n",
    "            stock = True\n",
    "        # money + red = no action\n",
    "        elif (stock == False) and (nextWeekColor == 0):\n",
    "            buyPrice = nextClosePrice\n",
    "            sellPrice = nextClosePrice\n",
    "            stock = False\n",
    "\n",
    "    # Last withdraw\n",
    "    r = 1 + (sellPrice - buyPrice) / sellPrice\n",
    "    fund = fund * r\n",
    "    return fund"
   ]
  },
  {
   "cell_type": "code",
   "execution_count": 37,
   "metadata": {},
   "outputs": [],
   "source": [
    "dfLabel = pd.read_csv('./GOOGL_weekly_return_volatility.csv')\n",
    "year1 = dfLabel[dfLabel.Year == 2019]\n",
    "year2 = dfLabel[dfLabel.Year == 2020]\n"
   ]
  },
  {
   "cell_type": "markdown",
   "metadata": {},
   "source": [
    "# plot and provide best n, d"
   ]
  },
  {
   "cell_type": "code",
   "execution_count": 38,
   "metadata": {},
   "outputs": [
    {
     "name": "stderr",
     "output_type": "stream",
     "text": [
      "<ipython-input-38-6ff1939e3013>:24: UserWarning: You have used the `textcoords` kwarg, but not the `xytext` kwarg.  This can lead to surprising results.\n",
      "  plt.annotate('{:.2f}'.format(area), xy=(x, y), textcoords='offset points')\n"
     ]
    },
    {
     "data": {
      "text/plain": [
       "Text(0, 0.5, 'Depth')"
      ]
     },
     "execution_count": 38,
     "metadata": {},
     "output_type": "execute_result"
    },
    {
     "data": {
      "image/png": "[encoded data removed]",
      "text/plain": [
       "<Figure size 864x576 with 1 Axes>"
      ]
     },
     "metadata": {
      "needs_background": "light"
     },
     "output_type": "display_data"
    }
   ],
   "source": [
    "xTrain = year1[['mean_return', 'volatility']]\n",
    "yTrain = year1.label\n",
    "xTest = year2[['mean_return', 'volatility']]\n",
    "yTest = year2.label\n",
    "\n",
    "nList = [1,3,5,7,9]\n",
    "dList = [1,2,3,4,5]\n",
    "\n",
    "errorMap = []\n",
    "\n",
    "for n in nList:\n",
    "    for d in dList:\n",
    "        clf = RandomForestClassifier(max_depth=d, n_estimators=n, random_state=10)\n",
    "        clf.fit(xTrain, yTrain)\n",
    "        yPredict = clf.predict(xTest)\n",
    "        errRate = np.mean(yPredict != yTest)\n",
    "        errorMap.append((n, d, errRate))\n",
    "errorMap = sorted(errorMap, key = lambda x:x[2])\n",
    "\n",
    "# plot scatter\n",
    "plt.figure(figsize=(12,8))\n",
    "for (x, y, area) in errorMap:\n",
    "    plt.scatter(x,y,s = area**5 * 100000, c='red', marker = 'o')\n",
    "    plt.annotate('{:.2f}'.format(area), xy=(x, y), textcoords='offset points')\n",
    "\n",
    "plt.title('ErrorRate')\n",
    "plt.xlabel('N estimator')\n",
    "plt.ylabel('Depth')"
   ]
  },
  {
   "cell_type": "code",
   "execution_count": 39,
   "metadata": {},
   "outputs": [
    {
     "data": {
      "text/plain": [
       "[(9, 1, 0.18867924528301888),\n",
       " (9, 3, 0.18867924528301888),\n",
       " (9, 4, 0.18867924528301888),\n",
       " (5, 3, 0.20754716981132076),\n",
       " (5, 4, 0.20754716981132076),\n",
       " (5, 5, 0.20754716981132076),\n",
       " (7, 2, 0.20754716981132076),\n",
       " (7, 3, 0.20754716981132076),\n",
       " (7, 4, 0.20754716981132076),\n",
       " (7, 5, 0.20754716981132076),\n",
       " (9, 2, 0.20754716981132076),\n",
       " (9, 5, 0.20754716981132076),\n",
       " (5, 2, 0.24528301886792453),\n",
       " (3, 5, 0.2641509433962264),\n",
       " (3, 3, 0.2830188679245283),\n",
       " (1, 5, 0.33962264150943394),\n",
       " (3, 4, 0.33962264150943394),\n",
       " (3, 2, 0.37735849056603776),\n",
       " (5, 1, 0.37735849056603776),\n",
       " (1, 4, 0.41509433962264153),\n",
       " (1, 2, 0.4339622641509434),\n",
       " (1, 3, 0.4339622641509434),\n",
       " (7, 1, 0.4716981132075472),\n",
       " (1, 1, 0.49056603773584906),\n",
       " (3, 1, 0.49056603773584906)]"
      ]
     },
     "execution_count": 39,
     "metadata": {},
     "output_type": "execute_result"
    }
   ],
   "source": [
    "errorMap"
   ]
  },
  {
   "cell_type": "markdown",
   "metadata": {},
   "source": [
    "# use optimal values to compute year 2"
   ]
  },
  {
   "cell_type": "code",
   "execution_count": 40,
   "metadata": {},
   "outputs": [
    {
     "name": "stdout",
     "output_type": "stream",
     "text": [
      "0.8113207547169812\n",
      "[[20  5]\n",
      " [ 5 23]]\n",
      "TPR = 0.8214285714285714, TNR = 0.8\n"
     ]
    }
   ],
   "source": [
    "n = 9\n",
    "d = 3\n",
    "clf = RandomForestClassifier(max_depth=d, n_estimators=n, random_state=10)\n",
    "clf.fit(xTrain, yTrain)\n",
    "yPredict = clf.predict(xTest)\n",
    "print(accuracy_score(yTest, yPredict))\n",
    "\n",
    "## Confusion Matrix I choose \n",
    "temp = confusion_matrix(yTest, yPredict)\n",
    "print(temp)\n",
    "\n",
    "tn = temp[0][0]\n",
    "fn = temp[1][0]\n",
    "tp = temp[1][1]\n",
    "fp = temp[0][1]\n",
    "\n",
    "tpr = tp / (tp + fn)\n",
    "tnr = tn / (tn + fp)\n",
    "\n",
    "print('TPR = {}, TNR = {}'.format(tpr, tnr))\n",
    "\n",
    "\n"
   ]
  },
  {
   "cell_type": "markdown",
   "metadata": {},
   "source": [
    "# Trading Strategy"
   ]
  },
  {
   "cell_type": "code",
   "execution_count": 41,
   "metadata": {},
   "outputs": [
    {
     "name": "stdout",
     "output_type": "stream",
     "text": [
      "Using Label: 237.47585927853677\n",
      "Buy on first day and Sell on last day: 121.17033527942765\n"
     ]
    }
   ],
   "source": [
    "# Strategy check\n",
    "dfDetail = pd.read_csv('./GOOGL_weekly_return_volatility_detailed.csv')\n",
    "year2Detail = dfDetail[dfDetail.Year == 2020]\n",
    "year2Detail = year2Detail.reset_index(drop = True)\n",
    "\n",
    "## Add label to detail\n",
    "lMap = labelMapping(year2.Year, year2.Week_Number, yPredict)\n",
    "temp = []\n",
    "for (y, w) in zip(year2Detail.Year, year2Detail.Week_Number):\n",
    "    key = (y, w)\n",
    "    temp.append(lMap[key]) \n",
    "year2Detail['Label'] = temp\n",
    "year2Detail = year2Detail[['Year', 'Week_Number', 'Close', 'Label']]\n",
    "\n",
    "## Cut goo2020\n",
    "goo2020Week = cutWeek(53, year2Detail)\n",
    "\n",
    "\n",
    "\n",
    "\n",
    "## trading \n",
    "total = proficCalculator(goo2020Week, 100)\n",
    "print(\"Using Label: {}\".format(total))\n",
    "\n",
    "## trding BH\n",
    "firstWeek = goo2020Week[0]\n",
    "firstClose = firstWeek.Close[0]\n",
    "\n",
    "lastWeek = goo2020Week[-1]\n",
    "lastClose = lastWeek.Close[len(lastWeek)-1]\n",
    "\n",
    "r = 1 + (lastClose - firstClose) / lastClose\n",
    "total = 100 * r\n",
    "print(\"Buy on first day and Sell on last day: {}\".format(total))"
   ]
  }
 ],
 "metadata": {
  "interpreter": {
   "hash": "58787c9c7ba986782a192699c1af7aada0cdb70fe25eea6b98466d11cf3b9fb3"
  },
  "kernelspec": {
   "display_name": "Python 3",
   "language": "python",
   "name": "python3"
  },
  "language_info": {
   "codemirror_mode": {
    "name": "ipython",
    "version": 3
   },
   "file_extension": ".py",
   "mimetype": "text/x-python",
   "name": "python",
   "nbconvert_exporter": "python",
   "pygments_lexer": "ipython3",
   "version": "3.8.8"
  }
 },
 "nbformat": 4,
 "nbformat_minor": 2
}
