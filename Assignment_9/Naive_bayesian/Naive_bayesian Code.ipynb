{
 "cells": [
  {
   "cell_type": "code",
   "execution_count": 8,
   "metadata": {},
   "outputs": [],
   "source": [
    "import pandas as pd\n",
    "import numpy as np\n",
    "from sklearn.metrics import accuracy_score\n",
    "import matplotlib.pyplot as plt \n",
    "from sklearn.metrics import confusion_matrix\n",
    "from sklearn.naive_bayes import GaussianNB\n",
    "\n",
    "def cutWeek(weekNumber, data):\n",
    "    weekdata = []\n",
    "    for i in range(weekNumber):\n",
    "         temp = data[data.Week_Number == i]\n",
    "         temp = temp.reset_index(drop=True)\n",
    "         weekdata.append(temp)\n",
    "    return weekdata\n",
    "\n",
    "def labelMapping(year, week, label):\n",
    "    labelMap = {}\n",
    "    for (y, w, l) in zip(year, week, label):\n",
    "        key = (y, w)\n",
    "        value = l\n",
    "        labelMap[key] = value\n",
    "    return labelMap\n",
    "\n",
    "def proficCalculator(data, fund):\n",
    "    # Week 0 case\n",
    "    week1Data = data[0]\n",
    "    week1Label = week1Data.Label[0] # week 0 label\n",
    "\n",
    "    if week1Label == 1:\n",
    "        stock = True\n",
    "        buyPrice = week1Data.Close[0] # week 0 first day price\n",
    "        sellPrice = week1Data.Close[len(week1Data)-1] # week 0 last day price\n",
    "    else:\n",
    "        stock = False\n",
    "        buyPrice = week1Data.Close[len(week1Data)-1] # week 0 last day price\n",
    "        sellPrice = week1Data.Close[len(week1Data)-1] # week 0 last day price\n",
    "\n",
    "\n",
    "    for df in data[1:]:\n",
    "        nextWeekColor = df.Label[0]\n",
    "        nextClosePrice = df.Close[len(df)-1]\n",
    "\n",
    "        # stock + green = no action\n",
    "        if (stock == True) and (nextWeekColor == 1):\n",
    "            stock == True # Keep holding the stock\n",
    "            buyPrice = buyPrice # Buy point stay\n",
    "            sellPrice = nextClosePrice # Sell point move forward\n",
    "\n",
    "        # stock + red = sell\n",
    "        elif (stock == True) and (nextWeekColor == 0):\n",
    "            r = 1 + (sellPrice - buyPrice) / sellPrice\n",
    "            fund = fund * r\n",
    "            buyPrice = nextClosePrice\n",
    "            sellPrice = nextClosePrice\n",
    "            stock = False\n",
    "            \n",
    "        # money + green = buy stock\n",
    "        elif (stock == False) and (nextWeekColor == 1):\n",
    "            buyPrice = buyPrice\n",
    "            sellPrice = nextClosePrice\n",
    "            stock = True\n",
    "        # money + red = no action\n",
    "        elif (stock == False) and (nextWeekColor == 0):\n",
    "            buyPrice = nextClosePrice\n",
    "            sellPrice = nextClosePrice\n",
    "            stock = False\n",
    "\n",
    "    # Last withdraw\n",
    "    r = 1 + (sellPrice - buyPrice) / sellPrice\n",
    "    fund = fund * r\n",
    "    return fund"
   ]
  },
  {
   "cell_type": "code",
   "execution_count": 9,
   "metadata": {},
   "outputs": [],
   "source": [
    "dfLabel = pd.read_csv('./GOOGL_weekly_return_volatility.csv')\n",
    "year1 = dfLabel[dfLabel.Year == 2019]\n",
    "year2 = dfLabel[dfLabel.Year == 2020]\n"
   ]
  },
  {
   "cell_type": "code",
   "execution_count": 10,
   "metadata": {},
   "outputs": [
    {
     "name": "stdout",
     "output_type": "stream",
     "text": [
      "0.7924528301886793\n",
      "[[20  5]\n",
      " [ 6 22]]\n",
      "TPR = 0.7857142857142857, TNR = 0.8\n"
     ]
    }
   ],
   "source": [
    "xTrain = year1[['mean_return', 'volatility']]\n",
    "yTrain = year1.label\n",
    "xTest = year2[['mean_return', 'volatility']]\n",
    "yTest = year2.label\n",
    "\n",
    "NB_classifier = GaussianNB().fit(xTrain, yTrain)\n",
    "yPredict = NB_classifier.predict(xTest)\n",
    "print(accuracy_score(yTest, yPredict))\n",
    "\n",
    "## Confusion Matrix I choose \n",
    "temp = confusion_matrix(yTest, yPredict)\n",
    "print(temp)\n",
    "\n",
    "tn = temp[0][0]\n",
    "fn = temp[1][0]\n",
    "tp = temp[1][1]\n",
    "fp = temp[0][1]\n",
    "\n",
    "tpr = tp / (tp + fn)\n",
    "tnr = tn / (tn + fp)\n",
    "\n",
    "print('TPR = {}, TNR = {}'.format(tpr, tnr))\n",
    "\n"
   ]
  },
  {
   "cell_type": "code",
   "execution_count": 17,
   "metadata": {},
   "outputs": [
    {
     "name": "stdout",
     "output_type": "stream",
     "text": [
      "Using Label: 238.07688171932494\n",
      "Buy on first day and Sell on last day: 121.17033527942765\n"
     ]
    }
   ],
   "source": [
    "# Strategy check\n",
    "dfDetail = pd.read_csv('./GOOGL_weekly_return_volatility_detailed.csv')\n",
    "year2Detail = dfDetail[dfDetail.Year == 2020]\n",
    "year2Detail = year2Detail.reset_index(drop = True)\n",
    "\n",
    "## Add label to detail\n",
    "lMap = labelMapping(year2.Year, year2.Week_Number, yPredict)\n",
    "temp = []\n",
    "for (y, w) in zip(year2Detail.Year, year2Detail.Week_Number):\n",
    "    key = (y, w)\n",
    "    temp.append(lMap[key]) \n",
    "year2Detail['Label'] = temp\n",
    "year2Detail = year2Detail[['Year', 'Week_Number', 'Close', 'Label']]\n",
    "\n",
    "## Cut goo2020\n",
    "goo2020Week = cutWeek(53, year2Detail)\n",
    "\n",
    "\n",
    "\n",
    "\n",
    "## trading \n",
    "total = proficCalculator(goo2020Week, 100)\n",
    "print(\"Using Label: {}\".format(total))\n",
    "\n",
    "## trding BH\n",
    "firstWeek = goo2020Week[0]\n",
    "firstClose = firstWeek.Close[0]\n",
    "\n",
    "lastWeek = goo2020Week[-1]\n",
    "lastClose = lastWeek.Close[len(lastWeek)-1]\n",
    "\n",
    "r = 1 + (lastClose - firstClose) / lastClose\n",
    "total = 100 * r\n",
    "print(\"Buy on first day and Sell on last day: {}\".format(total))"
   ]
  }
 ],
 "metadata": {
  "interpreter": {
   "hash": "934e9733469ba33743180f4f0a45fb5fa97889cb236cef54782b3750effb92db"
  },
  "kernelspec": {
   "display_name": "Python 3",
   "language": "python",
   "name": "python3"
  },
  "language_info": {
   "codemirror_mode": {
    "name": "ipython",
    "version": 3
   },
   "file_extension": ".py",
   "mimetype": "text/x-python",
   "name": "python",
   "nbconvert_exporter": "python",
   "pygments_lexer": "ipython3",
   "version": "3.8.8"
  }
 },
 "nbformat": 4,
 "nbformat_minor": 2
}
