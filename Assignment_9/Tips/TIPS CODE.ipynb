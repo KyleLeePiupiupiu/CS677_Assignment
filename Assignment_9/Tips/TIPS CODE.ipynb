{
 "cells": [
  {
   "cell_type": "code",
   "execution_count": 2,
   "metadata": {},
   "outputs": [],
   "source": [
    "import pandas as pd\n",
    "import numpy as np\n",
    "import matplotlib.pyplot as plt\n",
    "from scipy.stats import pearsonr"
   ]
  },
  {
   "cell_type": "code",
   "execution_count": 3,
   "metadata": {},
   "outputs": [
    {
     "data": {
      "text/html": [
       "<div>\n",
       "<style scoped>\n",
       "    .dataframe tbody tr th:only-of-type {\n",
       "        vertical-align: middle;\n",
       "    }\n",
       "\n",
       "    .dataframe tbody tr th {\n",
       "        vertical-align: top;\n",
       "    }\n",
       "\n",
       "    .dataframe thead th {\n",
       "        text-align: right;\n",
       "    }\n",
       "</style>\n",
       "<table border=\"1\" class=\"dataframe\">\n",
       "  <thead>\n",
       "    <tr style=\"text-align: right;\">\n",
       "      <th></th>\n",
       "      <th>total_bill</th>\n",
       "      <th>tip</th>\n",
       "      <th>sex</th>\n",
       "      <th>smoker</th>\n",
       "      <th>day</th>\n",
       "      <th>time</th>\n",
       "      <th>size</th>\n",
       "    </tr>\n",
       "  </thead>\n",
       "  <tbody>\n",
       "    <tr>\n",
       "      <th>0</th>\n",
       "      <td>16.99</td>\n",
       "      <td>1.01</td>\n",
       "      <td>Female</td>\n",
       "      <td>No</td>\n",
       "      <td>Sun</td>\n",
       "      <td>Dinner</td>\n",
       "      <td>2</td>\n",
       "    </tr>\n",
       "    <tr>\n",
       "      <th>1</th>\n",
       "      <td>10.34</td>\n",
       "      <td>1.66</td>\n",
       "      <td>Male</td>\n",
       "      <td>No</td>\n",
       "      <td>Sun</td>\n",
       "      <td>Dinner</td>\n",
       "      <td>3</td>\n",
       "    </tr>\n",
       "    <tr>\n",
       "      <th>2</th>\n",
       "      <td>21.01</td>\n",
       "      <td>3.50</td>\n",
       "      <td>Male</td>\n",
       "      <td>No</td>\n",
       "      <td>Sun</td>\n",
       "      <td>Dinner</td>\n",
       "      <td>3</td>\n",
       "    </tr>\n",
       "    <tr>\n",
       "      <th>3</th>\n",
       "      <td>23.68</td>\n",
       "      <td>3.31</td>\n",
       "      <td>Male</td>\n",
       "      <td>No</td>\n",
       "      <td>Sun</td>\n",
       "      <td>Dinner</td>\n",
       "      <td>2</td>\n",
       "    </tr>\n",
       "    <tr>\n",
       "      <th>4</th>\n",
       "      <td>24.59</td>\n",
       "      <td>3.61</td>\n",
       "      <td>Female</td>\n",
       "      <td>No</td>\n",
       "      <td>Sun</td>\n",
       "      <td>Dinner</td>\n",
       "      <td>4</td>\n",
       "    </tr>\n",
       "    <tr>\n",
       "      <th>...</th>\n",
       "      <td>...</td>\n",
       "      <td>...</td>\n",
       "      <td>...</td>\n",
       "      <td>...</td>\n",
       "      <td>...</td>\n",
       "      <td>...</td>\n",
       "      <td>...</td>\n",
       "    </tr>\n",
       "    <tr>\n",
       "      <th>239</th>\n",
       "      <td>29.03</td>\n",
       "      <td>5.92</td>\n",
       "      <td>Male</td>\n",
       "      <td>No</td>\n",
       "      <td>Sat</td>\n",
       "      <td>Dinner</td>\n",
       "      <td>3</td>\n",
       "    </tr>\n",
       "    <tr>\n",
       "      <th>240</th>\n",
       "      <td>27.18</td>\n",
       "      <td>2.00</td>\n",
       "      <td>Female</td>\n",
       "      <td>Yes</td>\n",
       "      <td>Sat</td>\n",
       "      <td>Dinner</td>\n",
       "      <td>2</td>\n",
       "    </tr>\n",
       "    <tr>\n",
       "      <th>241</th>\n",
       "      <td>22.67</td>\n",
       "      <td>2.00</td>\n",
       "      <td>Male</td>\n",
       "      <td>Yes</td>\n",
       "      <td>Sat</td>\n",
       "      <td>Dinner</td>\n",
       "      <td>2</td>\n",
       "    </tr>\n",
       "    <tr>\n",
       "      <th>242</th>\n",
       "      <td>17.82</td>\n",
       "      <td>1.75</td>\n",
       "      <td>Male</td>\n",
       "      <td>No</td>\n",
       "      <td>Sat</td>\n",
       "      <td>Dinner</td>\n",
       "      <td>2</td>\n",
       "    </tr>\n",
       "    <tr>\n",
       "      <th>243</th>\n",
       "      <td>18.78</td>\n",
       "      <td>3.00</td>\n",
       "      <td>Female</td>\n",
       "      <td>No</td>\n",
       "      <td>Thur</td>\n",
       "      <td>Dinner</td>\n",
       "      <td>2</td>\n",
       "    </tr>\n",
       "  </tbody>\n",
       "</table>\n",
       "<p>244 rows × 7 columns</p>\n",
       "</div>"
      ],
      "text/plain": [
       "     total_bill   tip     sex smoker   day    time  size\n",
       "0         16.99  1.01  Female     No   Sun  Dinner     2\n",
       "1         10.34  1.66    Male     No   Sun  Dinner     3\n",
       "2         21.01  3.50    Male     No   Sun  Dinner     3\n",
       "3         23.68  3.31    Male     No   Sun  Dinner     2\n",
       "4         24.59  3.61  Female     No   Sun  Dinner     4\n",
       "..          ...   ...     ...    ...   ...     ...   ...\n",
       "239       29.03  5.92    Male     No   Sat  Dinner     3\n",
       "240       27.18  2.00  Female    Yes   Sat  Dinner     2\n",
       "241       22.67  2.00    Male    Yes   Sat  Dinner     2\n",
       "242       17.82  1.75    Male     No   Sat  Dinner     2\n",
       "243       18.78  3.00  Female     No  Thur  Dinner     2\n",
       "\n",
       "[244 rows x 7 columns]"
      ]
     },
     "execution_count": 3,
     "metadata": {},
     "output_type": "execute_result"
    }
   ],
   "source": [
    "df = pd.read_csv(\"./tips.csv\")\n",
    "df"
   ]
  },
  {
   "cell_type": "markdown",
   "metadata": {},
   "source": [
    "# Average tip for lunch and for dinner"
   ]
  },
  {
   "cell_type": "code",
   "execution_count": 4,
   "metadata": {},
   "outputs": [
    {
     "name": "stdout",
     "output_type": "stream",
     "text": [
      "dinner rate = 0.14918722509083954\n",
      "lunch rate = 0.15889915800834284\n"
     ]
    }
   ],
   "source": [
    "# for dinner\n",
    "dinDf = df[df.time == 'Dinner']\n",
    "dinRate =  dinDf.tip.sum() / dinDf.total_bill.sum() \n",
    "print('dinner rate = {}'.format(dinRate))\n",
    "\n",
    "\n",
    "\n",
    "# for lunch\n",
    "lunDf = df[df.time == 'Lunch']\n",
    "lunRate = lunDf.tip.sum() / lunDf.total_bill.sum()\n",
    "print('lunch rate = {}'.format(lunRate))"
   ]
  },
  {
   "cell_type": "markdown",
   "metadata": {},
   "source": [
    "# Tip for each day"
   ]
  },
  {
   "cell_type": "code",
   "execution_count": 5,
   "metadata": {},
   "outputs": [
    {
     "name": "stdout",
     "output_type": "stream",
     "text": [
      "Fri rate = 0.15944519455014114\n",
      "Sat rate = 0.14642375168690958\n",
      "Sun rate = 0.1520379065365422\n",
      "Thur rate = 0.1567320058741437\n"
     ]
    }
   ],
   "source": [
    "# Fri\n",
    "data = df[df.day == 'Fri']\n",
    "rate = data.tip.sum() / data.total_bill.sum()\n",
    "print('Fri rate = {}'.format(rate))\n",
    "# Sat\n",
    "data = df[df.day == 'Sat']\n",
    "rate = data.tip.sum() / data.total_bill.sum()\n",
    "print('Sat rate = {}'.format(rate))\n",
    "# Sun\n",
    "data = df[df.day == 'Sun']\n",
    "rate = data.tip.sum() / data.total_bill.sum()\n",
    "print('Sun rate = {}'.format(rate))\n",
    "# Thur\n",
    "data = df[df.day == 'Thur']\n",
    "rate = data.tip.sum() / data.total_bill.sum()\n",
    "print('Thur rate = {}'.format(rate))"
   ]
  },
  {
   "cell_type": "markdown",
   "metadata": {},
   "source": [
    "# Highest tip (which day and time)\n"
   ]
  },
  {
   "cell_type": "code",
   "execution_count": 6,
   "metadata": {},
   "outputs": [
    {
     "name": "stdout",
     "output_type": "stream",
     "text": [
      "Fri lunch rate = 0.1854982206405694\n",
      "Fri dinner rate = 0.14951686726563826\n",
      "Sat lunch rate = 0\n",
      "Sat dinner rate = 0.14642375168690958\n",
      "Sun lunch rate = 0\n",
      "Sun dinner rate = 0.1520379065365422\n",
      "Thur lunch rate = 0.15667950443134887\n",
      "Thur dinner rate = 0.1597444089456869\n"
     ]
    }
   ],
   "source": [
    "# Fri\n",
    "data = df[(df.day == 'Fri')]\n",
    "data = data[(data.time == 'Lunch')]\n",
    "rate = data.tip.sum() / data.total_bill.sum()\n",
    "print('Fri lunch rate = {}'.format(rate))\n",
    "\n",
    "data = df[(df.day == 'Fri')]\n",
    "data = data[(data.time == 'Dinner')]\n",
    "rate = data.tip.sum() / data.total_bill.sum()\n",
    "print('Fri dinner rate = {}'.format(rate))\n",
    "\n",
    "\n",
    "# Sat\n",
    "data = df[(df.day == 'Sat')]\n",
    "data = data[(data.time == 'Lunch')]\n",
    "rate = 0\n",
    "print('Sat lunch rate = {}'.format(rate))\n",
    "\n",
    "data = df[(df.day == 'Sat')]\n",
    "data = data[(data.time == 'Dinner')]\n",
    "rate = data.tip.sum() / data.total_bill.sum()\n",
    "print('Sat dinner rate = {}'.format(rate))\n",
    "\n",
    "# Sun\n",
    "data = df[(df.day == 'Sun')]\n",
    "data = data[(data.time == 'Lunch')]\n",
    "rate = 0\n",
    "print('Sun lunch rate = {}'.format(rate))\n",
    "\n",
    "data = df[(df.day == 'Sun')]\n",
    "data = data[(data.time == 'Dinner')]\n",
    "rate = data.tip.sum() / data.total_bill.sum()\n",
    "print('Sun dinner rate = {}'.format(rate))\n",
    "\n",
    "\n",
    "# Thur\n",
    "data = df[(df.day == 'Thur')]\n",
    "data = data[(data.time == 'Lunch')]\n",
    "rate = data.tip.sum() / data.total_bill.sum()\n",
    "print('Thur lunch rate = {}'.format(rate))\n",
    "\n",
    "data = df[(df.day == 'Thur')]\n",
    "data = data[(data.time == 'Dinner')]\n",
    "rate = data.tip.sum() / data.total_bill.sum()\n",
    "print('Thur dinner rate = {}'.format(rate))"
   ]
  },
  {
   "cell_type": "markdown",
   "metadata": {},
   "source": [
    "# Correlation between meal price and tips"
   ]
  },
  {
   "cell_type": "code",
   "execution_count": 7,
   "metadata": {},
   "outputs": [
    {
     "name": "stdout",
     "output_type": "stream",
     "text": [
      "correlation is 0.6757341092113642\n"
     ]
    }
   ],
   "source": [
    "mealPrice = df.total_bill\n",
    "tip = df.tip\n",
    "pearsonR,_ = pearsonr(mealPrice, tip)\n",
    "\n",
    "print('correlation is {}'.format(pearsonR))"
   ]
  },
  {
   "cell_type": "markdown",
   "metadata": {},
   "source": [
    "# Correlation between size and tips"
   ]
  },
  {
   "cell_type": "code",
   "execution_count": 8,
   "metadata": {},
   "outputs": [
    {
     "name": "stdout",
     "output_type": "stream",
     "text": [
      "correlation is 0.489298775230357\n"
     ]
    }
   ],
   "source": [
    "size = df.loc[:, 'size']\n",
    "tip = df.tip\n",
    "pearsonR,_ = pearsonr(size, tip)\n",
    "\n",
    "print('correlation is {}'.format(pearsonR))"
   ]
  },
  {
   "cell_type": "markdown",
   "metadata": {},
   "source": [
    "# Percentage of people are smoking"
   ]
  },
  {
   "cell_type": "code",
   "execution_count": 9,
   "metadata": {},
   "outputs": [
    {
     "name": "stdout",
     "output_type": "stream",
     "text": [
      "smoke rate = 0.38114754098360654\n"
     ]
    }
   ],
   "source": [
    "smokeNO = df[df.smoker == \"No\"].smoker.count()\n",
    "smokeYes = df[df.smoker == 'Yes'].smoker.count()\n",
    "rate = smokeYes / (smokeNO + smokeYes)\n",
    "print('smoke rate = {}'.format(rate))\n"
   ]
  },
  {
   "cell_type": "markdown",
   "metadata": {},
   "source": [
    "# Tips increasing with time in each day?"
   ]
  },
  {
   "cell_type": "code",
   "execution_count": 10,
   "metadata": {},
   "outputs": [
    {
     "data": {
      "text/plain": [
       "Text(0.5, 1.0, 'Fri')"
      ]
     },
     "execution_count": 10,
     "metadata": {},
     "output_type": "execute_result"
    },
    {
     "data": {
      "image/png": "[encoded data removed]",
      "text/plain": [
       "<Figure size 432x288 with 1 Axes>"
      ]
     },
     "metadata": {
      "needs_background": "light"
     },
     "output_type": "display_data"
    }
   ],
   "source": [
    "# Fri\n",
    "data = df[df.day == 'Fri']\n",
    "data = list(data.tip)\n",
    "\n",
    "n = len(data)\n",
    "temp = [i for i in range(n)]\n",
    "\n",
    "\n",
    "%matplotlib inline\n",
    "plt.plot(temp, data)\n",
    "plt.title('Fri')"
   ]
  },
  {
   "cell_type": "code",
   "execution_count": 11,
   "metadata": {},
   "outputs": [
    {
     "data": {
      "text/plain": [
       "Text(0.5, 1.0, 'Sat')"
      ]
     },
     "execution_count": 11,
     "metadata": {},
     "output_type": "execute_result"
    },
    {
     "data": {
      "image/png": "[encoded data removed]",
      "text/plain": [
       "<Figure size 432x288 with 1 Axes>"
      ]
     },
     "metadata": {
      "needs_background": "light"
     },
     "output_type": "display_data"
    }
   ],
   "source": [
    "# Sat\n",
    "data = df[df.day == 'Sat']\n",
    "data = list(data.tip)\n",
    "\n",
    "n = len(data)\n",
    "temp = [i for i in range(n)]\n",
    "\n",
    "\n",
    "%matplotlib inline\n",
    "plt.plot(temp, data)\n",
    "plt.title('Sat')"
   ]
  },
  {
   "cell_type": "code",
   "execution_count": 12,
   "metadata": {},
   "outputs": [
    {
     "data": {
      "text/plain": [
       "Text(0.5, 1.0, 'Sun')"
      ]
     },
     "execution_count": 12,
     "metadata": {},
     "output_type": "execute_result"
    },
    {
     "data": {
      "image/png": "[encoded data removed]",
      "text/plain": [
       "<Figure size 432x288 with 1 Axes>"
      ]
     },
     "metadata": {
      "needs_background": "light"
     },
     "output_type": "display_data"
    }
   ],
   "source": [
    "# Sun\n",
    "data = df[df.day == 'Sun']\n",
    "data = list(data.tip)\n",
    "\n",
    "n = len(data)\n",
    "temp = [i for i in range(n)]\n",
    "\n",
    "\n",
    "%matplotlib inline\n",
    "plt.plot(temp, data)\n",
    "plt.title('Sun')"
   ]
  },
  {
   "cell_type": "code",
   "execution_count": 13,
   "metadata": {},
   "outputs": [
    {
     "data": {
      "text/plain": [
       "Text(0.5, 1.0, 'Thur')"
      ]
     },
     "execution_count": 13,
     "metadata": {},
     "output_type": "execute_result"
    },
    {
     "data": {
      "image/png": "[encoded data removed]",
      "text/plain": [
       "<Figure size 432x288 with 1 Axes>"
      ]
     },
     "metadata": {
      "needs_background": "light"
     },
     "output_type": "display_data"
    }
   ],
   "source": [
    "# Thur\n",
    "data = df[df.day == 'Thur']\n",
    "data = list(data.tip)\n",
    "\n",
    "n = len(data)\n",
    "temp = [i for i in range(n)]\n",
    "\n",
    "\n",
    "%matplotlib inline\n",
    "plt.plot(temp, data)\n",
    "plt.title('Thur')"
   ]
  },
  {
   "cell_type": "markdown",
   "metadata": {},
   "source": [
    "# Difference in correlation between tip amounts from smokers and non-smokers"
   ]
  },
  {
   "cell_type": "code",
   "execution_count": 14,
   "metadata": {},
   "outputs": [
    {
     "data": {
      "text/plain": [
       "<matplotlib.legend.Legend at 0x1e6f5ad2f10>"
      ]
     },
     "execution_count": 14,
     "metadata": {},
     "output_type": "execute_result"
    },
    {
     "data": {
      "image/png": "[encoded data removed]",
      "text/plain": [
       "<Figure size 432x288 with 1 Axes>"
      ]
     },
     "metadata": {
      "needs_background": "light"
     },
     "output_type": "display_data"
    }
   ],
   "source": [
    "smokeDf = df[df.smoker == 'Yes']\n",
    "smokeTip = smokeDf.tip\n",
    "y = [0 for i in range(len(smokeTip))]\n",
    "plt.scatter(smokeTip, y, color = 'red', label='smoke')\n",
    "\n",
    "nonSmokeDf = df[df.smoker == 'No']\n",
    "nonSmokeTip = nonSmokeDf.tip\n",
    "y = [0.1 for i in range(len(nonSmokeTip))]\n",
    "plt.scatter(nonSmokeTip, y, color = 'blue', label='non smoke')\n",
    "\n",
    "plt.legend()"
   ]
  },
  {
   "cell_type": "code",
   "execution_count": 15,
   "metadata": {},
   "outputs": [
    {
     "data": {
      "text/plain": [
       "<matplotlib.legend.Legend at 0x1e6f66fb8b0>"
      ]
     },
     "execution_count": 15,
     "metadata": {},
     "output_type": "execute_result"
    },
    {
     "data": {
      "image/png": "[encoded data removed]",
      "text/plain": [
       "<Figure size 432x288 with 1 Axes>"
      ]
     },
     "metadata": {
      "needs_background": "light"
     },
     "output_type": "display_data"
    }
   ],
   "source": [
    "plt.hist(smokeTip, color = 'red', label = 'smoke')\n",
    "\n",
    "plt.hist(nonSmokeTip, color = 'Blue', alpha = 0.5, label = 'non smoke')\n",
    "\n",
    "\n",
    "plt.legend()"
   ]
  },
  {
   "cell_type": "code",
   "execution_count": 42,
   "metadata": {},
   "outputs": [
    {
     "name": "stdout",
     "output_type": "stream",
     "text": [
      "1.9641113604488074\n",
      "1.8966525386313473\n"
     ]
    }
   ],
   "source": [
    "print(smokeTip.var())\n",
    "print(nonSmokeTip.var())"
   ]
  },
  {
   "cell_type": "code",
   "execution_count": 34,
   "metadata": {},
   "outputs": [],
   "source": [
    "import scipy.stats as st\n",
    "\n",
    "def f_test(x, y, alt=\"two_sided\"):\n",
    "    \"\"\"\n",
    "    Calculates the F-test.\n",
    "    :param x: The first group of data\n",
    "    :param y: The second group of data\n",
    "    :param alt: The alternative hypothesis, one of \"two_sided\" (default), \"greater\" or \"less\"\n",
    "    :return: a tuple with the F statistic value and the p-value.\n",
    "    \"\"\"\n",
    "    df1 = len(x) - 1\n",
    "    df2 = len(y) - 1\n",
    "    f = x.var() / y.var()\n",
    "    if alt == \"greater\":\n",
    "        p = 1.0 - st.f.cdf(f, df1, df2)\n",
    "    elif alt == \"less\":\n",
    "        p = st.f.cdf(f, df1, df2)\n",
    "    else:\n",
    "        # two-sided by default\n",
    "        # Crawley, the R book, p.355\n",
    "        p = 2.0*(1.0 - st.f.cdf(f, df1, df2))\n",
    "    return f, p"
   ]
  },
  {
   "cell_type": "code",
   "execution_count": 43,
   "metadata": {},
   "outputs": [
    {
     "data": {
      "text/plain": [
       "(1.0355673063164956, 0.8403389471627465)"
      ]
     },
     "execution_count": 43,
     "metadata": {},
     "output_type": "execute_result"
    }
   ],
   "source": [
    "f_test(smokeTip, nonSmokeTip)"
   ]
  },
  {
   "cell_type": "code",
   "execution_count": null,
   "metadata": {},
   "outputs": [],
   "source": []
  }
 ],
 "metadata": {
  "interpreter": {
   "hash": "934e9733469ba33743180f4f0a45fb5fa97889cb236cef54782b3750effb92db"
  },
  "kernelspec": {
   "display_name": "Python 3",
   "language": "python",
   "name": "python3"
  },
  "language_info": {
   "codemirror_mode": {
    "name": "ipython",
    "version": 3
   },
   "file_extension": ".py",
   "mimetype": "text/x-python",
   "name": "python",
   "nbconvert_exporter": "python",
   "pygments_lexer": "ipython3",
   "version": "3.8.8"
  }
 },
 "nbformat": 4,
 "nbformat_minor": 2
}
