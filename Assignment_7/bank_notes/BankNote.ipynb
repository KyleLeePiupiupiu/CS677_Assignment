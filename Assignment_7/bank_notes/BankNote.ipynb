{
 "cells": [
  {
   "cell_type": "code",
   "execution_count": 2,
   "metadata": {},
   "outputs": [],
   "source": [
    "import pandas as pd\n",
    "import numpy as np\n",
    "import sklearn.neighbors\n",
    "from sklearn.model_selection import train_test_split\n",
    "from sklearn.neighbors import KNeighborsClassifier\n",
    "from sklearn.metrics import accuracy_score\n",
    "import matplotlib.pyplot as plt\n",
    "from sklearn.metrics import confusion_matrix\n",
    "from sklearn.preprocessing import StandardScaler\n",
    "scaler = StandardScaler()\n",
    "from sklearn.neighbors import NearestCentroid\n",
    "import math\n",
    "from sklearn.linear_model import LogisticRegression\n"
   ]
  },
  {
   "cell_type": "code",
   "execution_count": 3,
   "metadata": {},
   "outputs": [],
   "source": [
    "df = pd.read_csv(\"./data_banknote_authentication.csv\")\n",
    "feature = df[['variance', 'skewness', 'curtosis', 'entropy']]\n",
    "label = df.iloc[:, 4]\n"
   ]
  },
  {
   "cell_type": "markdown",
   "metadata": {},
   "source": [
    "# Question4"
   ]
  },
  {
   "cell_type": "code",
   "execution_count": 4,
   "metadata": {},
   "outputs": [
    {
     "name": "stdout",
     "output_type": "stream",
     "text": [
      "0.9985422740524781\n",
      "0.9518950437317785\n",
      "0.9723032069970845\n",
      "0.9606413994169096\n",
      "0.9854227405247813\n"
     ]
    }
   ],
   "source": [
    "# optimal k = 7\n",
    "knn = KNeighborsClassifier(n_neighbors=7)\n",
    "# all 4 feature\n",
    "x = feature\n",
    "scaler.fit(x)\n",
    "x = scaler.transform(x)\n",
    "y = label\n",
    "\n",
    "xTrain, xTest, yTrain, yTest = train_test_split(x, y, random_state=0, test_size=0.5)\n",
    "knn.fit(xTrain, yTrain)\n",
    "yPredict = knn.predict(xTest)\n",
    "print(accuracy_score(yTest, yPredict))\n",
    "# f1 miss\n",
    "x = feature[['skewness', 'curtosis', 'entropy']]\n",
    "scaler.fit(x)\n",
    "x = scaler.transform(x)\n",
    "y = label\n",
    "\n",
    "xTrain, xTest, yTrain, yTest = train_test_split(x, y, random_state=0, test_size=0.5)\n",
    "knn.fit(xTrain, yTrain)\n",
    "yPredict = knn.predict(xTest)\n",
    "print(accuracy_score(yTest, yPredict))\n",
    "\n",
    "# f2 miss\n",
    "x = feature[['variance','curtosis', 'entropy']]\n",
    "scaler.fit(x)\n",
    "x = scaler.transform(x)\n",
    "y = label\n",
    "\n",
    "xTrain, xTest, yTrain, yTest = train_test_split(x, y, random_state=0, test_size=0.5)\n",
    "knn.fit(xTrain, yTrain)\n",
    "yPredict = knn.predict(xTest)\n",
    "print(accuracy_score(yTest, yPredict))\n",
    "\n",
    "# f3 miss\n",
    "x = feature[['variance', 'skewness', 'entropy']]\n",
    "scaler.fit(x)\n",
    "x = scaler.transform(x)\n",
    "y = label\n",
    "\n",
    "xTrain, xTest, yTrain, yTest = train_test_split(x, y, random_state=0, test_size=0.5)\n",
    "knn.fit(xTrain, yTrain)\n",
    "yPredict = knn.predict(xTest)\n",
    "print(accuracy_score(yTest, yPredict))\n",
    "\n",
    "# f4 miss\n",
    "x = feature[['variance', 'skewness', 'curtosis', ]]\n",
    "scaler.fit(x)\n",
    "x = scaler.transform(x)\n",
    "y = label\n",
    "\n",
    "xTrain, xTest, yTrain, yTest = train_test_split(x, y, random_state=0, test_size=0.5)\n",
    "knn.fit(xTrain, yTrain)\n",
    "yPredict = knn.predict(xTest)\n",
    "print(accuracy_score(yTest, yPredict))"
   ]
  },
  {
   "cell_type": "markdown",
   "metadata": {},
   "source": [
    "# Question5"
   ]
  },
  {
   "cell_type": "code",
   "execution_count": 6,
   "metadata": {},
   "outputs": [
    {
     "name": "stdout",
     "output_type": "stream",
     "text": [
      "0.9810495626822158\n",
      "[[373  12]\n",
      " [  1 300]]\n",
      "TPR = 0.9688311688311688, TNR = 0.9966777408637874, tp fp tn fn = 373 1 300 12\n",
      "[0]\n"
     ]
    }
   ],
   "source": [
    "log = LogisticRegression()\n",
    "x = feature\n",
    "scaler.fit(x)\n",
    "x = scaler.transform(x)\n",
    "y = label\n",
    "\n",
    "\n",
    "xTrain, xTest, yTrain, yTest = train_test_split(x, y, random_state=0, test_size=0.5)\n",
    "log.fit(xTrain, yTrain)\n",
    "yPredict = log.predict(xTest)\n",
    "print(accuracy_score(yTest, yPredict))\n",
    "\n",
    "## Confusion Matrix I choose \n",
    "# 0 is positive good 1 is negative\n",
    "temp = confusion_matrix(yTest, yPredict)\n",
    "print(temp)\n",
    "\n",
    "tp = temp[0][0]\n",
    "fp = temp[1][0]\n",
    "tn = temp[1][1]\n",
    "fn = temp[0][1]\n",
    "\n",
    "tpr = tp / (tp + fn)\n",
    "tnr = tn / (tn + fp)\n",
    "\n",
    "print('TPR = {}, TNR = {}, tp fp tn fn = {} {} {} {}'.format(tpr, tnr, tp, fp, tn, fn))\n",
    "\n",
    "\n",
    "# BU ID 1194\n",
    "x = {'variance':[1], 'skewness':[1], 'curtosis':[9], 'entropy':[4]}\n",
    "x = pd.DataFrame.from_dict(x)\n",
    "x = scaler.transform(x)\n",
    "yPredict = log.predict(x)\n",
    "print(yPredict)"
   ]
  },
  {
   "cell_type": "markdown",
   "metadata": {},
   "source": [
    "# Question6"
   ]
  },
  {
   "cell_type": "code",
   "execution_count": 7,
   "metadata": {},
   "outputs": [
    {
     "name": "stdout",
     "output_type": "stream",
     "text": [
      "0.9810495626822158\n",
      "0.8206997084548106\n",
      "0.8935860058309038\n",
      "0.8731778425655977\n",
      "0.9810495626822158\n"
     ]
    }
   ],
   "source": [
    "log = LogisticRegression()\n",
    "# all 4 feature\n",
    "x = feature\n",
    "scaler.fit(x)\n",
    "x = scaler.transform(x)\n",
    "y = label\n",
    "\n",
    "xTrain, xTest, yTrain, yTest = train_test_split(x, y, random_state=0, test_size=0.5)\n",
    "log.fit(xTrain, yTrain)\n",
    "yPredict = log.predict(xTest)\n",
    "print(accuracy_score(yTest, yPredict))\n",
    "# f1 miss\n",
    "x = feature[['skewness', 'curtosis', 'entropy']]\n",
    "scaler.fit(x)\n",
    "x = scaler.transform(x)\n",
    "y = label\n",
    "\n",
    "xTrain, xTest, yTrain, yTest = train_test_split(x, y, random_state=0, test_size=0.5)\n",
    "log.fit(xTrain, yTrain)\n",
    "yPredict = log.predict(xTest)\n",
    "print(accuracy_score(yTest, yPredict))\n",
    "\n",
    "# f2 miss\n",
    "x = feature[['variance','curtosis', 'entropy']]\n",
    "scaler.fit(x)\n",
    "x = scaler.transform(x)\n",
    "y = label\n",
    "\n",
    "xTrain, xTest, yTrain, yTest = train_test_split(x, y, random_state=0, test_size=0.5)\n",
    "log.fit(xTrain, yTrain)\n",
    "yPredict = log.predict(xTest)\n",
    "print(accuracy_score(yTest, yPredict))\n",
    "\n",
    "# f3 miss\n",
    "x = feature[['variance', 'skewness', 'entropy']]\n",
    "scaler.fit(x)\n",
    "x = scaler.transform(x)\n",
    "y = label\n",
    "\n",
    "xTrain, xTest, yTrain, yTest = train_test_split(x, y, random_state=0, test_size=0.5)\n",
    "log.fit(xTrain, yTrain)\n",
    "yPredict = log.predict(xTest)\n",
    "print(accuracy_score(yTest, yPredict))\n",
    "\n",
    "# f4 miss\n",
    "x = feature[['variance', 'skewness', 'curtosis', ]]\n",
    "scaler.fit(x)\n",
    "x = scaler.transform(x)\n",
    "y = label\n",
    "\n",
    "xTrain, xTest, yTrain, yTest = train_test_split(x, y, random_state=0, test_size=0.5)\n",
    "log.fit(xTrain, yTrain)\n",
    "yPredict = log.predict(xTest)\n",
    "print(accuracy_score(yTest, yPredict))"
   ]
  },
  {
   "cell_type": "code",
   "execution_count": null,
   "metadata": {},
   "outputs": [],
   "source": []
  }
 ],
 "metadata": {
  "interpreter": {
   "hash": "934e9733469ba33743180f4f0a45fb5fa97889cb236cef54782b3750effb92db"
  },
  "kernelspec": {
   "display_name": "Python 3",
   "language": "python",
   "name": "python3"
  },
  "language_info": {
   "codemirror_mode": {
    "name": "ipython",
    "version": 3
   },
   "file_extension": ".py",
   "mimetype": "text/x-python",
   "name": "python",
   "nbconvert_exporter": "python",
   "pygments_lexer": "ipython3",
   "version": "3.8.8"
  }
 },
 "nbformat": 4,
 "nbformat_minor": 2
}
