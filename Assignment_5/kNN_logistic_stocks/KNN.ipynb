{
 "cells": [
  {
   "cell_type": "code",
   "execution_count": 1,
   "metadata": {},
   "outputs": [],
   "source": [
    "import pandas as pd\n",
    "import numpy as np\n",
    "from sklearn.model_selection import train_test_split\n",
    "import seaborn as sns\n",
    "import matplotlib.pyplot as plt\n",
    "from sklearn.neighbors import KNeighborsClassifier\n",
    "from sklearn.preprocessing import LabelEncoder\n",
    "from sklearn.metrics import accuracy_score\n",
    "from sklearn.metrics import confusion_matrix"
   ]
  },
  {
   "cell_type": "code",
   "execution_count": 2,
   "metadata": {},
   "outputs": [],
   "source": [
    "df = pd.read_csv('./GOOGL_weekly_return_volatility.csv')\n",
    "year1 = df[df.Year == 2019]\n",
    "year2 = df[df.Year == 2020]"
   ]
  },
  {
   "cell_type": "code",
   "execution_count": 3,
   "metadata": {},
   "outputs": [
    {
     "name": "stdout",
     "output_type": "stream",
     "text": [
      "[0.9090909090909091, 0.8636363636363636, 0.8181818181818182, 0.9090909090909091, 0.9090909090909091]\n"
     ]
    },
    {
     "data": {
      "image/png": "[encoded data removed]",
      "text/plain": [
       "<Figure size 432x288 with 1 Axes>"
      ]
     },
     "metadata": {
      "needs_background": "light"
     },
     "output_type": "display_data"
    }
   ],
   "source": [
    "# year1 knn accuracy\n",
    "kList = [3,5,7,9,11]\n",
    "accuracy = []\n",
    "x = year1[['mean_return', 'volatility']]\n",
    "y = year1.label\n",
    "xTrain, xTest, yTrain, yTest = train_test_split(x, y, test_size=0.4, random_state=0)\n",
    "for k in kList:\n",
    "    knn = KNeighborsClassifier(n_neighbors=k)\n",
    "    knn.fit(xTrain, yTrain)\n",
    "    yPredict = knn.predict(xTest)\n",
    "    accuracy.append(accuracy_score(yTest, yPredict))\n",
    "\n",
    "plt.plot(kList, accuracy)\n",
    "print(accuracy)"
   ]
  },
  {
   "cell_type": "code",
   "execution_count": 10,
   "metadata": {},
   "outputs": [
    {
     "name": "stdout",
     "output_type": "stream",
     "text": [
      "k = 3, accuracy = 0.8867924528301887\n",
      "k = 9, accuracy = 0.9433962264150944\n",
      "k = 11, accuracy = 0.9811320754716981\n",
      "[[29  0]\n",
      " [ 0 24]]\n",
      "TPR = 1.0, TNR = 1.0\n"
     ]
    }
   ],
   "source": [
    "# Optimal k is 3,9,11\n",
    "kList = [3,9,11]\n",
    "accuracy = []\n",
    "x = year1[['mean_return', 'volatility']]\n",
    "y = year1.label\n",
    "xTest = year2[['mean_return', 'volatility']]\n",
    "yTest = year2.label\n",
    "for k in kList:\n",
    "    knn = KNeighborsClassifier(n_neighbors=k)\n",
    "    knn.fit(x, y)\n",
    "    yPredict = knn.predict(xTest)\n",
    "    print('k = {}, accuracy = {}'.format(k, accuracy_score(yTest, yPredict)))\n",
    "\n",
    "\n",
    "# Confusion Matrix I choose k = 3\n",
    "knn = KNeighborsClassifier(n_neighbors=3)\n",
    "knn.fit(xTrain, yTrain)\n",
    "labelYear2 = knn.predict(xTest)\n",
    "\n",
    "temp = confusion_matrix(yTest, labelYear2)\n",
    "print(temp)\n",
    "\n",
    "tpr = temp[0][0] / (temp[0][0] + temp[0][1])\n",
    "tnr = temp[1][1] / (temp[0][1] + temp[1][1])\n",
    "print('TPR = {}, TNR = {}'.format(tpr, tnr))\n"
   ]
  },
  {
   "cell_type": "markdown",
   "metadata": {},
   "source": [
    "# Strategy Based on Labels vs BH"
   ]
  },
  {
   "cell_type": "code",
   "execution_count": 14,
   "metadata": {},
   "outputs": [
    {
     "name": "stderr",
     "output_type": "stream",
     "text": [
      "C:\\Users\\Lee\\anaconda3\\lib\\site-packages\\pandas\\core\\generic.py:5494: SettingWithCopyWarning: \n",
      "A value is trying to be set on a copy of a slice from a DataFrame.\n",
      "Try using .loc[row_indexer,col_indexer] = value instead\n",
      "\n",
      "See the caveats in the documentation: https://pandas.pydata.org/pandas-docs/stable/user_guide/indexing.html#returning-a-view-versus-a-copy\n",
      "  self[name] = value\n",
      "<ipython-input-14-d3b9f897e9e2>:19: SettingWithCopyWarning: \n",
      "A value is trying to be set on a copy of a slice from a DataFrame.\n",
      "Try using .loc[row_indexer,col_indexer] = value instead\n",
      "\n",
      "See the caveats in the documentation: https://pandas.pydata.org/pandas-docs/stable/user_guide/indexing.html#returning-a-view-versus-a-copy\n",
      "  dfYear2['Label'] = temp\n"
     ]
    }
   ],
   "source": [
    "dfDetail = pd.read_csv(\"./GOOGL_weekly_return_volatility_detailed.csv\")\n",
    "dfYear2 = dfDetail[dfDetail.Year == 2020]\n",
    "year2.label = labelYear2\n",
    "\n",
    "\n",
    "## Add label to detail\n",
    "labelMap = {}\n",
    "for (y, w, l) in zip(year2.Year, year2.Week_Number, year2.label):\n",
    "    key = (y, w)\n",
    "    value = l\n",
    "    labelMap[key] = value\n",
    "\n",
    "temp = []\n",
    "for (y, w) in zip(dfYear2.Year, dfYear2.Week_Number):\n",
    "    key = (y, w)\n",
    "    temp.append(labelMap[key])\n",
    "\n",
    "## Extract data\n",
    "dfYear2['Label'] = temp\n",
    "dfYear2 = dfYear2[['Year', 'Week_Number', 'Close', 'Label']]\n",
    "\n",
    "## Cut goo2020\n",
    "goo2020Week = []\n",
    "for i in range(53):\n",
    "    temp = dfYear2[dfYear2.Week_Number == i]\n",
    "    temp = temp.reset_index(drop=True)\n",
    "    goo2020Week.append(temp)\n",
    "\n"
   ]
  },
  {
   "cell_type": "code",
   "execution_count": 15,
   "metadata": {},
   "outputs": [
    {
     "data": {
      "text/html": [
       "<div>\n",
       "<style scoped>\n",
       "    .dataframe tbody tr th:only-of-type {\n",
       "        vertical-align: middle;\n",
       "    }\n",
       "\n",
       "    .dataframe tbody tr th {\n",
       "        vertical-align: top;\n",
       "    }\n",
       "\n",
       "    .dataframe thead th {\n",
       "        text-align: right;\n",
       "    }\n",
       "</style>\n",
       "<table border=\"1\" class=\"dataframe\">\n",
       "  <thead>\n",
       "    <tr style=\"text-align: right;\">\n",
       "      <th></th>\n",
       "      <th>Year</th>\n",
       "      <th>Week_Number</th>\n",
       "      <th>Close</th>\n",
       "      <th>Label</th>\n",
       "    </tr>\n",
       "  </thead>\n",
       "  <tbody>\n",
       "    <tr>\n",
       "      <th>252</th>\n",
       "      <td>2020</td>\n",
       "      <td>0</td>\n",
       "      <td>1368.680054</td>\n",
       "      <td>1</td>\n",
       "    </tr>\n",
       "    <tr>\n",
       "      <th>253</th>\n",
       "      <td>2020</td>\n",
       "      <td>0</td>\n",
       "      <td>1361.520020</td>\n",
       "      <td>1</td>\n",
       "    </tr>\n",
       "    <tr>\n",
       "      <th>254</th>\n",
       "      <td>2020</td>\n",
       "      <td>1</td>\n",
       "      <td>1397.810059</td>\n",
       "      <td>1</td>\n",
       "    </tr>\n",
       "    <tr>\n",
       "      <th>255</th>\n",
       "      <td>2020</td>\n",
       "      <td>1</td>\n",
       "      <td>1395.109985</td>\n",
       "      <td>1</td>\n",
       "    </tr>\n",
       "    <tr>\n",
       "      <th>256</th>\n",
       "      <td>2020</td>\n",
       "      <td>1</td>\n",
       "      <td>1405.040039</td>\n",
       "      <td>1</td>\n",
       "    </tr>\n",
       "    <tr>\n",
       "      <th>...</th>\n",
       "      <td>...</td>\n",
       "      <td>...</td>\n",
       "      <td>...</td>\n",
       "      <td>...</td>\n",
       "    </tr>\n",
       "    <tr>\n",
       "      <th>499</th>\n",
       "      <td>2020</td>\n",
       "      <td>51</td>\n",
       "      <td>1728.229980</td>\n",
       "      <td>0</td>\n",
       "    </tr>\n",
       "    <tr>\n",
       "      <th>500</th>\n",
       "      <td>2020</td>\n",
       "      <td>51</td>\n",
       "      <td>1734.160034</td>\n",
       "      <td>0</td>\n",
       "    </tr>\n",
       "    <tr>\n",
       "      <th>501</th>\n",
       "      <td>2020</td>\n",
       "      <td>52</td>\n",
       "      <td>1773.959961</td>\n",
       "      <td>0</td>\n",
       "    </tr>\n",
       "    <tr>\n",
       "      <th>502</th>\n",
       "      <td>2020</td>\n",
       "      <td>52</td>\n",
       "      <td>1757.760010</td>\n",
       "      <td>0</td>\n",
       "    </tr>\n",
       "    <tr>\n",
       "      <th>503</th>\n",
       "      <td>2020</td>\n",
       "      <td>52</td>\n",
       "      <td>1736.250000</td>\n",
       "      <td>0</td>\n",
       "    </tr>\n",
       "  </tbody>\n",
       "</table>\n",
       "<p>252 rows × 4 columns</p>\n",
       "</div>"
      ],
      "text/plain": [
       "     Year  Week_Number        Close  Label\n",
       "252  2020            0  1368.680054      1\n",
       "253  2020            0  1361.520020      1\n",
       "254  2020            1  1397.810059      1\n",
       "255  2020            1  1395.109985      1\n",
       "256  2020            1  1405.040039      1\n",
       "..    ...          ...          ...    ...\n",
       "499  2020           51  1728.229980      0\n",
       "500  2020           51  1734.160034      0\n",
       "501  2020           52  1773.959961      0\n",
       "502  2020           52  1757.760010      0\n",
       "503  2020           52  1736.250000      0\n",
       "\n",
       "[252 rows x 4 columns]"
      ]
     },
     "execution_count": 15,
     "metadata": {},
     "output_type": "execute_result"
    }
   ],
   "source": []
  },
  {
   "cell_type": "code",
   "execution_count": 6,
   "metadata": {},
   "outputs": [
    {
     "name": "stdout",
     "output_type": "stream",
     "text": [
      "Using Label: 215.85697376702737\n",
      "Buy on first day and Sell on last day: 121.17033527942765\n"
     ]
    }
   ],
   "source": [
    "def proficCalculator(data, fund):\n",
    "    # Week 0 case\n",
    "    week1Data = data[0]\n",
    "    week1Label = week1Data.Label[0] # week 0 label\n",
    "\n",
    "    if week1Label == 1:\n",
    "        stock = True\n",
    "        buyPrice = week1Data.Close[0] # week 0 first day price\n",
    "        sellPrice = week1Data.Close[len(week1Data)-1] # week 0 last day price\n",
    "    else:\n",
    "        stock = False\n",
    "        buyPrice = week1Data.Close[len(week1Data)-1] # week 0 last day price\n",
    "        sellPrice = week1Data.Close[len(week1Data)-1] # week 0 last day price\n",
    "\n",
    "\n",
    "    for df in data[1:]:\n",
    "        nextWeekColor = df.Label[0]\n",
    "        nextClosePrice = df.Close[len(df)-1]\n",
    "\n",
    "        # stock + green = no action\n",
    "        if (stock == True) and (nextWeekColor == 1):\n",
    "            stock == True # Keep holding the stock\n",
    "            buyPrice = buyPrice # Buy point stay\n",
    "            sellPrice = nextClosePrice # Sell point move forward\n",
    "\n",
    "        # stock + red = sell\n",
    "        elif (stock == True) and (nextWeekColor == 0):\n",
    "            r = 1 + (sellPrice - buyPrice) / sellPrice\n",
    "            fund = fund * r\n",
    "            buyPrice = nextClosePrice\n",
    "            sellPrice = nextClosePrice\n",
    "            stock = False\n",
    "            \n",
    "        # money + green = buy stock\n",
    "        elif (stock == False) and (nextWeekColor == 1):\n",
    "            buyPrice = buyPrice\n",
    "            sellPrice = nextClosePrice\n",
    "            stock = True\n",
    "        # money + red = no action\n",
    "        elif (stock == False) and (nextWeekColor == 0):\n",
    "            buyPrice = nextClosePrice\n",
    "            sellPrice = nextClosePrice\n",
    "            stock = False\n",
    "\n",
    "    # Last withdraw\n",
    "    r = 1 + (sellPrice - buyPrice) / sellPrice\n",
    "    fund = fund * r\n",
    "    return fund\n",
    "\n",
    "\n",
    "if __name__ == \"__main__\":\n",
    "    # Trading base on my label\n",
    "    total = proficCalculator(goo2020Week, 100)\n",
    "    print(\"Using Label: {}\".format(total))\n",
    "\n",
    "    # Buy and hold \n",
    "    first = goo2020Week[0]\n",
    "    first = first.Close[0]\n",
    "\n",
    "    last = goo2020Week[-1]\n",
    "    last = last.Close[len(last)-1]\n",
    "\n",
    "    r = 1 + (last - first) / last\n",
    "    total = 100 * r\n",
    "    print(\"Buy on first day and Sell on last day: {}\".format(total))"
   ]
  },
  {
   "cell_type": "code",
   "execution_count": null,
   "metadata": {},
   "outputs": [],
   "source": []
  }
 ],
 "metadata": {
  "interpreter": {
   "hash": "934e9733469ba33743180f4f0a45fb5fa97889cb236cef54782b3750effb92db"
  },
  "kernelspec": {
   "display_name": "Python 3.8.8 64-bit ('base': conda)",
   "name": "python3"
  },
  "language_info": {
   "codemirror_mode": {
    "name": "ipython",
    "version": 3
   },
   "file_extension": ".py",
   "mimetype": "text/x-python",
   "name": "python",
   "nbconvert_exporter": "python",
   "pygments_lexer": "ipython3",
   "version": "3.8.8"
  }
 },
 "nbformat": 4,
 "nbformat_minor": 2
}
