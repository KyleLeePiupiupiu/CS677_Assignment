{
 "cells": [
  {
   "cell_type": "markdown",
   "id": "ada0a83a",
   "metadata": {},
   "source": [
    "# Open the file\n",
    "My BU ID is U64501194\n",
    "Therefore, I am dealing with the silver medals"
   ]
  },
  {
   "cell_type": "markdown",
   "id": "356c3703",
   "metadata": {},
   "source": [
    "### 1. load the \"country medals\" csv as a list of lines using Python and construct a sublist for you group"
   ]
  },
  {
   "cell_type": "code",
   "execution_count": 35,
   "id": "76d4753f",
   "metadata": {
    "scrolled": true
   },
   "outputs": [
    {
     "name": "stdout",
     "output_type": "stream",
     "text": [
      "opened file for ticker:  Country_Medals\n"
     ]
    }
   ],
   "source": [
    "# -*- coding: utf-8 -*-\n",
    "\"\"\"\n",
    "Created on Mon Nov  5 14:37:29 2018\n",
    "\n",
    "@author: epinsky\n",
    "this scripts reads your ticker file (e.g. MSFT.csv) and\n",
    "constructs a list of lines\n",
    "\"\"\"\n",
    "import os\n",
    "\n",
    "ticker='Country_Medals'\n",
    "input_dir = os.getcwd()\n",
    "ticker_file = os.path.join(input_dir, ticker + '.csv')\n",
    "\n",
    "try:   \n",
    "    with open(ticker_file) as f:\n",
    "        lines = f.read().splitlines()\n",
    "    print('opened file for ticker: ', ticker)\n",
    "    \"\"\"    your code for assignment 1 goes here\n",
    "    \"\"\"\n",
    "    \n",
    "except Exception as e:\n",
    "    print(e)\n",
    "    print('failed to read stock data for ticker: ', ticker)\n"
   ]
  },
  {
   "cell_type": "code",
   "execution_count": 36,
   "id": "990b8b34",
   "metadata": {},
   "outputs": [
    {
     "data": {
      "text/plain": [
       "['Year,Country_Code,Country_Name,Host_city,Host_country,Gold,Silver,Bronze',\n",
       " '1932,(USA),United States,Los Angeles,United States,41,32,30',\n",
       " '1932,(ITA),Italy,Los Angeles,United States,12,12,12',\n",
       " '1932,(FRA),France,Los Angeles,United States,10,5,4',\n",
       " '1932,(SWE),Sweden,Los Angeles,United States,9,5,9']"
      ]
     },
     "execution_count": 36,
     "metadata": {},
     "output_type": "execute_result"
    }
   ],
   "source": [
    "lines[0:5]"
   ]
  },
  {
   "cell_type": "markdown",
   "id": "544c08ba",
   "metadata": {},
   "source": [
    "# Extract the data "
   ]
  },
  {
   "cell_type": "code",
   "execution_count": 37,
   "id": "135bd1e9",
   "metadata": {},
   "outputs": [],
   "source": [
    "# Class a data type (year, countryName, silverMetal)\n",
    "class DataNode:\n",
    "    def __init__(self, year, countryName, silver):\n",
    "        self.year = year\n",
    "        self.countryName = countryName\n",
    "        self.silver = silver\n",
    "    def show(self):\n",
    "        print(\"{:5}  {:15}  {:3}\".format(self.year, self.countryName, self.silver))"
   ]
  },
  {
   "cell_type": "code",
   "execution_count": 38,
   "id": "9e2b42c1",
   "metadata": {},
   "outputs": [],
   "source": [
    "# Split the raw data into list\n",
    "table = []\n",
    "for line in lines:\n",
    "    temp = line.split(',')\n",
    "    table.append(temp)\n",
    "  \n",
    "# Extract the raw data\n",
    "extractData = []\n",
    "for row in table:\n",
    "    y = row[0]\n",
    "    cn = row[2]\n",
    "    s = row[6]\n",
    "    dataNode = DataNode(y, cn, s)\n",
    "    extractData.append(dataNode)\n",
    "\n",
    "# Remove the title from the extractData\n",
    "extractData = extractData[1:]"
   ]
  },
  {
   "cell_type": "code",
   "execution_count": 39,
   "id": "906b660b",
   "metadata": {},
   "outputs": [
    {
     "name": "stdout",
     "output_type": "stream",
     "text": [
      "1932   United States    32 \n",
      "1932   Italy            12 \n",
      "1932   France           5  \n",
      "1932   Sweden           5  \n",
      "1932   Japan            7  \n",
      "1932   Hungary          4  \n",
      "1932   Finland          8  \n",
      "1932   Great Britain    7  \n",
      "1932   Germany          12 \n",
      "1932   Australia        1  \n",
      "1932   Argentina        1  \n",
      "1932   Canada           5  \n",
      "1932   Netherlands      5  \n",
      "1932   Poland           1  \n",
      "1932   South Africa     0  \n",
      "1932   Ireland          0  \n",
      "1932   Czechoslovakia   2  \n",
      "1932   Austria          1  \n",
      "1932   India            0  \n",
      "1932   Denmark          3  \n"
     ]
    }
   ],
   "source": [
    "# Show the first 20 row of the extracted data\n",
    "for i in range(20):\n",
    "    extractData[i].show()"
   ]
  },
  {
   "cell_type": "markdown",
   "id": "97b2a34b",
   "metadata": {},
   "source": [
    "# Analysis "
   ]
  },
  {
   "cell_type": "markdown",
   "id": "fae0f7a5",
   "metadata": {},
   "source": [
    "### 2. how many entries are there?"
   ]
  },
  {
   "cell_type": "code",
   "execution_count": 40,
   "id": "4d2eb806",
   "metadata": {},
   "outputs": [
    {
     "name": "stdout",
     "output_type": "stream",
     "text": [
      "we have 1344 entries of data and 1 row of title\n"
     ]
    }
   ],
   "source": [
    "# How many entries\n",
    "entries = len(extractData)\n",
    "print(\"we have {} entries of data and 1 row of title\".format(entries))"
   ]
  },
  {
   "cell_type": "markdown",
   "id": "fd383455",
   "metadata": {},
   "source": [
    "Calculate the average medals for each country"
   ]
  },
  {
   "cell_type": "code",
   "execution_count": 41,
   "id": "23ec8132",
   "metadata": {},
   "outputs": [
    {
     "name": "stdout",
     "output_type": "stream",
     "text": [
      "2012   Afghanistan      0  \n",
      "2008   Afghanistan      0  \n",
      "1984   Algeria          0  \n",
      "2016   Algeria          2  \n",
      "2012   Algeria          0  \n",
      "2008   Algeria          1  \n",
      "2000   Algeria          1  \n",
      "1996   Algeria          0  \n",
      "1992   Algeria          0  \n",
      "1932   Argentina        1  \n",
      "1928   Argentina        3  \n",
      "1924   Argentina        3  \n",
      "1972   Argentina        1  \n",
      "1968   Argentina        0  \n",
      "1964   Argentina        1  \n",
      "1960   Argentina        1  \n",
      "2020   Argentina        1  \n",
      "2016   Argentina        1  \n",
      "2012   Argentina        1  \n",
      "2008   Argentina        0  \n"
     ]
    }
   ],
   "source": [
    "# Sort the list with the key 'countryName'\n",
    "sortData = sorted(extractData, key= lambda x:x.countryName)\n",
    "# Show first 20 data\n",
    "for node in sortData[0:20]:\n",
    "    node.show()"
   ]
  },
  {
   "cell_type": "code",
   "execution_count": 42,
   "id": "216363a1",
   "metadata": {},
   "outputs": [],
   "source": [
    "# Extract the country from data\n",
    "temp = []\n",
    "for node in sortData:\n",
    "    c = node.countryName\n",
    "    temp.append(c)\n",
    "\n",
    "\n",
    "# Processing the data into the form (countryname, list(a series of medal wins)\n",
    "countrySet = sorted(set(temp))\n",
    "medalList = [[] for i in range(len(countrySet))]\n",
    "\n",
    "for node in sortData:\n",
    "    n = node.countryName\n",
    "    s = node.silver\n",
    "    index = countrySet.index(n)\n",
    "    medalList[index].append(int(s))\n",
    "    \n",
    "countryMedalData = list(zip(countrySet, medalList))"
   ]
  },
  {
   "cell_type": "code",
   "execution_count": 43,
   "id": "06e4bb67",
   "metadata": {
    "scrolled": true
   },
   "outputs": [
    {
     "name": "stdout",
     "output_type": "stream",
     "text": [
      "('Afghanistan', [0, 0])\n",
      "('Algeria', [0, 2, 0, 1, 1, 0, 0])\n",
      "('Argentina', [1, 3, 3, 1, 0, 1, 1, 1, 1, 1, 0, 0, 2, 2, 0, 1, 1, 2, 3, 2])\n",
      "('Armenia', [2, 3, 1, 1, 0, 1])\n",
      "('Australasia', [2, 2])\n",
      "('Australia', [1, 2, 1, 2, 3, 0, 0, 8, 2, 1, 7, 7, 2, 8, 7, 11, 15, 15, 16, 25, 9, 9, 6, 8, 2, 6, 0])\n",
      "('Austria', [1, 0, 3, 2, 0, 1, 3, 1, 1, 2, 0, 1, 2, 1, 1, 0, 1, 4, 1, 1, 2, 0, 0, 1, 0, 6])\n",
      "('Azerbaijan', [3, 7, 2, 1, 0, 0, 1])\n",
      "('Bahamas', [0, 0, 0, 0, 1, 0, 0, 1, 0, 0])\n",
      "('Bahrain', [1, 1, 0])\n",
      "('Barbados', [0])\n",
      "('Belarus', [3, 4, 5, 4, 5, 3, 6])\n",
      "('Belgium', [1, 7, 12, 1, 5, 7, 1, 0, 3, 2, 1, 0, 2, 1, 2, 1, 0, 0, 2, 2, 1, 0, 2, 2, 2, 0])\n",
      "('Bermuda', [0, 0])\n",
      "('Bohemia', [0, 1])\n",
      "('Botswana', [0, 1])\n",
      "('Brazil', [1, 5, 0, 0, 0, 1, 0, 0, 6, 6, 5, 4, 2, 6, 3, 1, 2, 0, 0, 0])\n",
      "('British West Indies', [0])\n",
      "('Bulgaria', [16, 9, 10, 4, 5, 3, 1, 1, 2, 1, 1, 6, 7, 7, 12, 3, 0])\n",
      "('Burkina Faso', [0])\n"
     ]
    }
   ],
   "source": [
    "# Print the first 20 countryMedalData\n",
    "for data in countryMedalData[0:20]:\n",
    "    print(data)"
   ]
  },
  {
   "cell_type": "markdown",
   "id": "d80d6e44",
   "metadata": {},
   "source": [
    "### 3. compute the average numbers of medals per country and write this (in decreasing order) to a \f",
    "le \"average medals per country.csv\" for your group\n",
    "\n",
    "### 4. which country has the highest (average) number of medals?\n",
    "### 5. list top 10 countries by (averaged) number of medals"
   ]
  },
  {
   "cell_type": "code",
   "execution_count": 44,
   "id": "44b5faae",
   "metadata": {},
   "outputs": [],
   "source": [
    "# Average medal for each country\n",
    "averageMedal = []\n",
    "for data in countryMedalData:\n",
    "    name = data[0]\n",
    "    medal = data[1]\n",
    "    aveMedal = sum(data[1]) // len(data[1])\n",
    "    averageMedal.append((name, aveMedal))\n",
    "    "
   ]
  },
  {
   "cell_type": "code",
   "execution_count": 45,
   "id": "d25dc0f4",
   "metadata": {},
   "outputs": [
    {
     "name": "stdout",
     "output_type": "stream",
     "text": [
      "[('Unified Team', 38), ('Soviet Union', 35), ('United States', 29), ('ROC', 28), ('East Germany', 25), ('Russia', 20), ('China', 19), ('United Team of Germany', 18), ('West Germany', 13), ('Germany', 12), ('Great Britain', 11), ('France', 8), ('Australia', 6), ('Italy', 6), ('Japan', 6), ('Sweden', 6), ('Bulgaria', 5), ('Hungary', 5), ('South Korea', 5), ('Ukraine', 5), ('Belarus', 4), ('Canada', 4), ('Cuba', 4), ('Netherlands', 4), ('Poland', 4), ('Romania', 4), ('Czech Republic', 3), ('Czechoslovakia', 3), ('Finland', 3), ('Kazakhstan', 3), ('Kenya', 3), ('Spain', 3), ('Australasia', 2), ('Azerbaijan', 2), ('Belgium', 2), ('Brazil', 2), ('Denmark', 2), ('Greece', 2), ('Jamaica', 2), ('Mixed team', 2), ('Norway', 2), ('Russian Empire', 2), ('Serbia and Montenegro', 2), ('Slovakia', 2), ('Switzerland', 2), ('Tanzania', 2), ('Argentina', 1), ('Armenia', 1), ('Austria', 1), ('Ceylon', 1), ('Chile', 1), ('Chinese Taipei', 1), ('Colombia', 1), ('Croatia', 1), ('Cyprus', 1), ('Egypt', 1), ('Gabon', 1), ('Georgia', 1), ('Guatemala', 1), ('Independent Olympic Participants', 1), ('Indonesia', 1), ('Iran', 1), ('Kyrgyzstan', 1), ('Latvia', 1), ('Malaysia', 1), ('Mexico', 1), ('Montenegro', 1), ('Namibia', 1), ('Netherlands Antilles', 1), ('New Zealand', 1), ('Nigeria', 1), ('North Korea', 1), ('North Macedonia', 1), ('Paraguay', 1), ('Samoa', 1), ('San Marino', 1), ('Senegal', 1), ('Serbia', 1), ('Slovenia', 1), ('South Africa', 1), ('Sri Lanka', 1), ('Sudan', 1), ('Tonga', 1), ('Turkey', 1), ('Turkmenistan', 1), ('Virgin Islands', 1), ('Yugoslavia', 1), ('Zimbabwe', 1), ('Afghanistan', 0), ('Algeria', 0), ('Bahamas', 0), ('Bahrain', 0), ('Barbados', 0), ('Bermuda', 0), ('Bohemia', 0), ('Botswana', 0), ('British West Indies', 0), ('Burkina Faso', 0), ('Burundi', 0), ('Cameroon', 0), ('Costa Rica', 0), ('Djibouti', 0), ('Dominican Republic', 0), ('Ecuador', 0), ('Eritrea', 0), ('Estonia', 0), ('Ethiopia', 0), ('Fiji', 0), ('Ghana', 0), ('Grenada', 0), ('Guyana', 0), ('Haiti', 0), ('Hong Kong', 0), ('Iceland', 0), ('Independent Olympic Athletes', 0), ('India', 0), ('Iraq', 0), ('Ireland', 0), ('Israel', 0), ('Ivory Coast', 0), ('Jordan', 0), ('Kosovo', 0), ('Kuwait', 0), ('Lebanon', 0), ('Lithuania', 0), ('Luxembourg', 0), ('Macedonia', 0), ('Mauritius', 0), ('Moldova', 0), ('Mongolia', 0), ('Morocco', 0), ('Mozambique', 0), ('Niger', 0), ('Pakistan', 0), ('Panama', 0), ('Peru', 0), ('Philippines', 0), ('Portugal', 0), ('Puerto Rico', 0), ('Qatar', 0), ('Republic of China', 0), ('Saudi Arabia', 0), ('Singapore', 0), ('Suriname', 0), ('Syria', 0), ('Tajikistan', 0), ('Thailand', 0), ('Togo', 0), ('Trinidad and Tobago', 0), ('Tunisia', 0), ('Uganda', 0), ('United Arab Emirates', 0), ('Uruguay', 0), ('Uzbekistan', 0), ('Venezuela', 0), ('Vietnam', 0), ('Zambia', 0)]\n"
     ]
    }
   ],
   "source": [
    "# Sorting the averageMedal in decreasing ordert\n",
    "temp = sorted(averageMedal, key=lambda x:x[1], reverse = True)\n",
    "print(temp)"
   ]
  },
  {
   "cell_type": "code",
   "execution_count": 46,
   "id": "35d2a609",
   "metadata": {},
   "outputs": [
    {
     "name": "stdout",
     "output_type": "stream",
     "text": [
      "\n",
      "\n",
      "\n",
      "\n",
      "Unified Team has won the most averaged silver medal\n",
      "Unified Team only once participated the olympic game in 1992, and the team won 38 silver metals\n"
     ]
    }
   ],
   "source": [
    "print(\"\\n\\n\\n\\n{} has won the most averaged silver medal\".format(temp[0][0]), )\n",
    "print(\"Unified Team only once participated the olympic game in 1992, and the team won 38 silver metals\")"
   ]
  },
  {
   "cell_type": "code",
   "execution_count": 47,
   "id": "3e989960",
   "metadata": {},
   "outputs": [
    {
     "name": "stdout",
     "output_type": "stream",
     "text": [
      "\n",
      "Output csv SUCCESSFUL\n",
      "\n"
     ]
    }
   ],
   "source": [
    "# Wirte the average data into a new cvs name \"\"average medals per country.csv\"\n",
    "import csv\n",
    "try:\n",
    "    with open('average_medals_per_country.csv', 'w', newline = '') as file:\n",
    "        writer = csv.writer(file)\n",
    "        writer.writerow(['Country Name', 'Average Silver Medal'])\n",
    "        for data in temp:\n",
    "            name = data[0]\n",
    "            medal = data[1]\n",
    "            writer.writerow([name, medal])\n",
    "    print('\\nOutput csv SUCCESSFUL\\n')\n",
    "except:\n",
    "    print(\"Something wrong when output the csv file\")"
   ]
  },
  {
   "cell_type": "code",
   "execution_count": 48,
   "id": "67c119ce",
   "metadata": {},
   "outputs": [
    {
     "name": "stdout",
     "output_type": "stream",
     "text": [
      "Unified Team              38\n",
      "Soviet Union              35\n",
      "United States             29\n",
      "ROC                       28\n",
      "East Germany              25\n",
      "Russia                    20\n",
      "China                     19\n",
      "United Team of Germany    18\n",
      "West Germany              13\n",
      "Germany                   12\n"
     ]
    }
   ],
   "source": [
    "# List top 10 countries by (average) number of medals\n",
    "for data in temp[0:10]:\n",
    "    print(\"{:25} {}\".format(data[0], data[1]))"
   ]
  },
  {
   "cell_type": "markdown",
   "id": "7f6faa78",
   "metadata": {},
   "source": [
    "### 6. compute the median number of medals per country and write this (in decreasing order) to a \f",
    "le \"median medals per country.csv\" for your group"
   ]
  },
  {
   "cell_type": "code",
   "execution_count": 49,
   "id": "a310629b",
   "metadata": {},
   "outputs": [],
   "source": [
    "def medianNum(inputList):\n",
    "    inputList = sorted(inputList)\n",
    "    l = len(inputList)\n",
    "    if l % 2 == 0:\n",
    "        index = l // 2\n",
    "        return (inputList[index] + inputList[index - 1]) // 2\n",
    "        \n",
    "    else:\n",
    "        index = l // 2\n",
    "        return inputList[index]\n",
    "        \n",
    "    \n",
    "    "
   ]
  },
  {
   "cell_type": "code",
   "execution_count": 50,
   "id": "1bf4124e",
   "metadata": {},
   "outputs": [
    {
     "name": "stdout",
     "output_type": "stream",
     "text": [
      "[('Unified Team', 38), ('Soviet Union', 31), ('ROC', 28), ('United States', 27), ('East Germany', 25), ('China', 20), ('Russia', 20), ('United Team of Germany', 19), ('West Germany', 12), ('Germany', 11), ('Great Britain', 9), ('Italy', 8), ('Japan', 7), ('Australia', 6), ('France', 6), ('Hungary', 5), ('Sweden', 5), ('Ukraine', 5), ('Belarus', 4), ('Bulgaria', 4), ('Kazakhstan', 4), ('Kenya', 4), ('Poland', 4), ('Romania', 4), ('South Korea', 4), ('Canada', 3), ('Cuba', 3), ('Czech Republic', 3), ('Czechoslovakia', 3), ('Netherlands', 3), ('Australasia', 2), ('Denmark', 2), ('Finland', 2), ('Georgia', 2), ('Jamaica', 2), ('Namibia', 2), ('Norway', 2), ('Russian Empire', 2), ('Serbia and Montenegro', 2), ('Slovakia', 2), ('Spain', 2), ('Switzerland', 2), ('Tanzania', 2), ('Argentina', 1), ('Armenia', 1), ('Austria', 1), ('Azerbaijan', 1), ('Bahrain', 1), ('Belgium', 1), ('Brazil', 1), ('Ceylon', 1), ('Chile', 1), ('Chinese Taipei', 1), ('Colombia', 1), ('Croatia', 1), ('Cyprus', 1), ('Ecuador', 1), ('Egypt', 1), ('Estonia', 1), ('Ethiopia', 1), ('Gabon', 1), ('Greece', 1), ('Guatemala', 1), ('Independent Olympic Participants', 1), ('Indonesia', 1), ('Iran', 1), ('Ireland', 1), ('Kyrgyzstan', 1), ('Latvia', 1), ('Lebanon', 1), ('Malaysia', 1), ('Mexico', 1), ('Mixed team', 1), ('Mongolia', 1), ('Montenegro', 1), ('Netherlands Antilles', 1), ('New Zealand', 1), ('Nigeria', 1), ('North Korea', 1), ('North Macedonia', 1), ('Paraguay', 1), ('Peru', 1), ('Samoa', 1), ('San Marino', 1), ('Saudi Arabia', 1), ('Senegal', 1), ('Serbia', 1), ('Slovenia', 1), ('South Africa', 1), ('Sri Lanka', 1), ('Sudan', 1), ('Tonga', 1), ('Turkey', 1), ('Turkmenistan', 1), ('Uganda', 1), ('Uzbekistan', 1), ('Vietnam', 1), ('Virgin Islands', 1), ('Yugoslavia', 1), ('Zimbabwe', 1), ('Afghanistan', 0), ('Algeria', 0), ('Bahamas', 0), ('Barbados', 0), ('Bermuda', 0), ('Bohemia', 0), ('Botswana', 0), ('British West Indies', 0), ('Burkina Faso', 0), ('Burundi', 0), ('Cameroon', 0), ('Costa Rica', 0), ('Djibouti', 0), ('Dominican Republic', 0), ('Eritrea', 0), ('Fiji', 0), ('Ghana', 0), ('Grenada', 0), ('Guyana', 0), ('Haiti', 0), ('Hong Kong', 0), ('Iceland', 0), ('Independent Olympic Athletes', 0), ('India', 0), ('Iraq', 0), ('Israel', 0), ('Ivory Coast', 0), ('Jordan', 0), ('Kosovo', 0), ('Kuwait', 0), ('Lithuania', 0), ('Luxembourg', 0), ('Macedonia', 0), ('Mauritius', 0), ('Moldova', 0), ('Morocco', 0), ('Mozambique', 0), ('Niger', 0), ('Pakistan', 0), ('Panama', 0), ('Philippines', 0), ('Portugal', 0), ('Puerto Rico', 0), ('Qatar', 0), ('Republic of China', 0), ('Singapore', 0), ('Suriname', 0), ('Syria', 0), ('Tajikistan', 0), ('Thailand', 0), ('Togo', 0), ('Trinidad and Tobago', 0), ('Tunisia', 0), ('United Arab Emirates', 0), ('Uruguay', 0), ('Venezuela', 0), ('Zambia', 0)]\n"
     ]
    }
   ],
   "source": [
    "medMedal = []\n",
    "for data in countryMedalData:\n",
    "    name = data[0]\n",
    "    medal = data[1]\n",
    "    l = len(medal)\n",
    "    median = medianNum(medal)\n",
    "    medMedal.append((name, median))\n",
    "\n",
    "medMedal = sorted(medMedal, key=lambda d:d[1], reverse=True)\n",
    "print(medMedal)"
   ]
  },
  {
   "cell_type": "code",
   "execution_count": 51,
   "id": "78888fc9",
   "metadata": {},
   "outputs": [
    {
     "name": "stdout",
     "output_type": "stream",
     "text": [
      "\n",
      "Output csv SUCCESSFUL\n",
      "\n"
     ]
    }
   ],
   "source": [
    "# Output csv file\n",
    "try:\n",
    "    with open('median_medals_per_country.csv', 'w', newline = '') as file:\n",
    "        writer = csv.writer(file)\n",
    "        writer.writerow(['Country Name', 'median of Silver Medal'])\n",
    "        for data in medMedal:\n",
    "            name = data[0]\n",
    "            m = data[1]\n",
    "            writer.writerow([name, m])\n",
    "    print('\\nOutput csv SUCCESSFUL\\n')\n",
    "except:\n",
    "    print(\"Something wrong when output the csv file\")"
   ]
  },
  {
   "cell_type": "markdown",
   "id": "597fb396",
   "metadata": {},
   "source": [
    "### 7. which country has the highest median number of medals?"
   ]
  },
  {
   "cell_type": "code",
   "execution_count": 52,
   "id": "5f69528b",
   "metadata": {},
   "outputs": [
    {
     "name": "stdout",
     "output_type": "stream",
     "text": [
      "Unified Team has the highest median number of silver medals, which is 38\n"
     ]
    }
   ],
   "source": [
    "print(\"{} has the highest median number of silver medals, which is {}\".format(medMedal[0][0], medMedal[0][1]))"
   ]
  },
  {
   "cell_type": "markdown",
   "id": "d391be91",
   "metadata": {},
   "source": [
    "### 8. list top 10 countries by median number of medals"
   ]
  },
  {
   "cell_type": "code",
   "execution_count": 53,
   "id": "bdae5626",
   "metadata": {},
   "outputs": [
    {
     "name": "stdout",
     "output_type": "stream",
     "text": [
      "Unified Team                  38\n",
      "Soviet Union                  31\n",
      "ROC                           28\n",
      "United States                 27\n",
      "East Germany                  25\n",
      "China                         20\n",
      "Russia                        20\n",
      "United Team of Germany        19\n",
      "West Germany                  12\n",
      "Germany                       11\n"
     ]
    }
   ],
   "source": [
    "for data in medMedal[0:10]:\n",
    "    country = data[0]\n",
    "    m = data[1]\n",
    "    print(\"{:25}  {:5}\".format(country, m))"
   ]
  }
 ],
 "metadata": {
  "kernelspec": {
   "display_name": "Python 3",
   "language": "python",
   "name": "python3"
  },
  "language_info": {
   "codemirror_mode": {
    "name": "ipython",
    "version": 3
   },
   "file_extension": ".py",
   "mimetype": "text/x-python",
   "name": "python",
   "nbconvert_exporter": "python",
   "pygments_lexer": "ipython3",
   "version": "3.8.8"
  }
 },
 "nbformat": 4,
 "nbformat_minor": 5
}
