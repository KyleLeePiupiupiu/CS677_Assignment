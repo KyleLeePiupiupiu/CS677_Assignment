{
 "cells": [
  {
   "cell_type": "markdown",
   "id": "5c45c427",
   "metadata": {},
   "source": [
    "# Download the Google stock data"
   ]
  },
  {
   "cell_type": "code",
   "execution_count": 30,
   "id": "bdc27882",
   "metadata": {},
   "outputs": [
    {
     "name": "stdout",
     "output_type": "stream",
     "text": [
      "[*********************100%***********************]  1 of 1 completed\n",
      "read  1258  lines of data for ticker:  GOOGL\n",
      "wrote 1258 lines to file: C:\\Users\\Lee\\iCloudDrive\\Document\\Boston University\\CS677 DS with Python\\Homework\\Assignment_1\\Part_2_portfolio_analysis\\My Code\\GOOGL.csv\n"
     ]
    }
   ],
   "source": [
    "# -*- coding: utf-8 -*-\n",
    "\"\"\"\n",
    "Created on Tue Sep  7 16:02:02 2021\n",
    "\n",
    "@author: epinsky\n",
    "\"\"\"\n",
    "\n",
    "# -*- coding: utf-8 -*-\n",
    "\"\"\"\n",
    "Created on Mon Nov  5 14:37:29 2018\n",
    "\n",
    "@author: epinsky\n",
    "\"\"\"\n",
    "\n",
    "# install yfinance version 0.1.62\n",
    "#   !pip install yfinance==0.1.62\n",
    "# run this  !pip install pandas_datareader\n",
    "from pandas_datareader import data as web\n",
    "import os\n",
    "import pandas as pd\n",
    "import yfinance as yf\n",
    "\n",
    "def get_stock(ticker, start_date, end_date, s_window, l_window):\n",
    "    try:\n",
    "#       yf.pdr_override()\n",
    "        df = yf.download(ticker, start=start_date, end=end_date)\n",
    "# can use this as well        df = web.get_data_yahoo(ticker, start=start_date, end=end_date)\n",
    "        df['Return'] = df['Adj Close'].pct_change()\n",
    "        df['Return'].fillna(0, inplace = True)\n",
    "        df['Date'] = df.index\n",
    "        df['Date'] = pd.to_datetime(df['Date'])\n",
    "        df['Month'] = df['Date'].dt.month\n",
    "        df['Year'] = df['Date'].dt.year \n",
    "        df['Day'] = df['Date'].dt.day\n",
    "        for col in ['Open', 'High', 'Low', 'Close', 'Adj Close']:\n",
    "            df[col] = df[col].round(2)\n",
    "        df['Weekday'] = df['Date'].dt.day_name()\n",
    "        df['Week_Number'] = df['Date'].dt.strftime('%U')\n",
    "        df['Year_Week'] = df['Date'].dt.strftime('%Y-%U')\n",
    "        df['Short_MA'] = df['Adj Close'].rolling(window=s_window, min_periods=1).mean()\n",
    "        df['Long_MA'] = df['Adj Close'].rolling(window=l_window, min_periods=1).mean()        \n",
    "        col_list = ['Date', 'Year', 'Month', 'Day', 'Weekday', \n",
    "                    'Week_Number', 'Year_Week', 'Open', \n",
    "                    'High', 'Low', 'Close', 'Volume', 'Adj Close',\n",
    "                    'Return', 'Short_MA', 'Long_MA']\n",
    "        num_lines = len(df)\n",
    "        df = df[col_list]\n",
    "        print('read ', num_lines, ' lines of data for ticker: ' , ticker)\n",
    "        return df\n",
    "    except Exception as error:\n",
    "        print(error)\n",
    "        return None\n",
    "\n",
    "try:\n",
    "    ticker=\"GOOGL\"\n",
    "    input_dir = os.getcwd()\n",
    "    output_file = os.path.join(input_dir, ticker + '.csv')\n",
    "    df = get_stock(ticker, start_date='2016-01-01', end_date='2020-12-31', \n",
    "               s_window=14, l_window=50)\n",
    "    df.to_csv(output_file, index=False)\n",
    "    print('wrote ' + str(len(df)) + ' lines to file: ' + output_file)\n",
    "except Exception as e:\n",
    "    print(e)\n",
    "    print('failed to get Yahoo stock data for ticker: ', ticker)\n",
    "\n"
   ]
  },
  {
   "cell_type": "markdown",
   "id": "5a3150d9",
   "metadata": {},
   "source": [
    "# Open \"SPY.csv\" file"
   ]
  },
  {
   "cell_type": "code",
   "execution_count": 31,
   "id": "fd4c21c9",
   "metadata": {},
   "outputs": [
    {
     "name": "stdout",
     "output_type": "stream",
     "text": [
      "opened file for ticker:  SPY\n"
     ]
    }
   ],
   "source": [
    "# -*- coding: utf-8 -*-\n",
    "\"\"\"\n",
    "Created on Mon Nov  5 14:37:29 2018\n",
    "\n",
    "@author: epinsky\n",
    "this scripts reads your ticker file (e.g. MSFT.csv) and\n",
    "constructs a list of lines\n",
    "\"\"\"\n",
    "import os\n",
    "\n",
    "ticker='SPY'\n",
    "input_dir = os.getcwd()\n",
    "ticker_file = os.path.join(input_dir, ticker + '.csv')\n",
    "\n",
    "try:   \n",
    "    with open(ticker_file) as f:\n",
    "        lines = f.read().splitlines()\n",
    "    print('opened file for ticker: ', ticker)\n",
    "    \"\"\"    your code for assignment 1 goes here\n",
    "    \"\"\"\n",
    "    \n",
    "except Exception as e:\n",
    "    print(e)\n",
    "    print('failed to read stock data for ticker: ', ticker)\n",
    "    "
   ]
  },
  {
   "cell_type": "code",
   "execution_count": 32,
   "id": "347e7d0a",
   "metadata": {},
   "outputs": [
    {
     "name": "stdout",
     "output_type": "stream",
     "text": [
      "Date,Year,Month,Day,Weekday,Week_Number,Year_Week,Open,High,Low,Close,Volume,Adj Close,Return,Short_MA,Long_MA\n",
      "2016-01-04,2016,1,4,Monday,01,2016-01,200.49,201.03,198.59,201.02,222353500,181.32,0.0,181.32,181.32\n",
      "2016-01-05,2016,1,5,Tuesday,01,2016-01,201.4,201.9,200.05,201.36,110845800,181.63,0.0016912824647046243,181.475,181.475\n",
      "2016-01-06,2016,1,6,Wednesday,01,2016-01,198.34,200.06,197.6,198.82,152112600,179.34,-0.01261422378233823,180.76333333333332,180.76333333333332\n",
      "2016-01-07,2016,1,7,Thursday,01,2016-01,195.33,197.44,193.59,194.05,213436100,175.04,-0.023991350126892685,179.33249999999998,179.33249999999998\n"
     ]
    }
   ],
   "source": [
    "# Show the first 5 rows of the table\n",
    "spyTable = lines\n",
    "for i in range(5):\n",
    "    print(spyTable[i])"
   ]
  },
  {
   "cell_type": "code",
   "execution_count": 33,
   "id": "d9ba1dd6",
   "metadata": {},
   "outputs": [
    {
     "name": "stdout",
     "output_type": "stream",
     "text": [
      "we have 1258 data\n"
     ]
    }
   ],
   "source": [
    "# How many data do we have\n",
    "spyDataLen = len(spyTable) - 1\n",
    "print('we have {} data'.format(spyDataLen))"
   ]
  },
  {
   "cell_type": "code",
   "execution_count": 34,
   "id": "01aff175",
   "metadata": {},
   "outputs": [
    {
     "name": "stdout",
     "output_type": "stream",
     "text": [
      "The spyTable is a <class 'list'> of <class 'str'>\n"
     ]
    }
   ],
   "source": [
    "# Type structure of the table\n",
    "print(\"The spyTable is a {} of {}\".format(type(spyTable), type(spyTable[0])))"
   ]
  },
  {
   "cell_type": "code",
   "execution_count": 35,
   "id": "718ab814",
   "metadata": {},
   "outputs": [
    {
     "name": "stdout",
     "output_type": "stream",
     "text": [
      "['Date', 'Year', 'Month', 'Day', 'Weekday', 'Week_Number', 'Year_Week', 'Open', 'High', 'Low', 'Close', 'Volume', 'Adj Close', 'Return', 'Short_MA', 'Long_MA']\n",
      "\n",
      "The index of label 'Return' is 13\n",
      "\n",
      "The index of label 'Year' is 1\n"
     ]
    }
   ],
   "source": [
    "# Split the row 1 data, which are labels\n",
    "# Turn a string into a list of string\n",
    "lables = spyTable[0]\n",
    "lables = lables.split(\",\")\n",
    "print(lables)\n",
    "\n",
    "# Know the index of label 'Return'\n",
    "# Know the index of label 'year'\n",
    "returnIndex = lables.index(\"Return\")\n",
    "yearIndex = lables.index('Year')\n",
    "print(\"\\nThe index of label 'Return' is {}\".format(returnIndex))\n",
    "print(\"\\nThe index of label 'Year' is {}\".format(yearIndex))"
   ]
  },
  {
   "cell_type": "code",
   "execution_count": 36,
   "id": "d8e8b6dd",
   "metadata": {},
   "outputs": [
    {
     "name": "stdout",
     "output_type": "stream",
     "text": [
      "1258\n",
      "0.0016912824647046243\n"
     ]
    }
   ],
   "source": [
    "# Collect all 'Return' data from the spyTable\n",
    "spyReturnList = []\n",
    "for line in spyTable[1:]:\n",
    "    line = line.split(',')\n",
    "    returnn = line[returnIndex]\n",
    "    spyReturnList.append(float(returnn))\n",
    "    \n",
    "# Check the amount of the return data is correct\n",
    "# Double check the second day data is the same with the csv file\n",
    "print(len(spyReturnList))\n",
    "print(spyReturnList[1])"
   ]
  },
  {
   "cell_type": "markdown",
   "id": "94e7d902",
   "metadata": {},
   "source": [
    "# Open \"GOOGL.csv\" file"
   ]
  },
  {
   "cell_type": "code",
   "execution_count": 37,
   "id": "63efdf9b",
   "metadata": {},
   "outputs": [
    {
     "name": "stdout",
     "output_type": "stream",
     "text": [
      "opened file for ticker:  GOOGL\n"
     ]
    }
   ],
   "source": [
    "# -*- coding: utf-8 -*-\n",
    "\"\"\"\n",
    "Created on Mon Nov  5 14:37:29 2018\n",
    "\n",
    "@author: epinsky\n",
    "this scripts reads your ticker file (e.g. MSFT.csv) and\n",
    "constructs a list of lines\n",
    "\"\"\"\n",
    "import os\n",
    "\n",
    "ticker='GOOGL'\n",
    "input_dir = os.getcwd()\n",
    "ticker_file = os.path.join(input_dir, ticker + '.csv')\n",
    "\n",
    "try:   \n",
    "    with open(ticker_file) as f:\n",
    "        lines = f.read().splitlines()\n",
    "    print('opened file for ticker: ', ticker)\n",
    "    \"\"\"    your code for assignment 1 goes here\n",
    "    \"\"\"\n",
    "    \n",
    "except Exception as e:\n",
    "    print(e)\n",
    "    print('failed to read stock data for ticker: ', ticker)\n",
    "    "
   ]
  },
  {
   "cell_type": "code",
   "execution_count": 38,
   "id": "2a1da0ed",
   "metadata": {},
   "outputs": [
    {
     "name": "stdout",
     "output_type": "stream",
     "text": [
      "Date,Year,Month,Day,Weekday,Week_Number,Year_Week,Open,High,Low,Close,Volume,Adj Close,Return,Short_MA,Long_MA\n",
      "2016-01-04,2016,1,4,Monday,01,2016-01,762.2,762.2,747.54,759.44,3369100,759.44,0.0,759.44,759.44\n",
      "2016-01-05,2016,1,5,Tuesday,01,2016-01,764.1,769.2,755.65,761.53,2260800,761.53,0.002752063163317553,760.485,760.485\n",
      "2016-01-06,2016,1,6,Wednesday,01,2016-01,750.37,765.73,748.0,759.33,2410300,759.33,-0.002888936906483508,760.1,760.1\n",
      "2016-01-07,2016,1,7,Thursday,01,2016-01,746.49,755.31,735.28,741.0,3156600,741.0,-0.02413972406898135,755.325,755.325\n"
     ]
    }
   ],
   "source": [
    "# Show the first 5 rows of the table\n",
    "gooTable = lines\n",
    "for i in range(5):\n",
    "    print(gooTable[i])"
   ]
  },
  {
   "cell_type": "code",
   "execution_count": 39,
   "id": "cbb805de",
   "metadata": {},
   "outputs": [
    {
     "name": "stdout",
     "output_type": "stream",
     "text": [
      "we have also 1258 data, match with \"SPY\" data\n"
     ]
    }
   ],
   "source": [
    "# how many data do we have\n",
    "gooDataLen = len(gooTable) - 1\n",
    "print('we have also {} data, match with \"SPY\" data'.format(gooDataLen))"
   ]
  },
  {
   "cell_type": "code",
   "execution_count": 40,
   "id": "a7126744",
   "metadata": {},
   "outputs": [
    {
     "name": "stdout",
     "output_type": "stream",
     "text": [
      "1258\n",
      "0.002752063163317553\n"
     ]
    }
   ],
   "source": [
    "# Collect all 'Return' data from the spyTable\n",
    "gooReturnList = []\n",
    "for line in gooTable[1:]:\n",
    "    line = line.split(',')\n",
    "    returnn = line[returnIndex]\n",
    "    gooReturnList.append(float(returnn))\n",
    "\n",
    "# Check the amount of the return data is correct\n",
    "# Double check the second day data is the same with the csv file\n",
    "print(len(gooReturnList))\n",
    "print(gooReturnList[1])"
   ]
  },
  {
   "cell_type": "markdown",
   "id": "acdc7366",
   "metadata": {},
   "source": [
    "# Portofolio Analysis\n",
    "Now we have extracted both 'Return' data from both csv file\n",
    "Then, I am going to build the portofolio"
   ]
  },
  {
   "cell_type": "code",
   "execution_count": 41,
   "id": "707d6c8d",
   "metadata": {},
   "outputs": [
    {
     "name": "stdout",
     "output_type": "stream",
     "text": [
      "[0, 252, 503, 754, 1006, 1258]\n"
     ]
    }
   ],
   "source": [
    "# Locate the index of each year\n",
    "# First, extract the 'Year' data from raw data, and turn them into a list\n",
    "yearList = []\n",
    "yearIndexList = []\n",
    "for line in spyTable[1:]:\n",
    "    line = line.split(',')\n",
    "    year = line[yearIndex]\n",
    "    yearList.append(int(year))\n",
    "\n",
    "# Determine the index of each year in the list\n",
    "for i in range(5):\n",
    "    yearIndexList.append(yearList.index(2016 + i))\n",
    "yearIndexList.append(len(spyReturnList))\n",
    "\n",
    "# Show the list\n",
    "print(yearIndexList)"
   ]
  },
  {
   "cell_type": "markdown",
   "id": "e51de2b7",
   "metadata": {},
   "source": [
    " Define some useful function for convience"
   ]
  },
  {
   "cell_type": "code",
   "execution_count": 42,
   "id": "5421a5c0",
   "metadata": {},
   "outputs": [],
   "source": [
    "class node:\n",
    "    def __init__(self, final, mx, mn):\n",
    "        self.final = final\n",
    "        self.max = mx\n",
    "        self.min = mn\n",
    "        \n",
    "def finMaxMin(yearlyFund):\n",
    "    fin = yearlyFund[-1]\n",
    "    mx = max(yearlyFund)\n",
    "    mn = min(yearlyFund)\n",
    "    \n",
    "    return node(fin, mx, mn)\n",
    "\n",
    "def comReturnFun(alpha, beta, security1, security2):\n",
    "    comReturn = []\n",
    "    for i in range(len(spyReturnList)):\n",
    "        comReturn.append(alpha * security1[i] + beta * security2[i])\n",
    "    return comReturn\n",
    "\n",
    "\n",
    "def fundEDayFun(initialFund, comReturn, yearIndexList):\n",
    "    fund = [[] for i in range(5)]\n",
    "    temp = initialFund\n",
    "    for i in range(5):\n",
    "        for r in comReturn[yearIndexList[i] : yearIndexList[i + 1]]:\n",
    "            temp = temp * (1 + r)\n",
    "            fund[i].append(temp)\n",
    "    return fund"
   ]
  },
  {
   "cell_type": "code",
   "execution_count": 43,
   "id": "43351f32",
   "metadata": {},
   "outputs": [],
   "source": [
    "# Parameter from the question\n",
    "initialFund = 100\n",
    "alphaList = [0,0.2,0.4,0.6,0.8,1] "
   ]
  },
  {
   "cell_type": "code",
   "execution_count": 44,
   "id": "fcd8cf30",
   "metadata": {},
   "outputs": [],
   "source": [
    "# Process the data\n",
    "total = []\n",
    "for alpha in alphaList:\n",
    "    beta = 1 - alpha\n",
    "    comReturn = comReturnFun(alpha, beta, spyReturnList, gooReturnList)\n",
    "    fundFiveYear = fundEDayFun(initialFund, comReturn, yearIndexList)\n",
    "    result = []\n",
    "    for i in range(5):\n",
    "        temp = finMaxMin(fundFiveYear[i])\n",
    "        result.append(temp)\n",
    "    total.append(result)\n",
    "    "
   ]
  },
  {
   "cell_type": "code",
   "execution_count": 45,
   "id": "213d541b",
   "metadata": {},
   "outputs": [
    {
     "name": "stdout",
     "output_type": "stream",
     "text": [
      "2016\n",
      "Alpha= 0    Final= 104.35  Max= 110.05  Min=  89.69\n",
      "Alpha= 0.2  Final= 106.34  Max= 109.92  Min=  91.84\n",
      "Alpha= 0.4  Final= 108.27  Max= 110.70  Min=  92.27\n",
      "Alpha= 0.6  Final= 110.12  Max= 112.24  Min=  91.86\n",
      "Alpha= 0.8  Final= 111.89  Max= 113.70  Min=  91.42\n",
      "Alpha= 1    Final= 113.59  Max= 115.06  Min=  90.97\n",
      "\n",
      "2017\n",
      "Alpha= 0    Final= 138.71  Max= 142.88  Min= 106.36\n",
      "Alpha= 0.2  Final= 139.07  Max= 142.55  Min= 108.18\n",
      "Alpha= 0.4  Final= 139.21  Max= 141.99  Min= 109.87\n",
      "Alpha= 0.6  Final= 139.11  Max= 141.19  Min= 111.49\n",
      "Alpha= 0.8  Final= 138.79  Max= 140.17  Min= 113.02\n",
      "Alpha= 1    Final= 138.24  Max= 138.93  Min= 114.45\n",
      "\n",
      "2018\n",
      "Alpha= 0    Final= 137.60  Max= 169.27  Min= 129.66\n",
      "Alpha= 0.2  Final= 137.22  Max= 165.54  Min= 129.17\n",
      "Alpha= 0.4  Final= 136.46  Max= 161.81  Min= 128.32\n",
      "Alpha= 0.6  Final= 135.31  Max= 158.94  Min= 127.12\n",
      "Alpha= 0.8  Final= 133.80  Max= 155.76  Min= 125.58\n",
      "Alpha= 1    Final= 131.92  Max= 153.38  Min= 123.70\n",
      "\n",
      "2019\n",
      "Alpha= 0    Final= 176.37  Max= 179.40  Min= 135.03\n",
      "Alpha= 0.2  Final= 177.16  Max= 179.72  Min= 134.55\n",
      "Alpha= 0.4  Final= 177.23  Max= 179.30  Min= 133.68\n",
      "Alpha= 0.6  Final= 176.57  Max= 178.14  Min= 132.45\n",
      "Alpha= 0.8  Final= 175.19  Max= 176.27  Min= 130.85\n",
      "Alpha= 1    Final= 173.12  Max= 173.70  Min= 128.91\n",
      "\n",
      "2020\n",
      "Alpha= 0    Final= 228.62  Max= 240.30  Min= 138.80\n",
      "Alpha= 0.2  Final= 225.99  Max= 234.57  Min= 136.16\n",
      "Alpha= 0.4  Final= 222.12  Max= 227.82  Min= 132.97\n",
      "Alpha= 0.6  Final= 217.08  Max= 220.03  Min= 129.29\n",
      "Alpha= 0.8  Final= 210.94  Max= 211.93  Min= 125.16\n",
      "Alpha= 1    Final= 203.81  Max= 203.91  Min= 120.62\n",
      "\n"
     ]
    }
   ],
   "source": [
    "# Print the data in the way we want\n",
    "for i in range(5):\n",
    "    print(\"{}\".format(2016+i))\n",
    "    for j in range(len(alphaList)):\n",
    "        temp = total[j][i]\n",
    "        print('Alpha= {:<3}  Final= {:6.2f}  Max= {:6.2f}  Min= {:6.2f}'.format(alphaList[j], temp.final, temp.max, temp.min))\n",
    "    print()"
   ]
  }
 ],
 "metadata": {
  "kernelspec": {
   "display_name": "Python 3",
   "language": "python",
   "name": "python3"
  },
  "language_info": {
   "codemirror_mode": {
    "name": "ipython",
    "version": 3
   },
   "file_extension": ".py",
   "mimetype": "text/x-python",
   "name": "python",
   "nbconvert_exporter": "python",
   "pygments_lexer": "ipython3",
   "version": "3.8.8"
  }
 },
 "nbformat": 4,
 "nbformat_minor": 5
}
