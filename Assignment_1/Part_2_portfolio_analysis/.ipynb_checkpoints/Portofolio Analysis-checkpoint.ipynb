{
 "cells": [
  {
   "cell_type": "markdown",
   "id": "c3cc93d3",
   "metadata": {},
   "source": [
    "# Download the Google stock data"
   ]
  },
  {
   "cell_type": "code",
   "execution_count": 210,
   "id": "bdc27882",
   "metadata": {},
   "outputs": [
    {
     "name": "stdout",
     "output_type": "stream",
     "text": [
      "[*********************100%***********************]  1 of 1 completed\n",
      "read  1258  lines of data for ticker:  GOOGL\n",
      "[Errno 13] Permission denied: 'C:\\\\Users\\\\Lee\\\\iCloudDrive\\\\Document\\\\Boston University\\\\CS677 DS with Python\\\\Homework\\\\Assignment_1\\\\Part_2_portfolio_analysis\\\\My Code\\\\GOOGL.csv'\n",
      "failed to get Yahoo stock data for ticker:  GOOGL\n"
     ]
    }
   ],
   "source": [
    "# -*- coding: utf-8 -*-\n",
    "\"\"\"\n",
    "Created on Tue Sep  7 16:02:02 2021\n",
    "\n",
    "@author: epinsky\n",
    "\"\"\"\n",
    "\n",
    "# -*- coding: utf-8 -*-\n",
    "\"\"\"\n",
    "Created on Mon Nov  5 14:37:29 2018\n",
    "\n",
    "@author: epinsky\n",
    "\"\"\"\n",
    "\n",
    "# install yfinance version 0.1.62\n",
    "#   !pip install yfinance==0.1.62\n",
    "# run this  !pip install pandas_datareader\n",
    "from pandas_datareader import data as web\n",
    "import os\n",
    "import pandas as pd\n",
    "import yfinance as yf\n",
    "\n",
    "def get_stock(ticker, start_date, end_date, s_window, l_window):\n",
    "    try:\n",
    "#       yf.pdr_override()\n",
    "        df = yf.download(ticker, start=start_date, end=end_date)\n",
    "# can use this as well        df = web.get_data_yahoo(ticker, start=start_date, end=end_date)\n",
    "        df['Return'] = df['Adj Close'].pct_change()\n",
    "        df['Return'].fillna(0, inplace = True)\n",
    "        df['Date'] = df.index\n",
    "        df['Date'] = pd.to_datetime(df['Date'])\n",
    "        df['Month'] = df['Date'].dt.month\n",
    "        df['Year'] = df['Date'].dt.year \n",
    "        df['Day'] = df['Date'].dt.day\n",
    "        for col in ['Open', 'High', 'Low', 'Close', 'Adj Close']:\n",
    "            df[col] = df[col].round(2)\n",
    "        df['Weekday'] = df['Date'].dt.day_name()\n",
    "        df['Week_Number'] = df['Date'].dt.strftime('%U')\n",
    "        df['Year_Week'] = df['Date'].dt.strftime('%Y-%U')\n",
    "        df['Short_MA'] = df['Adj Close'].rolling(window=s_window, min_periods=1).mean()\n",
    "        df['Long_MA'] = df['Adj Close'].rolling(window=l_window, min_periods=1).mean()        \n",
    "        col_list = ['Date', 'Year', 'Month', 'Day', 'Weekday', \n",
    "                    'Week_Number', 'Year_Week', 'Open', \n",
    "                    'High', 'Low', 'Close', 'Volume', 'Adj Close',\n",
    "                    'Return', 'Short_MA', 'Long_MA']\n",
    "        num_lines = len(df)\n",
    "        df = df[col_list]\n",
    "        print('read ', num_lines, ' lines of data for ticker: ' , ticker)\n",
    "        return df\n",
    "    except Exception as error:\n",
    "        print(error)\n",
    "        return None\n",
    "\n",
    "try:\n",
    "    ticker=\"GOOGL\"\n",
    "    input_dir = os.getcwd()\n",
    "    output_file = os.path.join(input_dir, ticker + '.csv')\n",
    "    df = get_stock(ticker, start_date='2016-01-01', end_date='2020-12-31', \n",
    "               s_window=14, l_window=50)\n",
    "    df.to_csv(output_file, index=False)\n",
    "    print('wrote ' + str(len(df)) + ' lines to file: ' + output_file)\n",
    "except Exception as e:\n",
    "    print(e)\n",
    "    print('failed to get Yahoo stock data for ticker: ', ticker)\n",
    "\n"
   ]
  },
  {
   "cell_type": "markdown",
   "id": "4f3aa52a",
   "metadata": {},
   "source": [
    "# Open \"SPY.csv\" file"
   ]
  },
  {
   "cell_type": "code",
   "execution_count": 211,
   "id": "fd4c21c9",
   "metadata": {},
   "outputs": [
    {
     "name": "stdout",
     "output_type": "stream",
     "text": [
      "opened file for ticker:  SPY\n"
     ]
    }
   ],
   "source": [
    "# -*- coding: utf-8 -*-\n",
    "\"\"\"\n",
    "Created on Mon Nov  5 14:37:29 2018\n",
    "\n",
    "@author: epinsky\n",
    "this scripts reads your ticker file (e.g. MSFT.csv) and\n",
    "constructs a list of lines\n",
    "\"\"\"\n",
    "import os\n",
    "\n",
    "ticker='SPY'\n",
    "input_dir = os.getcwd()\n",
    "ticker_file = os.path.join(input_dir, ticker + '.csv')\n",
    "\n",
    "try:   \n",
    "    with open(ticker_file) as f:\n",
    "        lines = f.read().splitlines()\n",
    "    print('opened file for ticker: ', ticker)\n",
    "    \"\"\"    your code for assignment 1 goes here\n",
    "    \"\"\"\n",
    "    \n",
    "except Exception as e:\n",
    "    print(e)\n",
    "    print('failed to read stock data for ticker: ', ticker)\n",
    "    "
   ]
  },
  {
   "cell_type": "code",
   "execution_count": 212,
   "id": "c273e1de",
   "metadata": {},
   "outputs": [
    {
     "name": "stdout",
     "output_type": "stream",
     "text": [
      "Date,Year,Month,Day,Weekday,Week_Number,Year_Week,Open,High,Low,Close,Volume,Adj Close,Return,Short_MA,Long_MA\n",
      "2016-01-04,2016,1,4,Monday,01,2016-01,200.49,201.03,198.59,201.02,222353500,181.32,0.0,181.32,181.32\n",
      "2016-01-05,2016,1,5,Tuesday,01,2016-01,201.4,201.9,200.05,201.36,110845800,181.63,0.0016912824647046243,181.475,181.475\n",
      "2016-01-06,2016,1,6,Wednesday,01,2016-01,198.34,200.06,197.6,198.82,152112600,179.34,-0.01261422378233823,180.76333333333332,180.76333333333332\n",
      "2016-01-07,2016,1,7,Thursday,01,2016-01,195.33,197.44,193.59,194.05,213436100,175.04,-0.023991350126892685,179.33249999999998,179.33249999999998\n"
     ]
    }
   ],
   "source": [
    "# Show the first 5 rows of the table\n",
    "spyTable = lines\n",
    "for i in range(5):\n",
    "    print(spyTable[i])"
   ]
  },
  {
   "cell_type": "code",
   "execution_count": 213,
   "id": "68f391dc",
   "metadata": {},
   "outputs": [
    {
     "name": "stdout",
     "output_type": "stream",
     "text": [
      "we have 1258 data\n"
     ]
    }
   ],
   "source": [
    "# How many data do we have\n",
    "spyDataLen = len(spyTable) - 1\n",
    "print('we have {} data'.format(spyDataLen))"
   ]
  },
  {
   "cell_type": "code",
   "execution_count": 214,
   "id": "fac4cf7e",
   "metadata": {},
   "outputs": [
    {
     "name": "stdout",
     "output_type": "stream",
     "text": [
      "The spyTable is a <class 'list'> of <class 'str'>\n"
     ]
    }
   ],
   "source": [
    "# Type structure of the table\n",
    "print(\"The spyTable is a {} of {}\".format(type(spyTable), type(spyTable[0])))"
   ]
  },
  {
   "cell_type": "code",
   "execution_count": 215,
   "id": "78f21dd8",
   "metadata": {},
   "outputs": [
    {
     "name": "stdout",
     "output_type": "stream",
     "text": [
      "['Date', 'Year', 'Month', 'Day', 'Weekday', 'Week_Number', 'Year_Week', 'Open', 'High', 'Low', 'Close', 'Volume', 'Adj Close', 'Return', 'Short_MA', 'Long_MA']\n",
      "\n",
      "The index of label 'Return' is 13\n",
      "\n",
      "The index of label 'Year' is 1\n"
     ]
    }
   ],
   "source": [
    "# Split the row 1 data, which are labels\n",
    "# Turn a string into a list of string\n",
    "lables = spyTable[0]\n",
    "lables = lables.split(\",\")\n",
    "print(lables)\n",
    "\n",
    "# Know the index of label 'Return'\n",
    "# Know the index of label 'year'\n",
    "returnIndex = lables.index(\"Return\")\n",
    "yearIndex = lables.index('Year')\n",
    "print(\"\\nThe index of label 'Return' is {}\".format(returnIndex))\n",
    "print(\"\\nThe index of label 'Year' is {}\".format(yearIndex))"
   ]
  },
  {
   "cell_type": "code",
   "execution_count": 216,
   "id": "f9e4c34e",
   "metadata": {},
   "outputs": [
    {
     "name": "stdout",
     "output_type": "stream",
     "text": [
      "1258\n",
      "0.0016912824647046243\n"
     ]
    }
   ],
   "source": [
    "# Collect all 'Return' data from the spyTable\n",
    "spyReturnList = []\n",
    "for line in spyTable[1:]:\n",
    "    line = line.split(',')\n",
    "    returnn = line[returnIndex]\n",
    "    spyReturnList.append(float(returnn))\n",
    "    \n",
    "# Check the amount of the return data is correct\n",
    "# Double check the second day data is the same with the csv file\n",
    "print(len(spyReturnList))\n",
    "print(spyReturnList[1])"
   ]
  },
  {
   "cell_type": "markdown",
   "id": "59e1a6c1",
   "metadata": {},
   "source": [
    "# Open \"GOOGL.csv\" file"
   ]
  },
  {
   "cell_type": "code",
   "execution_count": 217,
   "id": "2bbf6703",
   "metadata": {},
   "outputs": [
    {
     "name": "stdout",
     "output_type": "stream",
     "text": [
      "opened file for ticker:  GOOGL\n"
     ]
    }
   ],
   "source": [
    "# -*- coding: utf-8 -*-\n",
    "\"\"\"\n",
    "Created on Mon Nov  5 14:37:29 2018\n",
    "\n",
    "@author: epinsky\n",
    "this scripts reads your ticker file (e.g. MSFT.csv) and\n",
    "constructs a list of lines\n",
    "\"\"\"\n",
    "import os\n",
    "\n",
    "ticker='GOOGL'\n",
    "input_dir = os.getcwd()\n",
    "ticker_file = os.path.join(input_dir, ticker + '.csv')\n",
    "\n",
    "try:   \n",
    "    with open(ticker_file) as f:\n",
    "        lines = f.read().splitlines()\n",
    "    print('opened file for ticker: ', ticker)\n",
    "    \"\"\"    your code for assignment 1 goes here\n",
    "    \"\"\"\n",
    "    \n",
    "except Exception as e:\n",
    "    print(e)\n",
    "    print('failed to read stock data for ticker: ', ticker)\n",
    "    "
   ]
  },
  {
   "cell_type": "code",
   "execution_count": 218,
   "id": "b2947ed2",
   "metadata": {},
   "outputs": [
    {
     "name": "stdout",
     "output_type": "stream",
     "text": [
      "Date,Year,Month,Day,Weekday,Week_Number,Year_Week,Open,High,Low,Close,Volume,Adj Close,Return,Short_MA,Long_MA\n",
      "2016-01-04,2016,1,4,Monday,01,2016-01,762.2,762.2,747.54,759.44,3369100,759.44,0.0,759.44,759.44\n",
      "2016-01-05,2016,1,5,Tuesday,01,2016-01,764.1,769.2,755.65,761.53,2260800,761.53,0.002752063163317553,760.485,760.485\n",
      "2016-01-06,2016,1,6,Wednesday,01,2016-01,750.37,765.73,748.0,759.33,2410300,759.33,-0.002888936906483508,760.1,760.1\n",
      "2016-01-07,2016,1,7,Thursday,01,2016-01,746.49,755.31,735.28,741.0,3156600,741.0,-0.02413972406898135,755.325,755.325\n"
     ]
    }
   ],
   "source": [
    "# Show the first 5 rows of the table\n",
    "gooTable = lines\n",
    "for i in range(5):\n",
    "    print(gooTable[i])"
   ]
  },
  {
   "cell_type": "code",
   "execution_count": 219,
   "id": "4deb9a60",
   "metadata": {},
   "outputs": [
    {
     "name": "stdout",
     "output_type": "stream",
     "text": [
      "we have also 1258 data, match with \"SPY\" data\n"
     ]
    }
   ],
   "source": [
    "# how many data do we have\n",
    "gooDataLen = len(gooTable) - 1\n",
    "print('we have also {} data, match with \"SPY\" data'.format(gooDataLen))"
   ]
  },
  {
   "cell_type": "code",
   "execution_count": 220,
   "id": "6330f8d5",
   "metadata": {},
   "outputs": [
    {
     "name": "stdout",
     "output_type": "stream",
     "text": [
      "1258\n",
      "0.002752063163317553\n"
     ]
    }
   ],
   "source": [
    "# Collect all 'Return' data from the spyTable\n",
    "gooReturnList = []\n",
    "for line in gooTable[1:]:\n",
    "    line = line.split(',')\n",
    "    returnn = line[returnIndex]\n",
    "    gooReturnList.append(float(returnn))\n",
    "\n",
    "# Check the amount of the return data is correct\n",
    "# Double check the second day data is the same with the csv file\n",
    "print(len(gooReturnList))\n",
    "print(gooReturnList[1])"
   ]
  },
  {
   "cell_type": "markdown",
   "id": "8f806747",
   "metadata": {},
   "source": [
    "# Portofolio Analysis\n",
    "Now we have extracted both 'Return' data from both csv file\n",
    "Then, I am going to build the portofolio"
   ]
  },
  {
   "cell_type": "code",
   "execution_count": 271,
   "id": "25ba8c10",
   "metadata": {},
   "outputs": [
    {
     "name": "stdout",
     "output_type": "stream",
     "text": [
      "[0, 252, 503, 754, 1006, 1258]\n"
     ]
    }
   ],
   "source": [
    "# Locate the index of each year\n",
    "# First, extract the 'Year' data from raw data, and turn them into a list\n",
    "yearList = []\n",
    "yearIndexList = []\n",
    "for line in spyTable[1:]:\n",
    "    line = line.split(',')\n",
    "    year = line[yearIndex]\n",
    "    yearList.append(int(year))\n",
    "\n",
    "# Determine the index of each year in the list\n",
    "for i in range(5):\n",
    "    yearIndexList.append(yearList.index(2016 + i))\n",
    "yearIndexList.append(len(comReturn))\n",
    "\n",
    "# Show the list\n",
    "print(yearIndexList)\n",
    "\n"
   ]
  },
  {
   "cell_type": "code",
   "execution_count": 323,
   "id": "9139a155",
   "metadata": {},
   "outputs": [],
   "source": [
    "class node:\n",
    "    def __init__(self, final, mx, mn):\n",
    "        self.final = final\n",
    "        self.max = mx\n",
    "        self.min = mn\n",
    "        \n",
    "def finMaxMin(yearlyFund):\n",
    "    fin = yearlyFund[-1]\n",
    "    mx = max(yearlyFund)\n",
    "    mn = min(yearlyFund)\n",
    "    \n",
    "    return node(fin, mx, mn)\n",
    "\n",
    "def comReturnFun(alpha, beta, security1, security2):\n",
    "    comReturn = []\n",
    "    for i in range(len(spyReturnList)):\n",
    "        comReturn.append(alpha * security1[i] + beta * security2[i])\n",
    "    return comReturn\n",
    "\n",
    "\n",
    "def fundEDayFun(initialFund, comReturn, yearIndexList):\n",
    "    fund = [[] for i in range(5)]\n",
    "    temp = initialFund\n",
    "    for i in range(5):\n",
    "        for r in comReturn[yearIndexList[i] : yearIndexList[i + 1]]:\n",
    "            temp = temp * (1 + r)\n",
    "            fund[i].append(temp)\n",
    "    return fund"
   ]
  },
  {
   "cell_type": "code",
   "execution_count": 329,
   "id": "0cdf7a7c",
   "metadata": {},
   "outputs": [
    {
     "name": "stdout",
     "output_type": "stream",
     "text": [
      "104.34662510000872 110.0468750062788 89.6897730510305\n",
      "138.70747142995498 142.88027524650076 106.36390194544336\n",
      "137.59611787346196 169.2694611644691 129.65737645432066\n",
      "176.36548118911819 179.40455682122754 135.02975447783894\n",
      "228.62240524839325 240.30469356845964 138.80359231724063\n",
      "106.34194733999699 109.92228465196388 91.84470702492243\n",
      "139.0730546847836 142.55142822516632 108.17509799790047\n",
      "137.22026446214355 165.54355244266154 129.17237451548263\n",
      "177.16279733892605 179.7202562329785 134.54645397401936\n",
      "225.9912473177153 234.565998269876 136.1584100714335\n",
      "108.26802226979811 110.6979468347838 92.26762464626303\n",
      "139.208587522488 141.9884374901727 109.8748523438284\n",
      "136.45631875064487 161.8084208075189 128.32481449865924\n",
      "177.2316530640833 179.29641159028176 133.6832284030228\n",
      "222.12034587027273 227.82427059134733 132.9736859533966\n",
      "110.12027518015097 112.24090576334049 91.85829415126805\n",
      "139.1140344762468 141.19472985908817 111.49063225836734\n",
      "135.31153357106092 158.9395536155278 127.12257473223323\n",
      "176.57253031719546 178.13959006427373 132.44815701150745\n",
      "217.07547297657712 220.02942765878737 129.29079517118896\n",
      "111.89427297059407 113.69510409908906 91.42429559316794\n",
      "138.7904583841791 140.17480095649304 113.01849096403977\n",
      "133.79626635360782 155.75593645778272 125.576392289579\n",
      "175.19460172687485 176.26505187700286 130.8523368130899\n",
      "210.94045172349 211.92680721647363 125.15629548050578\n",
      "113.58574098587171 115.05705911410047 90.96605401366119\n",
      "138.2400076073208 138.93417563654498 114.45468384597191\n",
      "131.92382749221764 153.37636294325864 123.69970774086936\n",
      "173.11552608747164 173.69642582146787 128.90972112941742\n",
      "203.8148862814917 203.91351216708398 120.62098122657895\n"
     ]
    }
   ],
   "source": [
    "initialFund = 100\n",
    "alphaList = [0,0.2,0.4,0.6,0.8,1]\n",
    "\n",
    "for alpha in alphaList:\n",
    "    beta = 1 - alpha\n",
    "    comReturn = comReturnFun(alpha, beta, spyReturnList, gooReturnList)\n",
    "    fundFiveYear = fundEDayFun(initialFund, comReturn, yearIndexList)\n",
    "    result = []\n",
    "    for i in range(5):\n",
    "        temp = finMaxMin(fundFiveYear[i])\n",
    "        print(temp.final, temp.max, temp.min)\n",
    "    \n",
    "    \n",
    "    "
   ]
  }
 ],
 "metadata": {
  "kernelspec": {
   "display_name": "Python 3",
   "language": "python",
   "name": "python3"
  },
  "language_info": {
   "codemirror_mode": {
    "name": "ipython",
    "version": 3
   },
   "file_extension": ".py",
   "mimetype": "text/x-python",
   "name": "python",
   "nbconvert_exporter": "python",
   "pygments_lexer": "ipython3",
   "version": "3.8.8"
  }
 },
 "nbformat": 4,
 "nbformat_minor": 5
}
